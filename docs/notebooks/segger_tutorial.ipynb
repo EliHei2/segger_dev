{
 "cells": [
  {
   "cell_type": "code",
   "execution_count": 1,
   "id": "0d7448cb-5bb9-4100-b3c3-ed4edfe43fcd",
   "metadata": {
    "execution": {
     "iopub.execute_input": "2024-09-11T20:05:03.953629Z",
     "iopub.status.busy": "2024-09-11T20:05:03.953247Z",
     "iopub.status.idle": "2024-09-11T20:05:03.976045Z",
     "shell.execute_reply": "2024-09-11T20:05:03.975667Z",
     "shell.execute_reply.started": "2024-09-11T20:05:03.953610Z"
    }
   },
   "outputs": [],
   "source": [
    "%load_ext autoreload\n",
    "%autoreload 2"
   ]
  },
  {
   "cell_type": "markdown",
   "id": "e363600f-0766-46e2-943c-f070c62f0542",
   "metadata": {},
   "source": [
    "# Segger Minimal Example"
   ]
  },
  {
   "cell_type": "code",
   "execution_count": 2,
   "id": "546982ee-2cee-4a66-9086-435d0cde0167",
   "metadata": {
    "execution": {
     "iopub.execute_input": "2024-09-11T20:05:03.977037Z",
     "iopub.status.busy": "2024-09-11T20:05:03.976762Z",
     "iopub.status.idle": "2024-09-11T20:05:54.059292Z",
     "shell.execute_reply": "2024-09-11T20:05:54.058843Z",
     "shell.execute_reply.started": "2024-09-11T20:05:03.977022Z"
    }
   },
   "outputs": [],
   "source": [
    "from segger.data.io import XeniumSample\n",
    "from segger.training.train import LitSegger\n",
    "from segger.training.segger_data_module import SeggerDataModule\n",
    "from lightning.pytorch.loggers import CSVLogger\n",
    "from pytorch_lightning import Trainer\n",
    "from pathlib import Path\n",
    "from lightning.pytorch.plugins.environments import LightningEnvironment"
   ]
  },
  {
   "cell_type": "code",
   "execution_count": 3,
   "id": "53724a12-4d87-43f9-937e-9b3754e20016",
   "metadata": {
    "execution": {
     "iopub.execute_input": "2024-09-11T20:05:54.061553Z",
     "iopub.status.busy": "2024-09-11T20:05:54.059967Z",
     "iopub.status.idle": "2024-09-11T20:05:55.977486Z",
     "shell.execute_reply": "2024-09-11T20:05:55.977091Z",
     "shell.execute_reply.started": "2024-09-11T20:05:54.061528Z"
    }
   },
   "outputs": [],
   "source": [
    "from pytorch_lightning.plugins.environments import SLURMEnvironment\n",
    "SLURMEnvironment.detect = lambda: False"
   ]
  },
  {
   "cell_type": "markdown",
   "id": "c2166659-58b3-42c2-8c75-40009250964d",
   "metadata": {},
   "source": [
    "## Create Dataset"
   ]
  },
  {
   "cell_type": "markdown",
   "id": "1721b60a-9183-4859-8cf8-4da2b2103104",
   "metadata": {},
   "source": [
    "Explain things here"
   ]
  },
  {
   "cell_type": "code",
   "execution_count": 4,
   "id": "edd35db3-56e4-4a3e-9309-f83133274d47",
   "metadata": {
    "execution": {
     "iopub.execute_input": "2024-09-11T20:05:55.978818Z",
     "iopub.status.busy": "2024-09-11T20:05:55.978501Z",
     "iopub.status.idle": "2024-09-11T20:05:57.245102Z",
     "shell.execute_reply": "2024-09-11T20:05:57.244695Z",
     "shell.execute_reply.started": "2024-09-11T20:05:55.978803Z"
    }
   },
   "outputs": [],
   "source": [
    "xenium_data_dir = Path('../../dev/tutorial/xenium_data/')\n",
    "segger_data_dir = Path('../../dev/tutorial/segger_data/')"
   ]
  },
  {
   "cell_type": "code",
   "execution_count": 5,
   "id": "e95f1f70-a9b4-429c-af69-fb4cf4204382",
   "metadata": {
    "execution": {
     "iopub.execute_input": "2024-09-11T20:05:57.245956Z",
     "iopub.status.busy": "2024-09-11T20:05:57.245797Z",
     "iopub.status.idle": "2024-09-11T20:05:58.823138Z",
     "shell.execute_reply": "2024-09-11T20:05:58.822700Z",
     "shell.execute_reply.started": "2024-09-11T20:05:57.245941Z"
    }
   },
   "outputs": [],
   "source": [
    "# Setup Xenium sample to create dataset\n",
    "xs = XeniumSample(verbose=False)\n",
    "xs.set_file_paths(\n",
    "    transcripts_path=xenium_data_dir / 'transcripts.parquet',\n",
    "    boundaries_path=xenium_data_dir / 'nucleus_boundaries.parquet',\n",
    ")\n",
    "xs.set_metadata()"
   ]
  },
  {
   "cell_type": "raw",
   "id": "9ce7f49c-d1d5-4664-b7bf-005306079e19",
   "metadata": {
    "execution": {
     "iopub.execute_input": "2024-09-11T20:01:21.521704Z",
     "iopub.status.busy": "2024-09-11T20:01:21.521531Z",
     "iopub.status.idle": "2024-09-11T20:01:23.258606Z",
     "shell.execute_reply": "2024-09-11T20:01:23.258077Z",
     "shell.execute_reply.started": "2024-09-11T20:01:21.521689Z"
    }
   },
   "source": [
    "!rm -r ../../dev/tutorial/segger_data/*"
   ]
  },
  {
   "cell_type": "code",
   "execution_count": 6,
   "id": "c8cf7102-ad9c-4bd0-bbd7-61a1d73abccd",
   "metadata": {
    "execution": {
     "iopub.execute_input": "2024-09-11T20:05:58.824135Z",
     "iopub.status.busy": "2024-09-11T20:05:58.823769Z",
     "iopub.status.idle": "2024-09-11T20:06:00.094650Z",
     "shell.execute_reply": "2024-09-11T20:06:00.094217Z",
     "shell.execute_reply.started": "2024-09-11T20:05:58.824118Z"
    },
    "scrolled": true
   },
   "outputs": [
    {
     "name": "stdout",
     "output_type": "stream",
     "text": [
      "Dataset already exists at ../../dev/tutorial/segger_data\n"
     ]
    }
   ],
   "source": [
    "try:\n",
    "    xs.save_dataset_for_segger(\n",
    "        processed_dir=segger_data_dir,\n",
    "        r_tx=5,\n",
    "        k_tx=30,\n",
    "        receptive_field={'k_bd': 3, 'dist_bd': 20,'k_tx': 30, 'dist_tx': 5},\n",
    "        x_size=500,\n",
    "        y_size=500,\n",
    "        d_x=480,\n",
    "        d_y=480,\n",
    "        margin_x=10,\n",
    "        margin_y=10,\n",
    "    )\n",
    "except AssertionError as err:\n",
    "    print(f'Dataset already exists at {segger_data_dir}')"
   ]
  },
  {
   "cell_type": "markdown",
   "id": "3e34de33-ff66-43f9-a72b-7a997b64e0b2",
   "metadata": {},
   "source": [
    "## Train Segger Model"
   ]
  },
  {
   "cell_type": "markdown",
   "id": "0bd76317-d283-45b0-a364-61f3010489dd",
   "metadata": {},
   "source": [
    "Explain things here"
   ]
  },
  {
   "cell_type": "code",
   "execution_count": 7,
   "id": "4db89cb4-d0eb-426a-a71f-d127926fa412",
   "metadata": {
    "execution": {
     "iopub.execute_input": "2024-09-11T20:06:00.095402Z",
     "iopub.status.busy": "2024-09-11T20:06:00.095239Z",
     "iopub.status.idle": "2024-09-11T20:06:01.397131Z",
     "shell.execute_reply": "2024-09-11T20:06:01.396732Z",
     "shell.execute_reply.started": "2024-09-11T20:06:00.095387Z"
    }
   },
   "outputs": [],
   "source": [
    "# Base directory to store Pytorch Lightning models\n",
    "models_dir = Path('../../dev/tutorial/models/')"
   ]
  },
  {
   "cell_type": "code",
   "execution_count": 8,
   "id": "f481b6a9-c49c-425e-ab5b-1ae8aba8dc45",
   "metadata": {
    "execution": {
     "iopub.execute_input": "2024-09-11T20:06:01.398202Z",
     "iopub.status.busy": "2024-09-11T20:06:01.397830Z",
     "iopub.status.idle": "2024-09-11T20:06:02.764928Z",
     "shell.execute_reply": "2024-09-11T20:06:02.764490Z",
     "shell.execute_reply.started": "2024-09-11T20:06:01.398175Z"
    }
   },
   "outputs": [
    {
     "name": "stderr",
     "output_type": "stream",
     "text": [
      "/lilac/data/peer/moormana/.micromamba/envs/segger-rapids-11.8/lib/python3.11/site-packages/torch/overrides.py:110: UserWarning: 'has_cuda' is deprecated, please use 'torch.backends.cuda.is_built()'\n",
      "  torch.has_cuda,\n",
      "/lilac/data/peer/moormana/.micromamba/envs/segger-rapids-11.8/lib/python3.11/site-packages/torch/overrides.py:111: UserWarning: 'has_cudnn' is deprecated, please use 'torch.backends.cudnn.is_available()'\n",
      "  torch.has_cudnn,\n",
      "/lilac/data/peer/moormana/.micromamba/envs/segger-rapids-11.8/lib/python3.11/site-packages/torch/overrides.py:117: UserWarning: 'has_mps' is deprecated, please use 'torch.backends.mps.is_built()'\n",
      "  torch.has_mps,\n",
      "/lilac/data/peer/moormana/.micromamba/envs/segger-rapids-11.8/lib/python3.11/site-packages/torch/overrides.py:118: UserWarning: 'has_mkldnn' is deprecated, please use 'torch.backends.mkldnn.is_available()'\n",
      "  torch.has_mkldnn,\n"
     ]
    }
   ],
   "source": [
    "# Initialize the Lightning model\n",
    "metadata = ([\"tx\", \"bd\"], [(\"tx\", \"belongs\", \"bd\"), (\"tx\", \"neighbors\", \"tx\")])\n",
    "ls = LitSegger(\n",
    "    num_tx_tokens=500,\n",
    "    init_emb=8,\n",
    "    hidden_channels=32,\n",
    "    out_channels=8,\n",
    "    heads=2,\n",
    "    num_mid_layers=2,\n",
    "    aggr='sum',\n",
    "    metadata=metadata,\n",
    ")"
   ]
  },
  {
   "cell_type": "code",
   "execution_count": 9,
   "id": "411174d7-3380-482e-8a20-e1ee2a9dc804",
   "metadata": {
    "execution": {
     "iopub.execute_input": "2024-09-11T20:06:02.766055Z",
     "iopub.status.busy": "2024-09-11T20:06:02.765629Z",
     "iopub.status.idle": "2024-09-11T20:06:03.995053Z",
     "shell.execute_reply": "2024-09-11T20:06:03.994675Z",
     "shell.execute_reply.started": "2024-09-11T20:06:02.766030Z"
    }
   },
   "outputs": [],
   "source": [
    "# Initialize the Lightning data module\n",
    "dm = SeggerDataModule(\n",
    "    data_dir=segger_data_dir,\n",
    "    batch_size=1,  # explain other options above\n",
    "    num_workers=4,  # explain other options above\n",
    ")"
   ]
  },
  {
   "cell_type": "code",
   "execution_count": 10,
   "id": "ae339780-dec7-4ebc-9918-af4e94a0d3d6",
   "metadata": {
    "execution": {
     "iopub.execute_input": "2024-09-11T20:06:03.997005Z",
     "iopub.status.busy": "2024-09-11T20:06:03.996732Z",
     "iopub.status.idle": "2024-09-11T20:06:05.440729Z",
     "shell.execute_reply": "2024-09-11T20:06:05.440327Z",
     "shell.execute_reply.started": "2024-09-11T20:06:03.996989Z"
    }
   },
   "outputs": [
    {
     "name": "stderr",
     "output_type": "stream",
     "text": [
      "Using 16bit Automatic Mixed Precision (AMP)\n",
      "GPU available: True (cuda), used: True\n",
      "TPU available: False, using: 0 TPU cores\n",
      "HPU available: False, using: 0 HPUs\n"
     ]
    }
   ],
   "source": [
    "# Initialize the Lightning trainer\n",
    "trainer = Trainer(\n",
    "    accelerator='cuda',  # explain other options above\n",
    "    strategy='auto',\n",
    "    precision='16-mixed',\n",
    "    devices=1,  # explain other options above\n",
    "    max_epochs=200,  # explain other options above\n",
    "    default_root_dir=models_dir,\n",
    "    logger=CSVLogger(models_dir),\n",
    ")"
   ]
  },
  {
   "cell_type": "code",
   "execution_count": null,
   "id": "207864b8-7e52-4add-a4a2-e95a4debdc06",
   "metadata": {
    "execution": {
     "iopub.execute_input": "2024-09-11T20:06:05.441724Z",
     "iopub.status.busy": "2024-09-11T20:06:05.441372Z"
    },
    "scrolled": true
   },
   "outputs": [
    {
     "name": "stderr",
     "output_type": "stream",
     "text": [
      "You are using a CUDA device ('NVIDIA A100 80GB PCIe MIG 2g.20gb') that has Tensor Cores. To properly utilize them, you should set `torch.set_float32_matmul_precision('medium' | 'high')` which will trade-off precision for performance. For more details, read https://pytorch.org/docs/stable/generated/torch.set_float32_matmul_precision.html#torch.set_float32_matmul_precision\n",
      "Processing...\n",
      "Done!\n",
      "LOCAL_RANK: 0 - CUDA_VISIBLE_DEVICES: [MIG-9b1ee058-0b73-52d6-b909-b056af809b4b,MIG-e8861a3f-0f14-562d-ad70-c9f56ba1db06,MIG-e9c80ed6-e922-5f99-84ba-fd31a06f7f82,MIG-ddac4c2a-2ccf-5d86-be01-c9e27dd3cd76]\n",
      "/lilac/data/peer/moormana/.micromamba/envs/segger-rapids-11.8/lib/python3.11/site-packages/pytorch_lightning/utilities/model_summary/model_summary.py:477: The total number of parameters detected may be inaccurate because the model contains an instance of `UninitializedParameter`. To get an accurate number, set `self.example_input_array` in your LightningModule.\n",
      "\n",
      "  | Name      | Type              | Params | Mode \n",
      "--------------------------------------------------------\n",
      "0 | model     | GraphModule       | 9.7 K  | train\n",
      "1 | criterion | BCEWithLogitsLoss | 0      | train\n",
      "--------------------------------------------------------\n",
      "9.7 K     Trainable params\n",
      "0         Non-trainable params\n",
      "9.7 K     Total params\n",
      "0.039     Total estimated model params size (MB)\n",
      "45        Modules in train mode\n",
      "0         Modules in eval mode\n"
     ]
    },
    {
     "data": {
      "application/vnd.jupyter.widget-view+json": {
       "model_id": "",
       "version_major": 2,
       "version_minor": 0
      },
      "text/plain": [
       "Sanity Checking: |          | 0/? [00:00<?, ?it/s]"
      ]
     },
     "metadata": {},
     "output_type": "display_data"
    },
    {
     "name": "stderr",
     "output_type": "stream",
     "text": [
      "/lilac/data/peer/moormana/.micromamba/envs/segger-rapids-11.8/lib/python3.11/site-packages/pytorch_lightning/loops/fit_loop.py:298: The number of training batches (8) is smaller than the logging interval Trainer(log_every_n_steps=50). Set a lower value for log_every_n_steps if you want to see logs for the training epoch.\n"
     ]
    },
    {
     "data": {
      "application/vnd.jupyter.widget-view+json": {
       "model_id": "40120ea2ac29414ead3d0aa411aaa602",
       "version_major": 2,
       "version_minor": 0
      },
      "text/plain": [
       "Training: |          | 0/? [00:00<?, ?it/s]"
      ]
     },
     "metadata": {},
     "output_type": "display_data"
    },
    {
     "data": {
      "application/vnd.jupyter.widget-view+json": {
       "model_id": "",
       "version_major": 2,
       "version_minor": 0
      },
      "text/plain": [
       "Validation: |          | 0/? [00:00<?, ?it/s]"
      ]
     },
     "metadata": {},
     "output_type": "display_data"
    },
    {
     "data": {
      "application/vnd.jupyter.widget-view+json": {
       "model_id": "",
       "version_major": 2,
       "version_minor": 0
      },
      "text/plain": [
       "Validation: |          | 0/? [00:00<?, ?it/s]"
      ]
     },
     "metadata": {},
     "output_type": "display_data"
    },
    {
     "data": {
      "application/vnd.jupyter.widget-view+json": {
       "model_id": "",
       "version_major": 2,
       "version_minor": 0
      },
      "text/plain": [
       "Validation: |          | 0/? [00:00<?, ?it/s]"
      ]
     },
     "metadata": {},
     "output_type": "display_data"
    },
    {
     "data": {
      "application/vnd.jupyter.widget-view+json": {
       "model_id": "",
       "version_major": 2,
       "version_minor": 0
      },
      "text/plain": [
       "Validation: |          | 0/? [00:00<?, ?it/s]"
      ]
     },
     "metadata": {},
     "output_type": "display_data"
    },
    {
     "data": {
      "application/vnd.jupyter.widget-view+json": {
       "model_id": "",
       "version_major": 2,
       "version_minor": 0
      },
      "text/plain": [
       "Validation: |          | 0/? [00:00<?, ?it/s]"
      ]
     },
     "metadata": {},
     "output_type": "display_data"
    },
    {
     "data": {
      "application/vnd.jupyter.widget-view+json": {
       "model_id": "",
       "version_major": 2,
       "version_minor": 0
      },
      "text/plain": [
       "Validation: |          | 0/? [00:00<?, ?it/s]"
      ]
     },
     "metadata": {},
     "output_type": "display_data"
    },
    {
     "data": {
      "application/vnd.jupyter.widget-view+json": {
       "model_id": "",
       "version_major": 2,
       "version_minor": 0
      },
      "text/plain": [
       "Validation: |          | 0/? [00:00<?, ?it/s]"
      ]
     },
     "metadata": {},
     "output_type": "display_data"
    },
    {
     "data": {
      "application/vnd.jupyter.widget-view+json": {
       "model_id": "",
       "version_major": 2,
       "version_minor": 0
      },
      "text/plain": [
       "Validation: |          | 0/? [00:00<?, ?it/s]"
      ]
     },
     "metadata": {},
     "output_type": "display_data"
    },
    {
     "data": {
      "application/vnd.jupyter.widget-view+json": {
       "model_id": "",
       "version_major": 2,
       "version_minor": 0
      },
      "text/plain": [
       "Validation: |          | 0/? [00:00<?, ?it/s]"
      ]
     },
     "metadata": {},
     "output_type": "display_data"
    },
    {
     "data": {
      "application/vnd.jupyter.widget-view+json": {
       "model_id": "",
       "version_major": 2,
       "version_minor": 0
      },
      "text/plain": [
       "Validation: |          | 0/? [00:00<?, ?it/s]"
      ]
     },
     "metadata": {},
     "output_type": "display_data"
    },
    {
     "data": {
      "application/vnd.jupyter.widget-view+json": {
       "model_id": "",
       "version_major": 2,
       "version_minor": 0
      },
      "text/plain": [
       "Validation: |          | 0/? [00:00<?, ?it/s]"
      ]
     },
     "metadata": {},
     "output_type": "display_data"
    },
    {
     "data": {
      "application/vnd.jupyter.widget-view+json": {
       "model_id": "",
       "version_major": 2,
       "version_minor": 0
      },
      "text/plain": [
       "Validation: |          | 0/? [00:00<?, ?it/s]"
      ]
     },
     "metadata": {},
     "output_type": "display_data"
    },
    {
     "data": {
      "application/vnd.jupyter.widget-view+json": {
       "model_id": "",
       "version_major": 2,
       "version_minor": 0
      },
      "text/plain": [
       "Validation: |          | 0/? [00:00<?, ?it/s]"
      ]
     },
     "metadata": {},
     "output_type": "display_data"
    },
    {
     "data": {
      "application/vnd.jupyter.widget-view+json": {
       "model_id": "",
       "version_major": 2,
       "version_minor": 0
      },
      "text/plain": [
       "Validation: |          | 0/? [00:00<?, ?it/s]"
      ]
     },
     "metadata": {},
     "output_type": "display_data"
    },
    {
     "data": {
      "application/vnd.jupyter.widget-view+json": {
       "model_id": "",
       "version_major": 2,
       "version_minor": 0
      },
      "text/plain": [
       "Validation: |          | 0/? [00:00<?, ?it/s]"
      ]
     },
     "metadata": {},
     "output_type": "display_data"
    },
    {
     "data": {
      "application/vnd.jupyter.widget-view+json": {
       "model_id": "",
       "version_major": 2,
       "version_minor": 0
      },
      "text/plain": [
       "Validation: |          | 0/? [00:00<?, ?it/s]"
      ]
     },
     "metadata": {},
     "output_type": "display_data"
    },
    {
     "data": {
      "application/vnd.jupyter.widget-view+json": {
       "model_id": "",
       "version_major": 2,
       "version_minor": 0
      },
      "text/plain": [
       "Validation: |          | 0/? [00:00<?, ?it/s]"
      ]
     },
     "metadata": {},
     "output_type": "display_data"
    },
    {
     "data": {
      "application/vnd.jupyter.widget-view+json": {
       "model_id": "",
       "version_major": 2,
       "version_minor": 0
      },
      "text/plain": [
       "Validation: |          | 0/? [00:00<?, ?it/s]"
      ]
     },
     "metadata": {},
     "output_type": "display_data"
    },
    {
     "data": {
      "application/vnd.jupyter.widget-view+json": {
       "model_id": "",
       "version_major": 2,
       "version_minor": 0
      },
      "text/plain": [
       "Validation: |          | 0/? [00:00<?, ?it/s]"
      ]
     },
     "metadata": {},
     "output_type": "display_data"
    },
    {
     "data": {
      "application/vnd.jupyter.widget-view+json": {
       "model_id": "",
       "version_major": 2,
       "version_minor": 0
      },
      "text/plain": [
       "Validation: |          | 0/? [00:00<?, ?it/s]"
      ]
     },
     "metadata": {},
     "output_type": "display_data"
    },
    {
     "data": {
      "application/vnd.jupyter.widget-view+json": {
       "model_id": "",
       "version_major": 2,
       "version_minor": 0
      },
      "text/plain": [
       "Validation: |          | 0/? [00:00<?, ?it/s]"
      ]
     },
     "metadata": {},
     "output_type": "display_data"
    },
    {
     "data": {
      "application/vnd.jupyter.widget-view+json": {
       "model_id": "",
       "version_major": 2,
       "version_minor": 0
      },
      "text/plain": [
       "Validation: |          | 0/? [00:00<?, ?it/s]"
      ]
     },
     "metadata": {},
     "output_type": "display_data"
    },
    {
     "data": {
      "application/vnd.jupyter.widget-view+json": {
       "model_id": "",
       "version_major": 2,
       "version_minor": 0
      },
      "text/plain": [
       "Validation: |          | 0/? [00:00<?, ?it/s]"
      ]
     },
     "metadata": {},
     "output_type": "display_data"
    },
    {
     "data": {
      "application/vnd.jupyter.widget-view+json": {
       "model_id": "",
       "version_major": 2,
       "version_minor": 0
      },
      "text/plain": [
       "Validation: |          | 0/? [00:00<?, ?it/s]"
      ]
     },
     "metadata": {},
     "output_type": "display_data"
    },
    {
     "data": {
      "application/vnd.jupyter.widget-view+json": {
       "model_id": "",
       "version_major": 2,
       "version_minor": 0
      },
      "text/plain": [
       "Validation: |          | 0/? [00:00<?, ?it/s]"
      ]
     },
     "metadata": {},
     "output_type": "display_data"
    },
    {
     "data": {
      "application/vnd.jupyter.widget-view+json": {
       "model_id": "",
       "version_major": 2,
       "version_minor": 0
      },
      "text/plain": [
       "Validation: |          | 0/? [00:00<?, ?it/s]"
      ]
     },
     "metadata": {},
     "output_type": "display_data"
    },
    {
     "data": {
      "application/vnd.jupyter.widget-view+json": {
       "model_id": "",
       "version_major": 2,
       "version_minor": 0
      },
      "text/plain": [
       "Validation: |          | 0/? [00:00<?, ?it/s]"
      ]
     },
     "metadata": {},
     "output_type": "display_data"
    },
    {
     "data": {
      "application/vnd.jupyter.widget-view+json": {
       "model_id": "",
       "version_major": 2,
       "version_minor": 0
      },
      "text/plain": [
       "Validation: |          | 0/? [00:00<?, ?it/s]"
      ]
     },
     "metadata": {},
     "output_type": "display_data"
    },
    {
     "data": {
      "application/vnd.jupyter.widget-view+json": {
       "model_id": "",
       "version_major": 2,
       "version_minor": 0
      },
      "text/plain": [
       "Validation: |          | 0/? [00:00<?, ?it/s]"
      ]
     },
     "metadata": {},
     "output_type": "display_data"
    },
    {
     "data": {
      "application/vnd.jupyter.widget-view+json": {
       "model_id": "",
       "version_major": 2,
       "version_minor": 0
      },
      "text/plain": [
       "Validation: |          | 0/? [00:00<?, ?it/s]"
      ]
     },
     "metadata": {},
     "output_type": "display_data"
    },
    {
     "data": {
      "application/vnd.jupyter.widget-view+json": {
       "model_id": "",
       "version_major": 2,
       "version_minor": 0
      },
      "text/plain": [
       "Validation: |          | 0/? [00:00<?, ?it/s]"
      ]
     },
     "metadata": {},
     "output_type": "display_data"
    },
    {
     "data": {
      "application/vnd.jupyter.widget-view+json": {
       "model_id": "",
       "version_major": 2,
       "version_minor": 0
      },
      "text/plain": [
       "Validation: |          | 0/? [00:00<?, ?it/s]"
      ]
     },
     "metadata": {},
     "output_type": "display_data"
    },
    {
     "data": {
      "application/vnd.jupyter.widget-view+json": {
       "model_id": "",
       "version_major": 2,
       "version_minor": 0
      },
      "text/plain": [
       "Validation: |          | 0/? [00:00<?, ?it/s]"
      ]
     },
     "metadata": {},
     "output_type": "display_data"
    },
    {
     "data": {
      "application/vnd.jupyter.widget-view+json": {
       "model_id": "",
       "version_major": 2,
       "version_minor": 0
      },
      "text/plain": [
       "Validation: |          | 0/? [00:00<?, ?it/s]"
      ]
     },
     "metadata": {},
     "output_type": "display_data"
    },
    {
     "data": {
      "application/vnd.jupyter.widget-view+json": {
       "model_id": "",
       "version_major": 2,
       "version_minor": 0
      },
      "text/plain": [
       "Validation: |          | 0/? [00:00<?, ?it/s]"
      ]
     },
     "metadata": {},
     "output_type": "display_data"
    },
    {
     "data": {
      "application/vnd.jupyter.widget-view+json": {
       "model_id": "",
       "version_major": 2,
       "version_minor": 0
      },
      "text/plain": [
       "Validation: |          | 0/? [00:00<?, ?it/s]"
      ]
     },
     "metadata": {},
     "output_type": "display_data"
    },
    {
     "data": {
      "application/vnd.jupyter.widget-view+json": {
       "model_id": "",
       "version_major": 2,
       "version_minor": 0
      },
      "text/plain": [
       "Validation: |          | 0/? [00:00<?, ?it/s]"
      ]
     },
     "metadata": {},
     "output_type": "display_data"
    },
    {
     "data": {
      "application/vnd.jupyter.widget-view+json": {
       "model_id": "",
       "version_major": 2,
       "version_minor": 0
      },
      "text/plain": [
       "Validation: |          | 0/? [00:00<?, ?it/s]"
      ]
     },
     "metadata": {},
     "output_type": "display_data"
    },
    {
     "data": {
      "application/vnd.jupyter.widget-view+json": {
       "model_id": "",
       "version_major": 2,
       "version_minor": 0
      },
      "text/plain": [
       "Validation: |          | 0/? [00:00<?, ?it/s]"
      ]
     },
     "metadata": {},
     "output_type": "display_data"
    },
    {
     "data": {
      "application/vnd.jupyter.widget-view+json": {
       "model_id": "",
       "version_major": 2,
       "version_minor": 0
      },
      "text/plain": [
       "Validation: |          | 0/? [00:00<?, ?it/s]"
      ]
     },
     "metadata": {},
     "output_type": "display_data"
    },
    {
     "data": {
      "application/vnd.jupyter.widget-view+json": {
       "model_id": "",
       "version_major": 2,
       "version_minor": 0
      },
      "text/plain": [
       "Validation: |          | 0/? [00:00<?, ?it/s]"
      ]
     },
     "metadata": {},
     "output_type": "display_data"
    },
    {
     "data": {
      "application/vnd.jupyter.widget-view+json": {
       "model_id": "",
       "version_major": 2,
       "version_minor": 0
      },
      "text/plain": [
       "Validation: |          | 0/? [00:00<?, ?it/s]"
      ]
     },
     "metadata": {},
     "output_type": "display_data"
    },
    {
     "data": {
      "application/vnd.jupyter.widget-view+json": {
       "model_id": "",
       "version_major": 2,
       "version_minor": 0
      },
      "text/plain": [
       "Validation: |          | 0/? [00:00<?, ?it/s]"
      ]
     },
     "metadata": {},
     "output_type": "display_data"
    },
    {
     "data": {
      "application/vnd.jupyter.widget-view+json": {
       "model_id": "",
       "version_major": 2,
       "version_minor": 0
      },
      "text/plain": [
       "Validation: |          | 0/? [00:00<?, ?it/s]"
      ]
     },
     "metadata": {},
     "output_type": "display_data"
    },
    {
     "data": {
      "application/vnd.jupyter.widget-view+json": {
       "model_id": "",
       "version_major": 2,
       "version_minor": 0
      },
      "text/plain": [
       "Validation: |          | 0/? [00:00<?, ?it/s]"
      ]
     },
     "metadata": {},
     "output_type": "display_data"
    },
    {
     "data": {
      "application/vnd.jupyter.widget-view+json": {
       "model_id": "",
       "version_major": 2,
       "version_minor": 0
      },
      "text/plain": [
       "Validation: |          | 0/? [00:00<?, ?it/s]"
      ]
     },
     "metadata": {},
     "output_type": "display_data"
    },
    {
     "data": {
      "application/vnd.jupyter.widget-view+json": {
       "model_id": "f8f4e43d708e404f8b6f7f11c6bf909c",
       "version_major": 2,
       "version_minor": 0
      },
      "text/plain": [
       "Validation: |          | 0/? [00:00<?, ?it/s]"
      ]
     },
     "metadata": {},
     "output_type": "display_data"
    },
    {
     "data": {
      "application/vnd.jupyter.widget-view+json": {
       "model_id": "e3e7af9055f5491a85401e5cf595a412",
       "version_major": 2,
       "version_minor": 0
      },
      "text/plain": [
       "Validation: |          | 0/? [00:00<?, ?it/s]"
      ]
     },
     "metadata": {},
     "output_type": "display_data"
    },
    {
     "data": {
      "application/vnd.jupyter.widget-view+json": {
       "model_id": "9f4cc06ff7804d37b5be95c843a7abfc",
       "version_major": 2,
       "version_minor": 0
      },
      "text/plain": [
       "Validation: |          | 0/? [00:00<?, ?it/s]"
      ]
     },
     "metadata": {},
     "output_type": "display_data"
    },
    {
     "data": {
      "application/vnd.jupyter.widget-view+json": {
       "model_id": "32f6e3379d3e40489188802fc2a30247",
       "version_major": 2,
       "version_minor": 0
      },
      "text/plain": [
       "Validation: |          | 0/? [00:00<?, ?it/s]"
      ]
     },
     "metadata": {},
     "output_type": "display_data"
    },
    {
     "data": {
      "application/vnd.jupyter.widget-view+json": {
       "model_id": "df007ce7454c4a7bbf0d1a7c23917237",
       "version_major": 2,
       "version_minor": 0
      },
      "text/plain": [
       "Validation: |          | 0/? [00:00<?, ?it/s]"
      ]
     },
     "metadata": {},
     "output_type": "display_data"
    },
    {
     "data": {
      "application/vnd.jupyter.widget-view+json": {
       "model_id": "40ba2829d09d4cf3ac450183b374bcef",
       "version_major": 2,
       "version_minor": 0
      },
      "text/plain": [
       "Validation: |          | 0/? [00:00<?, ?it/s]"
      ]
     },
     "metadata": {},
     "output_type": "display_data"
    },
    {
     "data": {
      "application/vnd.jupyter.widget-view+json": {
       "model_id": "0929ad0c21374f7aa930f6aed88876d8",
       "version_major": 2,
       "version_minor": 0
      },
      "text/plain": [
       "Validation: |          | 0/? [00:00<?, ?it/s]"
      ]
     },
     "metadata": {},
     "output_type": "display_data"
    },
    {
     "data": {
      "application/vnd.jupyter.widget-view+json": {
       "model_id": "bf98775dc4fb495d9fd0a7fb5fbf519a",
       "version_major": 2,
       "version_minor": 0
      },
      "text/plain": [
       "Validation: |          | 0/? [00:00<?, ?it/s]"
      ]
     },
     "metadata": {},
     "output_type": "display_data"
    },
    {
     "data": {
      "application/vnd.jupyter.widget-view+json": {
       "model_id": "963d447e2d03404d9072dc8d2f160c88",
       "version_major": 2,
       "version_minor": 0
      },
      "text/plain": [
       "Validation: |          | 0/? [00:00<?, ?it/s]"
      ]
     },
     "metadata": {},
     "output_type": "display_data"
    },
    {
     "data": {
      "application/vnd.jupyter.widget-view+json": {
       "model_id": "bfde0ec07b15451ebd10b93a5e840a8e",
       "version_major": 2,
       "version_minor": 0
      },
      "text/plain": [
       "Validation: |          | 0/? [00:00<?, ?it/s]"
      ]
     },
     "metadata": {},
     "output_type": "display_data"
    },
    {
     "data": {
      "application/vnd.jupyter.widget-view+json": {
       "model_id": "2a33885745664586893882fe45c06420",
       "version_major": 2,
       "version_minor": 0
      },
      "text/plain": [
       "Validation: |          | 0/? [00:00<?, ?it/s]"
      ]
     },
     "metadata": {},
     "output_type": "display_data"
    },
    {
     "data": {
      "application/vnd.jupyter.widget-view+json": {
       "model_id": "96ed2ce4c0c74da8a250f6feb244eb06",
       "version_major": 2,
       "version_minor": 0
      },
      "text/plain": [
       "Validation: |          | 0/? [00:00<?, ?it/s]"
      ]
     },
     "metadata": {},
     "output_type": "display_data"
    }
   ],
   "source": [
    "# Fit model\n",
    "trainer.fit(model=ls, datamodule=dm)"
   ]
  },
  {
   "cell_type": "code",
   "execution_count": null,
   "id": "43a9c1a4-3898-407d-ac0f-f98b13694593",
   "metadata": {},
   "outputs": [],
   "source": [
    "# Evaluate results\n",
    "# Explain what we expect to see here\n",
    "model_version = 44026  # from training output above\n",
    "model_path = models_dir / 'lightning_logs' / f'version_{model_version}'\n",
    "metrics = pd.read_csv(model_path / 'metrics.csv', index_col=1)\n",
    "\n",
    "fig, ax = plt.subplots(1,1, figsize=(2,2))\n",
    "\n",
    "for col in metrics.columns.difference(['epoch']):\n",
    "    metric = metrics[col].dropna()\n",
    "    ax.plot(\n",
    "        metric.index,\n",
    "        metric.values,\n",
    "        label=col,\n",
    "    )\n",
    "ax.legend(loc=(1, 0.33))\n",
    "ax.set_ylim(0, 1)\n",
    "ax.set_xlabel('Step')"
   ]
  },
  {
   "cell_type": "markdown",
   "id": "821700cf-62c9-41d2-97f1-75a82e2e32be",
   "metadata": {},
   "source": [
    "## Predict Segmentation Assignments"
   ]
  },
  {
   "cell_type": "markdown",
   "id": "1670aa17-831f-423a-af85-9384c37b92a8",
   "metadata": {},
   "source": [
    "Explain things here"
   ]
  },
  {
   "cell_type": "code",
   "execution_count": 11,
   "id": "a18f9ddc-45ec-43f4-b1d4-51040534f2ff",
   "metadata": {
    "execution": {
     "iopub.execute_input": "2024-09-11T19:47:29.679202Z",
     "iopub.status.busy": "2024-09-11T19:47:29.678995Z",
     "iopub.status.idle": "2024-09-11T19:47:31.314606Z",
     "shell.execute_reply": "2024-09-11T19:47:31.314200Z",
     "shell.execute_reply.started": "2024-09-11T19:47:29.679189Z"
    }
   },
   "outputs": [],
   "source": [
    "from segger.prediction.predict import predict, load_model"
   ]
  },
  {
   "cell_type": "code",
   "execution_count": 12,
   "id": "d4279c71-4660-46fc-a9e5-834e25d31f53",
   "metadata": {
    "execution": {
     "iopub.execute_input": "2024-09-11T19:47:31.315517Z",
     "iopub.status.busy": "2024-09-11T19:47:31.315159Z",
     "iopub.status.idle": "2024-09-11T19:47:33.824564Z",
     "shell.execute_reply": "2024-09-11T19:47:33.824139Z",
     "shell.execute_reply.started": "2024-09-11T19:47:31.315502Z"
    }
   },
   "outputs": [],
   "source": [
    "# Checkpoint directory for Lightning model above\n",
    "model_version = 44026  # from training output above\n",
    "model_path = models_dir / 'lightning_logs' / f'version_{model_version}'\n",
    "model = load_model(model_path / 'checkpoints')"
   ]
  },
  {
   "cell_type": "code",
   "execution_count": 13,
   "id": "4f3c0a87-0504-43be-a885-6183a3e849b0",
   "metadata": {
    "execution": {
     "iopub.execute_input": "2024-09-11T19:47:33.825473Z",
     "iopub.status.busy": "2024-09-11T19:47:33.825154Z",
     "iopub.status.idle": "2024-09-11T19:47:34.901842Z",
     "shell.execute_reply": "2024-09-11T19:47:34.901450Z",
     "shell.execute_reply.started": "2024-09-11T19:47:33.825458Z"
    }
   },
   "outputs": [
    {
     "name": "stderr",
     "output_type": "stream",
     "text": [
      "Processing...\n",
      "Done!\n"
     ]
    }
   ],
   "source": [
    "dm.setup()"
   ]
  },
  {
   "cell_type": "code",
   "execution_count": 21,
   "id": "073a3481-9bb8-459b-9d73-d3d35ea8dfd6",
   "metadata": {
    "execution": {
     "iopub.execute_input": "2024-09-11T19:56:38.535742Z",
     "iopub.status.busy": "2024-09-11T19:56:38.535344Z",
     "iopub.status.idle": "2024-09-11T19:56:51.802921Z",
     "shell.execute_reply": "2024-09-11T19:56:51.802450Z",
     "shell.execute_reply.started": "2024-09-11T19:56:38.535724Z"
    }
   },
   "outputs": [
    {
     "name": "stderr",
     "output_type": "stream",
     "text": [
      "100%|██████████| 7/7 [00:11<00:00,  1.68s/it]\n"
     ]
    }
   ],
   "source": [
    "segmentation = predict(\n",
    "    model,\n",
    "    dm.train_dataloader(),\n",
    "    score_cut = 0.5,\n",
    "    receptive_field={'k_bd': 5, 'dist_bd': 20, 'k_tx': 15, 'dist_tx': 5},\n",
    "    use_cc = False,\n",
    ")"
   ]
  },
  {
   "cell_type": "code",
   "execution_count": 24,
   "id": "a450d3ca-2876-4f48-be89-761147b17387",
   "metadata": {
    "execution": {
     "iopub.execute_input": "2024-09-11T19:57:34.875534Z",
     "iopub.status.busy": "2024-09-11T19:57:34.875164Z",
     "iopub.status.idle": "2024-09-11T19:57:36.679390Z",
     "shell.execute_reply": "2024-09-11T19:57:36.678957Z",
     "shell.execute_reply.started": "2024-09-11T19:57:34.875517Z"
    }
   },
   "outputs": [
    {
     "data": {
      "text/plain": [
       "<Axes: xlabel='score', ylabel='Count'>"
      ]
     },
     "execution_count": 24,
     "metadata": {},
     "output_type": "execute_result"
    },
    {
     "data": {
      "image/png": "[encoded data removed]",
      "text/plain": [
       "<Figure size 640x480 with 1 Axes>"
      ]
     },
     "metadata": {},
     "output_type": "display_data"
    }
   ],
   "source": [
    "import seaborn as sns\n",
    "sns.histplot(\n",
    "    segmentation['score'],\n",
    ")"
   ]
  },
  {
   "cell_type": "code",
   "execution_count": null,
   "id": "ca7de2db-5b82-44ed-ab38-88d97426d336",
   "metadata": {},
   "outputs": [],
   "source": []
  }
 ],
 "metadata": {
  "kernelspec": {
   "display_name": "Python 3 (ipykernel)",
   "language": "python",
   "name": "python3"
  },
  "language_info": {
   "codemirror_mode": {
    "name": "ipython",
    "version": 3
   },
   "file_extension": ".py",
   "mimetype": "text/x-python",
   "name": "python",
   "nbconvert_exporter": "python",
   "pygments_lexer": "ipython3",
   "version": "3.11.9"
  }
 },
 "nbformat": 4,
 "nbformat_minor": 5
}
