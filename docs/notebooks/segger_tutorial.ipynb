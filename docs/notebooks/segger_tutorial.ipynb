{
 "cells": [
  {
   "cell_type": "code",
   "execution_count": 1,
   "id": "0d7448cb-5bb9-4100-b3c3-ed4edfe43fcd",
   "metadata": {
    "execution": {
     "iopub.execute_input": "2024-09-10T23:17:04.140749Z",
     "iopub.status.busy": "2024-09-10T23:17:04.140356Z",
     "iopub.status.idle": "2024-09-10T23:17:04.194672Z",
     "shell.execute_reply": "2024-09-10T23:17:04.194313Z",
     "shell.execute_reply.started": "2024-09-10T23:17:04.140734Z"
    }
   },
   "outputs": [],
   "source": [
    "%load_ext autoreload\n",
    "%autoreload 2"
   ]
  },
  {
   "cell_type": "markdown",
   "id": "e363600f-0766-46e2-943c-f070c62f0542",
   "metadata": {},
   "source": [
    "# Segger Minimal Example"
   ]
  },
  {
   "cell_type": "code",
   "execution_count": 2,
   "id": "546982ee-2cee-4a66-9086-435d0cde0167",
   "metadata": {
    "execution": {
     "iopub.execute_input": "2024-09-10T23:17:04.195604Z",
     "iopub.status.busy": "2024-09-10T23:17:04.195451Z",
     "iopub.status.idle": "2024-09-10T23:18:15.608514Z",
     "shell.execute_reply": "2024-09-10T23:18:15.608062Z",
     "shell.execute_reply.started": "2024-09-10T23:17:04.195591Z"
    }
   },
   "outputs": [],
   "source": [
    "from segger.data.io import XeniumSample\n",
    "from segger.training.train import LitSegger\n",
    "from segger.training.segger_data_module import SeggerDataModule\n",
    "from lightning.pytorch.loggers import CSVLogger\n",
    "from pytorch_lightning import Trainer\n",
    "from pathlib import Path"
   ]
  },
  {
   "cell_type": "code",
   "execution_count": 3,
   "id": "53724a12-4d87-43f9-937e-9b3754e20016",
   "metadata": {
    "execution": {
     "iopub.execute_input": "2024-09-10T23:18:15.611650Z",
     "iopub.status.busy": "2024-09-10T23:18:15.609289Z",
     "iopub.status.idle": "2024-09-10T23:18:18.345015Z",
     "shell.execute_reply": "2024-09-10T23:18:18.344587Z",
     "shell.execute_reply.started": "2024-09-10T23:18:15.611625Z"
    }
   },
   "outputs": [],
   "source": [
    "from pytorch_lightning.plugins.environments import SLURMEnvironment\n",
    "SLURMEnvironment.detect = lambda: False"
   ]
  },
  {
   "cell_type": "markdown",
   "id": "c2166659-58b3-42c2-8c75-40009250964d",
   "metadata": {},
   "source": [
    "## Create Dataset"
   ]
  },
  {
   "cell_type": "markdown",
   "id": "1721b60a-9183-4859-8cf8-4da2b2103104",
   "metadata": {},
   "source": [
    "Explain things here"
   ]
  },
  {
   "cell_type": "code",
   "execution_count": 147,
   "id": "edd35db3-56e4-4a3e-9309-f83133274d47",
   "metadata": {
    "execution": {
     "iopub.execute_input": "2024-09-11T00:02:42.402003Z",
     "iopub.status.busy": "2024-09-11T00:02:42.401587Z",
     "iopub.status.idle": "2024-09-11T00:02:45.263184Z",
     "shell.execute_reply": "2024-09-11T00:02:45.262803Z",
     "shell.execute_reply.started": "2024-09-11T00:02:42.401988Z"
    }
   },
   "outputs": [],
   "source": [
    "xenium_data_dir = Path('../../dev/tutorial/xenium_data/')\n",
    "segger_data_dir = Path('../../dev/tutorial/segger_data/')"
   ]
  },
  {
   "cell_type": "code",
   "execution_count": 148,
   "id": "e95f1f70-a9b4-429c-af69-fb4cf4204382",
   "metadata": {
    "execution": {
     "iopub.execute_input": "2024-09-11T00:02:45.264211Z",
     "iopub.status.busy": "2024-09-11T00:02:45.264002Z",
     "iopub.status.idle": "2024-09-11T00:02:48.123379Z",
     "shell.execute_reply": "2024-09-11T00:02:48.122984Z",
     "shell.execute_reply.started": "2024-09-11T00:02:45.264196Z"
    }
   },
   "outputs": [
    {
     "name": "stdout",
     "output_type": "stream",
     "text": [
      "Set transcripts file path to ../../dev/tutorial/xenium_data/transcripts.parquet\n",
      "Set boundaries file path to ../../dev/tutorial/xenium_data/nucleus_boundaries.parquet\n"
     ]
    }
   ],
   "source": [
    "# Setup Xenium sample to create dataset\n",
    "xs = XeniumSample(verbose=True)\n",
    "xs.set_file_paths(\n",
    "    transcripts_path=xenium_data_dir / 'transcripts.parquet',\n",
    "    boundaries_path=xenium_data_dir / 'nucleus_boundaries.parquet',\n",
    ")"
   ]
  },
  {
   "cell_type": "code",
   "execution_count": 171,
   "id": "53ef8fdc-2b74-4cc1-94cb-61b64e4ecb84",
   "metadata": {
    "execution": {
     "iopub.execute_input": "2024-09-11T00:11:56.494098Z",
     "iopub.status.busy": "2024-09-11T00:11:56.493826Z",
     "iopub.status.idle": "2024-09-11T00:11:59.523113Z",
     "shell.execute_reply": "2024-09-11T00:11:59.522587Z",
     "shell.execute_reply.started": "2024-09-11T00:11:56.494082Z"
    }
   },
   "outputs": [],
   "source": [
    "!rm -r ../../dev/tutorial/segger_data/*"
   ]
  },
  {
   "cell_type": "code",
   "execution_count": 172,
   "id": "c8cf7102-ad9c-4bd0-bbd7-61a1d73abccd",
   "metadata": {
    "execution": {
     "iopub.execute_input": "2024-09-11T00:12:53.303861Z",
     "iopub.status.busy": "2024-09-11T00:12:53.303350Z",
     "iopub.status.idle": "2024-09-11T00:13:29.432230Z",
     "shell.execute_reply": "2024-09-11T00:13:29.431809Z",
     "shell.execute_reply.started": "2024-09-11T00:12:53.303840Z"
    },
    "scrolled": true
   },
   "outputs": [
    {
     "name": "stdout",
     "output_type": "stream",
     "text": [
      "[########################################] | 100% Completed | 31.21 s\n"
     ]
    }
   ],
   "source": [
    "try:\n",
    "    xs.save_dataset_for_segger(\n",
    "        processed_dir=segger_data_dir,\n",
    "        r_tx=3,\n",
    "        k_tx=15,\n",
    "        receptive_field={'k_bd': 3, 'dist_bd': 15,'k_tx': 15, 'dist_tx': 3},\n",
    "        x_size=250,\n",
    "        y_size=250,\n",
    "        d_x=250,\n",
    "        d_y=250,\n",
    "        margin_x=10,\n",
    "        margin_y=10,\n",
    "    )\n",
    "except AssertionError as err:\n",
    "    print(f'Dataset already exists at {segger_data_dir}')"
   ]
  },
  {
   "cell_type": "markdown",
   "id": "3e34de33-ff66-43f9-a72b-7a997b64e0b2",
   "metadata": {},
   "source": [
    "## Train Segger Model"
   ]
  },
  {
   "cell_type": "markdown",
   "id": "0bd76317-d283-45b0-a364-61f3010489dd",
   "metadata": {},
   "source": [
    "Explain things here"
   ]
  },
  {
   "cell_type": "code",
   "execution_count": 5,
   "id": "4db89cb4-d0eb-426a-a71f-d127926fa412",
   "metadata": {
    "execution": {
     "iopub.execute_input": "2024-09-10T23:18:21.193333Z",
     "iopub.status.busy": "2024-09-10T23:18:21.192889Z",
     "iopub.status.idle": "2024-09-10T23:18:23.974068Z",
     "shell.execute_reply": "2024-09-10T23:18:23.973643Z",
     "shell.execute_reply.started": "2024-09-10T23:18:21.193307Z"
    }
   },
   "outputs": [],
   "source": [
    "# Base directory to store Pytorch Lightning models\n",
    "models_dir = Path('../../dev/tutorial/models/')"
   ]
  },
  {
   "cell_type": "code",
   "execution_count": 6,
   "id": "f481b6a9-c49c-425e-ab5b-1ae8aba8dc45",
   "metadata": {
    "execution": {
     "iopub.execute_input": "2024-09-10T23:18:23.975044Z",
     "iopub.status.busy": "2024-09-10T23:18:23.974641Z",
     "iopub.status.idle": "2024-09-10T23:18:26.941572Z",
     "shell.execute_reply": "2024-09-10T23:18:26.941169Z",
     "shell.execute_reply.started": "2024-09-10T23:18:23.975028Z"
    }
   },
   "outputs": [
    {
     "name": "stderr",
     "output_type": "stream",
     "text": [
      "/lilac/data/peer/moormana/.micromamba/envs/segger-rapids-11.8/lib/python3.11/site-packages/torch/overrides.py:110: UserWarning: 'has_cuda' is deprecated, please use 'torch.backends.cuda.is_built()'\n",
      "  torch.has_cuda,\n",
      "/lilac/data/peer/moormana/.micromamba/envs/segger-rapids-11.8/lib/python3.11/site-packages/torch/overrides.py:111: UserWarning: 'has_cudnn' is deprecated, please use 'torch.backends.cudnn.is_available()'\n",
      "  torch.has_cudnn,\n",
      "/lilac/data/peer/moormana/.micromamba/envs/segger-rapids-11.8/lib/python3.11/site-packages/torch/overrides.py:117: UserWarning: 'has_mps' is deprecated, please use 'torch.backends.mps.is_built()'\n",
      "  torch.has_mps,\n",
      "/lilac/data/peer/moormana/.micromamba/envs/segger-rapids-11.8/lib/python3.11/site-packages/torch/overrides.py:118: UserWarning: 'has_mkldnn' is deprecated, please use 'torch.backends.mkldnn.is_available()'\n",
      "  torch.has_mkldnn,\n"
     ]
    }
   ],
   "source": [
    "# Initialize the Lightning model\n",
    "metadata = ([\"tx\", \"bd\"], [(\"tx\", \"belongs\", \"bd\"), (\"tx\", \"neighbors\", \"tx\")])\n",
    "ls = LitSegger(\n",
    "    num_tx_tokens=500,\n",
    "    init_emb=8,\n",
    "    hidden_channels=64,\n",
    "    out_channels=16,\n",
    "    heads=4,\n",
    "    num_mid_layers=1,\n",
    "    aggr='sum',\n",
    "    metadata=metadata,\n",
    ")"
   ]
  },
  {
   "cell_type": "code",
   "execution_count": 174,
   "id": "411174d7-3380-482e-8a20-e1ee2a9dc804",
   "metadata": {
    "execution": {
     "iopub.execute_input": "2024-09-11T00:14:14.183386Z",
     "iopub.status.busy": "2024-09-11T00:14:14.182991Z",
     "iopub.status.idle": "2024-09-11T00:14:16.936676Z",
     "shell.execute_reply": "2024-09-11T00:14:16.936248Z",
     "shell.execute_reply.started": "2024-09-11T00:14:14.183365Z"
    }
   },
   "outputs": [],
   "source": [
    "# Initialize the Lightning data module\n",
    "dm = SeggerDataModule(\n",
    "    data_dir=segger_data_dir,\n",
    "    batch_size=1,  # explain other options above\n",
    "    num_workers=4,  # explain other options above\n",
    ")"
   ]
  },
  {
   "cell_type": "code",
   "execution_count": 8,
   "id": "ae339780-dec7-4ebc-9918-af4e94a0d3d6",
   "metadata": {
    "execution": {
     "iopub.execute_input": "2024-09-10T23:18:29.745139Z",
     "iopub.status.busy": "2024-09-10T23:18:29.744928Z",
     "iopub.status.idle": "2024-09-10T23:18:32.588290Z",
     "shell.execute_reply": "2024-09-10T23:18:32.587871Z",
     "shell.execute_reply.started": "2024-09-10T23:18:29.745123Z"
    }
   },
   "outputs": [
    {
     "name": "stderr",
     "output_type": "stream",
     "text": [
      "Using 16bit Automatic Mixed Precision (AMP)\n",
      "GPU available: True (cuda), used: True\n",
      "TPU available: False, using: 0 TPU cores\n",
      "HPU available: False, using: 0 HPUs\n"
     ]
    }
   ],
   "source": [
    "# Initialize the Lightning trainer\n",
    "trainer = Trainer(\n",
    "    accelerator='cuda',  # explain other options above\n",
    "    strategy='auto',\n",
    "    precision='16-mixed',\n",
    "    devices=1,  # explain other options above\n",
    "    max_epochs=100,  # explain other options above\n",
    "    default_root_dir=models_dir,\n",
    "    logger=CSVLogger(models_dir),\n",
    ")"
   ]
  },
  {
   "cell_type": "raw",
   "id": "7b6cb53a-b5a8-48ab-87dd-d0e5a2e12836",
   "metadata": {
    "execution": {
     "iopub.execute_input": "2024-09-10T23:13:28.975379Z",
     "iopub.status.busy": "2024-09-10T23:13:28.975149Z",
     "iopub.status.idle": "2024-09-10T23:13:31.853985Z",
     "shell.execute_reply": "2024-09-10T23:13:31.853449Z",
     "shell.execute_reply.started": "2024-09-10T23:13:28.975363Z"
    },
    "scrolled": true
   },
   "source": [
    "# Fit model\n",
    "trainer.fit(model=ls, datamodule=dm)"
   ]
  },
  {
   "cell_type": "code",
   "execution_count": 200,
   "id": "f35bae85-65b4-4211-ab15-f526e15ba2e5",
   "metadata": {
    "execution": {
     "iopub.execute_input": "2024-09-11T00:21:07.094933Z",
     "iopub.status.busy": "2024-09-11T00:21:07.094444Z",
     "iopub.status.idle": "2024-09-11T00:21:09.651327Z",
     "shell.execute_reply": "2024-09-11T00:21:09.650916Z",
     "shell.execute_reply.started": "2024-09-11T00:21:07.094913Z"
    }
   },
   "outputs": [],
   "source": [
    "import pandas as pd\n",
    "import numpy as np\n",
    "import torch\n",
    "import shapely\n",
    "from geopandas import GeoSeries\n",
    "from segger.data.io import SpatialTranscriptomicsSample"
   ]
  },
  {
   "cell_type": "code",
   "execution_count": 202,
   "id": "9fe26b58-9a89-428d-bdee-5efe55a9f27e",
   "metadata": {
    "execution": {
     "iopub.execute_input": "2024-09-11T00:21:16.191577Z",
     "iopub.status.busy": "2024-09-11T00:21:16.191172Z",
     "iopub.status.idle": "2024-09-11T00:21:19.448403Z",
     "shell.execute_reply": "2024-09-11T00:21:19.447938Z",
     "shell.execute_reply.started": "2024-09-11T00:21:16.191559Z"
    }
   },
   "outputs": [
    {
     "name": "stderr",
     "output_type": "stream",
     "text": [
      "Processing...\n",
      "Done!\n"
     ]
    },
    {
     "data": {
      "text/html": [
       "<div>\n",
       "<style scoped>\n",
       "    .dataframe tbody tr th:only-of-type {\n",
       "        vertical-align: middle;\n",
       "    }\n",
       "\n",
       "    .dataframe tbody tr th {\n",
       "        vertical-align: top;\n",
       "    }\n",
       "\n",
       "    .dataframe thead th {\n",
       "        text-align: right;\n",
       "    }\n",
       "</style>\n",
       "<table border=\"1\" class=\"dataframe\">\n",
       "  <thead>\n",
       "    <tr style=\"text-align: right;\">\n",
       "      <th></th>\n",
       "      <th>Total</th>\n",
       "      <th>NaN in x</th>\n",
       "      <th>NaN in pos</th>\n",
       "    </tr>\n",
       "    <tr>\n",
       "      <th>batch</th>\n",
       "      <th></th>\n",
       "      <th></th>\n",
       "      <th></th>\n",
       "    </tr>\n",
       "  </thead>\n",
       "  <tbody>\n",
       "    <tr>\n",
       "      <th>0</th>\n",
       "      <td>315</td>\n",
       "      <td>1</td>\n",
       "      <td>1</td>\n",
       "    </tr>\n",
       "    <tr>\n",
       "      <th>1</th>\n",
       "      <td>169</td>\n",
       "      <td>1</td>\n",
       "      <td>1</td>\n",
       "    </tr>\n",
       "    <tr>\n",
       "      <th>2</th>\n",
       "      <td>116</td>\n",
       "      <td>2</td>\n",
       "      <td>2</td>\n",
       "    </tr>\n",
       "    <tr>\n",
       "      <th>3</th>\n",
       "      <td>400</td>\n",
       "      <td>2</td>\n",
       "      <td>2</td>\n",
       "    </tr>\n",
       "    <tr>\n",
       "      <th>4</th>\n",
       "      <td>281</td>\n",
       "      <td>3</td>\n",
       "      <td>3</td>\n",
       "    </tr>\n",
       "  </tbody>\n",
       "</table>\n",
       "</div>"
      ],
      "text/plain": [
       "       Total  NaN in x  NaN in pos\n",
       "batch                             \n",
       "0        315         1           1\n",
       "1        169         1           1\n",
       "2        116         2           2\n",
       "3        400         2           2\n",
       "4        281         3           3"
      ]
     },
     "execution_count": 202,
     "metadata": {},
     "output_type": "execute_result"
    }
   ],
   "source": [
    "dm.setup()  # LightningDataModule\n",
    "nan_summary = pd.DataFrame()\n",
    "nan_ids = []\n",
    "for i, batch in enumerate(dm.train_dataloader()):\n",
    "    cell_ids = batch['bd']['id'][0]\n",
    "    nan_summary.loc[i, 'Total'] = len(cell_ids)\n",
    "    for key in ['x', 'pos']:\n",
    "        is_nan = batch['bd'][key].isnan().any(1)\n",
    "        nan_summary.loc[i, f'NaN in {key}'] = is_nan.sum().item()\n",
    "        nan_ids.append(cell_ids[is_nan].astype(int))\n",
    "\n",
    "nan_ids = np.hstack(nan_ids)\n",
    "nan_summary.index.name = 'batch'\n",
    "nan_summary.astype(int).head()"
   ]
  },
  {
   "cell_type": "code",
   "execution_count": 204,
   "id": "ed8fcf0f-3bdb-4fd0-a7ad-8861ad461b41",
   "metadata": {
    "execution": {
     "iopub.execute_input": "2024-09-11T00:21:28.155830Z",
     "iopub.status.busy": "2024-09-11T00:21:28.155431Z",
     "iopub.status.idle": "2024-09-11T00:21:30.722521Z",
     "shell.execute_reply": "2024-09-11T00:21:30.722139Z",
     "shell.execute_reply.started": "2024-09-11T00:21:28.155813Z"
    }
   },
   "outputs": [
    {
     "data": {
      "text/plain": [
       "array([104104, 104104,  96337,  96337, 105091, 107718, 105091, 107718,\n",
       "       106365, 106730])"
      ]
     },
     "execution_count": 204,
     "metadata": {},
     "output_type": "execute_result"
    }
   ],
   "source": [
    "nan_ids[:10]"
   ]
  },
  {
   "cell_type": "code",
   "execution_count": 207,
   "id": "54287cc6-d249-458e-9961-e1fde1be000f",
   "metadata": {
    "execution": {
     "iopub.execute_input": "2024-09-11T00:21:44.221388Z",
     "iopub.status.busy": "2024-09-11T00:21:44.221040Z",
     "iopub.status.idle": "2024-09-11T00:21:47.189304Z",
     "shell.execute_reply": "2024-09-11T00:21:47.188930Z",
     "shell.execute_reply.started": "2024-09-11T00:21:44.221372Z"
    }
   },
   "outputs": [
    {
     "data": {
      "text/html": [
       "<div>\n",
       "<style scoped>\n",
       "    .dataframe tbody tr th:only-of-type {\n",
       "        vertical-align: middle;\n",
       "    }\n",
       "\n",
       "    .dataframe tbody tr th {\n",
       "        vertical-align: top;\n",
       "    }\n",
       "\n",
       "    .dataframe thead th {\n",
       "        text-align: right;\n",
       "    }\n",
       "</style>\n",
       "<table border=\"1\" class=\"dataframe\">\n",
       "  <thead>\n",
       "    <tr style=\"text-align: right;\">\n",
       "      <th></th>\n",
       "      <th>geometry</th>\n",
       "      <th>cell_id</th>\n",
       "      <th>centroid_x</th>\n",
       "      <th>centroid_y</th>\n",
       "      <th>area</th>\n",
       "      <th>convexity</th>\n",
       "      <th>elongation</th>\n",
       "      <th>circularity</th>\n",
       "    </tr>\n",
       "  </thead>\n",
       "  <tbody>\n",
       "    <tr>\n",
       "      <th>0</th>\n",
       "      <td>POLYGON ((3261.875 3800.625, 3261.78001 3800.6...</td>\n",
       "      <td>96043</td>\n",
       "      <td>3262.394341</td>\n",
       "      <td>3805.044646</td>\n",
       "      <td>47.560525</td>\n",
       "      <td>1.002316</td>\n",
       "      <td>16.463885</td>\n",
       "      <td>2.163828</td>\n",
       "    </tr>\n",
       "    <tr>\n",
       "      <th>1</th>\n",
       "      <td>POLYGON ((3265.9126 3836.75, 3265.80472 3836.7...</td>\n",
       "      <td>96063</td>\n",
       "      <td>3264.154193</td>\n",
       "      <td>3844.476050</td>\n",
       "      <td>133.714509</td>\n",
       "      <td>1.030960</td>\n",
       "      <td>17.605377</td>\n",
       "      <td>1.656342</td>\n",
       "    </tr>\n",
       "    <tr>\n",
       "      <th>2</th>\n",
       "      <td>POLYGON ((3101.6499 3734.11255, 3101.55491 373...</td>\n",
       "      <td>96144</td>\n",
       "      <td>3102.560951</td>\n",
       "      <td>3737.868083</td>\n",
       "      <td>49.990781</td>\n",
       "      <td>1.000000</td>\n",
       "      <td>16.025747</td>\n",
       "      <td>2.654613</td>\n",
       "    </tr>\n",
       "    <tr>\n",
       "      <th>3</th>\n",
       "      <td>POLYGON ((3261.44995 3479.11255, 3261.34289 34...</td>\n",
       "      <td>96333</td>\n",
       "      <td>3261.160832</td>\n",
       "      <td>3481.926085</td>\n",
       "      <td>25.388122</td>\n",
       "      <td>1.001656</td>\n",
       "      <td>16.000000</td>\n",
       "      <td>2.547631</td>\n",
       "    </tr>\n",
       "    <tr>\n",
       "      <th>4</th>\n",
       "      <td>POLYGON ((3261.44995 3517.1499, 3261.35733 351...</td>\n",
       "      <td>96337</td>\n",
       "      <td>3261.247800</td>\n",
       "      <td>3520.710203</td>\n",
       "      <td>27.774425</td>\n",
       "      <td>1.000000</td>\n",
       "      <td>16.646432</td>\n",
       "      <td>2.179706</td>\n",
       "    </tr>\n",
       "  </tbody>\n",
       "</table>\n",
       "</div>"
      ],
      "text/plain": [
       "                                            geometry  cell_id   centroid_x  \\\n",
       "0  POLYGON ((3261.875 3800.625, 3261.78001 3800.6...    96043  3262.394341   \n",
       "1  POLYGON ((3265.9126 3836.75, 3265.80472 3836.7...    96063  3264.154193   \n",
       "2  POLYGON ((3101.6499 3734.11255, 3101.55491 373...    96144  3102.560951   \n",
       "3  POLYGON ((3261.44995 3479.11255, 3261.34289 34...    96333  3261.160832   \n",
       "4  POLYGON ((3261.44995 3517.1499, 3261.35733 351...    96337  3261.247800   \n",
       "\n",
       "    centroid_y        area  convexity  elongation  circularity  \n",
       "0  3805.044646   47.560525   1.002316   16.463885     2.163828  \n",
       "1  3844.476050  133.714509   1.030960   17.605377     1.656342  \n",
       "2  3737.868083   49.990781   1.000000   16.025747     2.654613  \n",
       "3  3481.926085   25.388122   1.001656   16.000000     2.547631  \n",
       "4  3520.710203   27.774425   1.000000   16.646432     2.179706  "
      ]
     },
     "execution_count": 207,
     "metadata": {},
     "output_type": "execute_result"
    }
   ],
   "source": [
    "xs.verbose = False\n",
    "df = pd.read_parquet(xs.boundaries_path)\n",
    "cell_ids = [int(i) for i in ['107025', '107671', '107712']]\n",
    "boundaries_df = df.loc[df['cell_id'].isin(nan_ids)]\n",
    "bd_gdf = xs.compute_boundaries_geometries(boundaries_df)\n",
    "bd_gdf.head()"
   ]
  },
  {
   "cell_type": "code",
   "execution_count": 168,
   "id": "ff1d3f58-59a4-45be-82f7-5ba7f9f62e83",
   "metadata": {
    "execution": {
     "iopub.execute_input": "2024-09-11T00:09:25.670348Z",
     "iopub.status.busy": "2024-09-11T00:09:25.669992Z",
     "iopub.status.idle": "2024-09-11T00:09:28.685744Z",
     "shell.execute_reply": "2024-09-11T00:09:28.685384Z",
     "shell.execute_reply.started": "2024-09-11T00:09:25.670333Z"
    }
   },
   "outputs": [
    {
     "name": "stdout",
     "output_type": "stream",
     "text": [
      "No precomputed polygons provided. Computing polygons from boundaries with a scale factor of 1.0.\n",
      "Adding centroids to the polygons...\n",
      "Polygons are available. Proceeding with geometrical computations.\n",
      "Computing area...\n",
      "Computing convexity...\n",
      "Computing elongation...\n",
      "Computing circularity...\n",
      "Geometrical computations completed.\n"
     ]
    },
    {
     "data": {
      "text/html": [
       "<div>\n",
       "<style scoped>\n",
       "    .dataframe tbody tr th:only-of-type {\n",
       "        vertical-align: middle;\n",
       "    }\n",
       "\n",
       "    .dataframe tbody tr th {\n",
       "        vertical-align: top;\n",
       "    }\n",
       "\n",
       "    .dataframe thead th {\n",
       "        text-align: right;\n",
       "    }\n",
       "</style>\n",
       "<table border=\"1\" class=\"dataframe\">\n",
       "  <thead>\n",
       "    <tr style=\"text-align: right;\">\n",
       "      <th></th>\n",
       "      <th>geometry</th>\n",
       "      <th>cell_id</th>\n",
       "      <th>centroid_x</th>\n",
       "      <th>centroid_y</th>\n",
       "      <th>area</th>\n",
       "      <th>convexity</th>\n",
       "      <th>elongation</th>\n",
       "      <th>circularity</th>\n",
       "    </tr>\n",
       "  </thead>\n",
       "  <tbody>\n",
       "    <tr>\n",
       "      <th>0</th>\n",
       "      <td>POLYGON ((3509.86255 3656.55005, 3509.76453 36...</td>\n",
       "      <td>107025</td>\n",
       "      <td>3513.399805</td>\n",
       "      <td>3664.016222</td>\n",
       "      <td>88.178450</td>\n",
       "      <td>1.009637</td>\n",
       "      <td>18.672552</td>\n",
       "      <td>1.382146</td>\n",
       "    </tr>\n",
       "    <tr>\n",
       "      <th>1</th>\n",
       "      <td>POLYGON ((3329.44995 3755.36255, 3329.3471 375...</td>\n",
       "      <td>107671</td>\n",
       "      <td>3327.914109</td>\n",
       "      <td>3762.518440</td>\n",
       "      <td>86.371948</td>\n",
       "      <td>1.009086</td>\n",
       "      <td>17.894785</td>\n",
       "      <td>1.584323</td>\n",
       "    </tr>\n",
       "    <tr>\n",
       "      <th>2</th>\n",
       "      <td>POLYGON ((3510.5 3486.55005, 3510.39953 3486.5...</td>\n",
       "      <td>107712</td>\n",
       "      <td>3511.994986</td>\n",
       "      <td>3492.593250</td>\n",
       "      <td>63.488113</td>\n",
       "      <td>1.002390</td>\n",
       "      <td>17.848407</td>\n",
       "      <td>1.608155</td>\n",
       "    </tr>\n",
       "  </tbody>\n",
       "</table>\n",
       "</div>"
      ],
      "text/plain": [
       "                                            geometry  cell_id   centroid_x  \\\n",
       "0  POLYGON ((3509.86255 3656.55005, 3509.76453 36...   107025  3513.399805   \n",
       "1  POLYGON ((3329.44995 3755.36255, 3329.3471 375...   107671  3327.914109   \n",
       "2  POLYGON ((3510.5 3486.55005, 3510.39953 3486.5...   107712  3511.994986   \n",
       "\n",
       "    centroid_y       area  convexity  elongation  circularity  \n",
       "0  3664.016222  88.178450   1.009637   18.672552     1.382146  \n",
       "1  3762.518440  86.371948   1.009086   17.894785     1.584323  \n",
       "2  3492.593250  63.488113   1.002390   17.848407     1.608155  "
      ]
     },
     "execution_count": 168,
     "metadata": {},
     "output_type": "execute_result"
    }
   ],
   "source": []
  },
  {
   "cell_type": "code",
   "execution_count": 130,
   "id": "1bcf2ee5-4027-48c1-84fa-b79085639bca",
   "metadata": {
    "execution": {
     "iopub.execute_input": "2024-09-10T23:58:31.747910Z",
     "iopub.status.busy": "2024-09-10T23:58:31.747537Z",
     "iopub.status.idle": "2024-09-10T23:58:34.264010Z",
     "shell.execute_reply": "2024-09-10T23:58:34.263602Z",
     "shell.execute_reply.started": "2024-09-10T23:58:31.747893Z"
    }
   },
   "outputs": [
    {
     "data": {
      "text/plain": [
       "tensor([[3926.6391, 3963.4658],\n",
       "        [3936.1926, 3966.2522],\n",
       "        [3896.9759, 3964.2134],\n",
       "        [3900.3009, 3968.2333],\n",
       "        [3923.7249, 3970.0328],\n",
       "        [3893.7169, 3970.7377],\n",
       "        [3929.4759, 3972.1830],\n",
       "        [3911.8555, 3975.3812],\n",
       "        [3906.8622, 3976.0429],\n",
       "        [3936.7611, 3975.9349],\n",
       "        [3899.0634, 3975.4511],\n",
       "        [3916.9490, 3976.2784],\n",
       "        [3920.0802, 3978.0556],\n",
       "        [3973.5543, 3978.7783],\n",
       "        [3913.1479, 3979.9234],\n",
       "        [3926.7720, 3980.1006],\n",
       "        [3934.2694, 3981.2204],\n",
       "        [3916.6300, 3983.0027],\n",
       "        [3920.8678, 3983.8628],\n",
       "        [3907.8610, 3983.4038],\n",
       "        [3988.4076, 3982.8885],\n",
       "        [3897.2974, 3986.0511],\n",
       "        [3926.2433, 3986.9642],\n",
       "        [3917.8334, 3987.9329],\n",
       "        [3910.9940, 3988.7892],\n",
       "        [3921.9359, 3990.1196],\n",
       "        [3927.7383, 3992.1927],\n",
       "        [3905.3212, 3991.0185],\n",
       "        [3932.1959, 3994.1976],\n",
       "        [3901.0472, 3994.7502],\n",
       "        [3967.5587, 3996.4936],\n",
       "        [3921.3207, 3996.8708],\n",
       "        [3888.2210, 3929.6479],\n",
       "        [3888.9493, 3955.7228],\n",
       "        [3890.4367, 3977.8083],\n",
       "        [3889.3155, 3985.8756],\n",
       "        [3890.6504, 3946.7320],\n",
       "        [3888.5191, 3888.2559],\n",
       "        [3920.6519, 3888.7399],\n",
       "        [3895.4208, 3891.5459],\n",
       "        [3943.0024, 3894.3343],\n",
       "        [3899.4469, 3900.7923],\n",
       "        [3933.2108, 3902.2353],\n",
       "        [3981.0589, 3911.0020],\n",
       "        [3928.2708, 3913.2544],\n",
       "        [3949.5978, 3913.0258],\n",
       "        [3963.2644, 3914.6201],\n",
       "        [3981.7678, 3919.2108],\n",
       "        [3954.2718, 3921.5512],\n",
       "        [3891.7723, 3922.6960],\n",
       "        [3978.7731, 3928.4647],\n",
       "        [3939.7044, 3925.1794],\n",
       "        [3988.1421, 3929.7150],\n",
       "        [3947.4802, 3933.0602],\n",
       "        [3901.8047, 3933.6021],\n",
       "        [3967.8174, 3934.0709],\n",
       "        [3933.4096, 3933.8389],\n",
       "        [3929.4103, 3936.8676],\n",
       "        [3896.2390, 3936.2369],\n",
       "        [3924.0807, 3937.8312],\n",
       "        [3927.1868, 3935.1890],\n",
       "        [3912.4725, 3938.1724],\n",
       "        [3955.3811, 3941.3503],\n",
       "        [3963.0948, 3940.1380],\n",
       "        [3950.1140, 3941.9328],\n",
       "        [3920.9635, 3943.6042],\n",
       "        [3945.8901, 3944.6866],\n",
       "        [3942.4642, 3944.9782],\n",
       "        [3959.3859, 3946.1690],\n",
       "        [3949.9306, 3950.3216],\n",
       "        [3904.1619, 3946.4313],\n",
       "        [3910.2995, 3949.4473],\n",
       "        [3911.5427, 3952.0323],\n",
       "        [3929.3034, 3950.8719],\n",
       "        [3939.5087, 3951.8321],\n",
       "        [3955.9297, 3956.0408],\n",
       "        [3945.6386, 3955.8712],\n",
       "        [3909.4008, 3956.8228],\n",
       "        [3961.8525, 3958.7977],\n",
       "        [3943.9910, 3959.2919],\n",
       "        [3931.2647, 3957.5458],\n",
       "        [3900.4431, 3959.4338],\n",
       "        [3958.2786, 3962.2001]], dtype=torch.float64)"
      ]
     },
     "execution_count": 130,
     "metadata": {},
     "output_type": "execute_result"
    }
   ],
   "source": [
    "torch.as_tensor(bd_gdf[['centroid_x', 'centroid_y']].values.astype(float))"
   ]
  },
  {
   "cell_type": "code",
   "execution_count": 121,
   "id": "49aee899-09bc-4b16-bb0d-b8291236c694",
   "metadata": {
    "execution": {
     "iopub.execute_input": "2024-09-10T23:56:14.848219Z",
     "iopub.status.busy": "2024-09-10T23:56:14.847821Z",
     "iopub.status.idle": "2024-09-10T23:56:17.395334Z",
     "shell.execute_reply": "2024-09-10T23:56:17.394919Z",
     "shell.execute_reply.started": "2024-09-10T23:56:14.848201Z"
    }
   },
   "outputs": [
    {
     "data": {
      "text/html": [
       "<div>\n",
       "<style scoped>\n",
       "    .dataframe tbody tr th:only-of-type {\n",
       "        vertical-align: middle;\n",
       "    }\n",
       "\n",
       "    .dataframe tbody tr th {\n",
       "        vertical-align: top;\n",
       "    }\n",
       "\n",
       "    .dataframe thead th {\n",
       "        text-align: right;\n",
       "    }\n",
       "</style>\n",
       "<table border=\"1\" class=\"dataframe\">\n",
       "  <thead>\n",
       "    <tr style=\"text-align: right;\">\n",
       "      <th></th>\n",
       "      <th>geometry</th>\n",
       "      <th>cell_id</th>\n",
       "      <th>centroid_x</th>\n",
       "      <th>centroid_y</th>\n",
       "      <th>area</th>\n",
       "      <th>convexity</th>\n",
       "      <th>elongation</th>\n",
       "      <th>circularity</th>\n",
       "    </tr>\n",
       "  </thead>\n",
       "  <tbody>\n",
       "    <tr>\n",
       "      <th>0</th>\n",
       "      <td>POLYGON ((3888.5376 3927.0625, 3888.43323 3927...</td>\n",
       "      <td>105853</td>\n",
       "      <td>3888.221029</td>\n",
       "      <td>3929.647922</td>\n",
       "      <td>24.439403</td>\n",
       "      <td>1.002589</td>\n",
       "      <td>16.269334</td>\n",
       "      <td>2.448092</td>\n",
       "    </tr>\n",
       "    <tr>\n",
       "      <th>1</th>\n",
       "      <td>POLYGON ((3889.6001 3881.375, 3889.49718 3881....</td>\n",
       "      <td>106135</td>\n",
       "      <td>3888.519110</td>\n",
       "      <td>3888.255852</td>\n",
       "      <td>92.111427</td>\n",
       "      <td>1.007715</td>\n",
       "      <td>17.282460</td>\n",
       "      <td>1.810704</td>\n",
       "    </tr>\n",
       "  </tbody>\n",
       "</table>\n",
       "</div>"
      ],
      "text/plain": [
       "                                            geometry  cell_id   centroid_x  \\\n",
       "0  POLYGON ((3888.5376 3927.0625, 3888.43323 3927...   105853  3888.221029   \n",
       "1  POLYGON ((3889.6001 3881.375, 3889.49718 3881....   106135  3888.519110   \n",
       "\n",
       "    centroid_y       area  convexity  elongation  circularity  \n",
       "0  3929.647922  24.439403   1.002589   16.269334     2.448092  \n",
       "1  3888.255852  92.111427   1.007715   17.282460     1.810704  "
      ]
     },
     "execution_count": 121,
     "metadata": {},
     "output_type": "execute_result"
    }
   ],
   "source": [
    "bd_gdf"
   ]
  },
  {
   "cell_type": "code",
   "execution_count": 19,
   "id": "01607a7b-9b6e-49ea-941d-1ef898cf89fe",
   "metadata": {
    "execution": {
     "iopub.execute_input": "2024-09-10T23:08:40.526675Z",
     "iopub.status.busy": "2024-09-10T23:08:40.526309Z",
     "iopub.status.idle": "2024-09-10T23:08:47.247616Z",
     "shell.execute_reply": "2024-09-10T23:08:47.247187Z",
     "shell.execute_reply.started": "2024-09-10T23:08:40.526658Z"
    }
   },
   "outputs": [
    {
     "data": {
      "text/plain": [
       "tensor([[ 0.0946,  0.0508, -0.2296,  ..., -0.1565,  0.1716, -0.0835],\n",
       "        [ 0.0906,  0.0560, -0.2173,  ..., -0.1641,  0.1864, -0.0926],\n",
       "        [ 0.0785,  0.0415, -0.2433,  ..., -0.1505,  0.1540, -0.0480],\n",
       "        ...,\n",
       "        [    nan,     nan,     nan,  ...,     nan,     nan,     nan],\n",
       "        [    nan,     nan,     nan,  ...,     nan,     nan,     nan],\n",
       "        [    nan,     nan,     nan,  ...,     nan,     nan,     nan]],\n",
       "       grad_fn=<DivBackward0>)"
      ]
     },
     "execution_count": 19,
     "metadata": {},
     "output_type": "execute_result"
    }
   ],
   "source": [
    "# Forward pass to get the logits\n",
    "z = ls.model(batch.x_dict, batch.edge_index_dict)\n",
    "z['bd']  # NaN values are exlusively in z['bd']"
   ]
  },
  {
   "cell_type": "code",
   "execution_count": 29,
   "id": "4ca63939-0f46-4ccd-aa90-e9f1a97e1979",
   "metadata": {
    "execution": {
     "iopub.execute_input": "2024-09-10T23:11:33.385198Z",
     "iopub.status.busy": "2024-09-10T23:11:33.384854Z",
     "iopub.status.idle": "2024-09-10T23:11:36.222903Z",
     "shell.execute_reply": "2024-09-10T23:11:36.222485Z",
     "shell.execute_reply.started": "2024-09-10T23:11:33.385181Z"
    }
   },
   "outputs": [
    {
     "name": "stdout",
     "output_type": "stream",
     "text": [
      "Fraction of boundaries which are all NaN: 0.75\n",
      "Fraction of boundaries which have any NaN: 0.75\n"
     ]
    }
   ],
   "source": [
    "import torch\n",
    "import numpy as np\n",
    "frac = torch.isnan(z['bd']).all(1).sum() / z['bd'].shape[0]\n",
    "print(f\"Fraction of boundaries which are all NaN: {np.around(frac, 2)}\")\n",
    "frac = torch.isnan(z['bd']).any(1).sum() / z['bd'].shape[0]\n",
    "print(f\"Fraction of boundaries which have any NaN: {np.around(frac, 2)}\")"
   ]
  },
  {
   "cell_type": "code",
   "execution_count": null,
   "id": "cddce45f-b944-498e-89ac-0b33fc6c3c61",
   "metadata": {},
   "outputs": [],
   "source": []
  }
 ],
 "metadata": {
  "kernelspec": {
   "display_name": "Python 3 (ipykernel)",
   "language": "python",
   "name": "python3"
  },
  "language_info": {
   "codemirror_mode": {
    "name": "ipython",
    "version": 3
   },
   "file_extension": ".py",
   "mimetype": "text/x-python",
   "name": "python",
   "nbconvert_exporter": "python",
   "pygments_lexer": "ipython3",
   "version": "3.11.9"
  }
 },
 "nbformat": 4,
 "nbformat_minor": 5
}
