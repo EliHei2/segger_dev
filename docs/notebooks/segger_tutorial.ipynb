{
 "cells": [
  {
   "cell_type": "code",
   "execution_count": 50,
   "id": "546982ee-2cee-4a66-9086-435d0cde0167",
   "metadata": {
    "execution": {
     "iopub.execute_input": "2024-09-10T18:00:23.105370Z",
     "iopub.status.busy": "2024-09-10T18:00:23.105111Z",
     "iopub.status.idle": "2024-09-10T18:00:24.427770Z",
     "shell.execute_reply": "2024-09-10T18:00:24.427384Z",
     "shell.execute_reply.started": "2024-09-10T18:00:23.105355Z"
    }
   },
   "outputs": [],
   "source": [
    "from segger.data.io import XeniumSample\n",
    "from pathlib import Path"
   ]
  },
  {
   "cell_type": "markdown",
   "id": "c2166659-58b3-42c2-8c75-40009250964d",
   "metadata": {},
   "source": [
    "# Create Dataset"
   ]
  },
  {
   "cell_type": "code",
   "execution_count": 70,
   "id": "edd35db3-56e4-4a3e-9309-f83133274d47",
   "metadata": {
    "execution": {
     "iopub.execute_input": "2024-09-10T18:08:57.239394Z",
     "iopub.status.busy": "2024-09-10T18:08:57.239125Z",
     "iopub.status.idle": "2024-09-10T18:08:58.669460Z",
     "shell.execute_reply": "2024-09-10T18:08:58.669058Z",
     "shell.execute_reply.started": "2024-09-10T18:08:57.239377Z"
    }
   },
   "outputs": [],
   "source": [
    "xenium_data_dir = Path('../../dev/tutorial/xenium_data/')\n",
    "segger_data_dir = Path('../../dev/tutorial/segger_data/')"
   ]
  },
  {
   "cell_type": "code",
   "execution_count": 71,
   "id": "e95f1f70-a9b4-429c-af69-fb4cf4204382",
   "metadata": {
    "execution": {
     "iopub.execute_input": "2024-09-10T18:09:06.355795Z",
     "iopub.status.busy": "2024-09-10T18:09:06.355425Z",
     "iopub.status.idle": "2024-09-10T18:09:07.695491Z",
     "shell.execute_reply": "2024-09-10T18:09:07.695089Z",
     "shell.execute_reply.started": "2024-09-10T18:09:06.355777Z"
    }
   },
   "outputs": [
    {
     "name": "stdout",
     "output_type": "stream",
     "text": [
      "Set transcripts file path to ../../dev/tutorial/xenium_data/transcripts.parquet\n",
      "Set boundaries file path to ../../dev/tutorial/xenium_data/nucleus_boundaries.parquet\n"
     ]
    }
   ],
   "source": [
    "xs = XeniumSample()\n",
    "xs.set_file_paths(\n",
    "    transcripts_path=xenium_data_dir / 'transcripts.parquet',\n",
    "    boundaries_path=xenium_data_dir / 'nucleus_boundaries.parquet',\n",
    ")"
   ]
  },
  {
   "cell_type": "code",
   "execution_count": 73,
   "id": "c8cf7102-ad9c-4bd0-bbd7-61a1d73abccd",
   "metadata": {
    "execution": {
     "iopub.execute_input": "2024-09-10T18:10:45.428145Z",
     "iopub.status.busy": "2024-09-10T18:10:45.427731Z",
     "iopub.status.idle": "2024-09-10T18:10:46.895424Z",
     "shell.execute_reply": "2024-09-10T18:10:46.894895Z",
     "shell.execute_reply.started": "2024-09-10T18:10:45.428129Z"
    }
   },
   "outputs": [
    {
     "ename": "AttributeError",
     "evalue": "'XeniumSample' object has no attribute 'x_min'",
     "output_type": "error",
     "traceback": [
      "\u001b[0;31m---------------------------------------------------------------------------\u001b[0m",
      "\u001b[0;31mAttributeError\u001b[0m                            Traceback (most recent call last)",
      "Cell \u001b[0;32mIn[73], line 1\u001b[0m\n\u001b[0;32m----> 1\u001b[0m \u001b[43mxs\u001b[49m\u001b[38;5;241;43m.\u001b[39;49m\u001b[43msave_dataset_for_segger\u001b[49m\u001b[43m(\u001b[49m\n\u001b[1;32m      2\u001b[0m \u001b[43m    \u001b[49m\u001b[43mprocessed_dir\u001b[49m\u001b[38;5;241;43m=\u001b[39;49m\u001b[43msegger_data_dir\u001b[49m\u001b[43m,\u001b[49m\n\u001b[1;32m      3\u001b[0m \u001b[43m    \u001b[49m\u001b[43mx_size\u001b[49m\u001b[38;5;241;43m=\u001b[39;49m\u001b[38;5;241;43m200\u001b[39;49m\u001b[43m,\u001b[49m\n\u001b[1;32m      4\u001b[0m \u001b[43m    \u001b[49m\u001b[43my_size\u001b[49m\u001b[38;5;241;43m=\u001b[39;49m\u001b[38;5;241;43m200\u001b[39;49m\u001b[43m,\u001b[49m\n\u001b[1;32m      5\u001b[0m \u001b[43m    \u001b[49m\u001b[43md_x\u001b[49m\u001b[38;5;241;43m=\u001b[39;49m\u001b[38;5;241;43m180\u001b[39;49m\u001b[43m,\u001b[49m\n\u001b[1;32m      6\u001b[0m \u001b[43m    \u001b[49m\u001b[43md_y\u001b[49m\u001b[38;5;241;43m=\u001b[39;49m\u001b[38;5;241;43m180\u001b[39;49m\u001b[43m,\u001b[49m\n\u001b[1;32m      7\u001b[0m \u001b[43m    \u001b[49m\u001b[43mmargin_x\u001b[49m\u001b[38;5;241;43m=\u001b[39;49m\u001b[38;5;241;43m10\u001b[39;49m\u001b[43m,\u001b[49m\n\u001b[1;32m      8\u001b[0m \u001b[43m    \u001b[49m\u001b[43mmargin_y\u001b[49m\u001b[38;5;241;43m=\u001b[39;49m\u001b[38;5;241;43m10\u001b[39;49m\u001b[43m,\u001b[49m\n\u001b[1;32m      9\u001b[0m \u001b[43m)\u001b[49m\n",
      "File \u001b[0;32m/lilac/data/peer/moormana/GitHub/dpeerlab/segger_dev/src/segger/data/io.py:627\u001b[0m, in \u001b[0;36mSpatialTranscriptomicsSample.save_dataset_for_segger\u001b[0;34m(self, processed_dir, x_size, y_size, d_x, d_y, margin_x, margin_y, compute_labels, r_tx, k_tx, val_prob, test_prob, neg_sampling_ratio_approx, sampling_rate, num_workers, receptive_field, method, gpu, workers)\u001b[0m\n\u001b[1;32m    624\u001b[0m \u001b[38;5;28mself\u001b[39m\u001b[38;5;241m.\u001b[39m_prepare_directories(processed_dir)\n\u001b[1;32m    626\u001b[0m \u001b[38;5;66;03m# Get x and y coordinate ranges for tiling\u001b[39;00m\n\u001b[0;32m--> 627\u001b[0m x_range, y_range \u001b[38;5;241m=\u001b[39m \u001b[38;5;28;43mself\u001b[39;49m\u001b[38;5;241;43m.\u001b[39;49m\u001b[43m_get_ranges\u001b[49m\u001b[43m(\u001b[49m\u001b[43md_x\u001b[49m\u001b[43m,\u001b[49m\u001b[43m \u001b[49m\u001b[43md_y\u001b[49m\u001b[43m)\u001b[49m\n\u001b[1;32m    629\u001b[0m \u001b[38;5;66;03m# Generate parameters for each tile\u001b[39;00m\n\u001b[1;32m    630\u001b[0m tile_params \u001b[38;5;241m=\u001b[39m \u001b[38;5;28mself\u001b[39m\u001b[38;5;241m.\u001b[39m_generate_tile_params(\n\u001b[1;32m    631\u001b[0m     x_range, y_range, x_size, y_size, margin_x, margin_y, compute_labels, \n\u001b[1;32m    632\u001b[0m     r_tx, k_tx, val_prob, test_prob, neg_sampling_ratio_approx, sampling_rate, \n\u001b[1;32m    633\u001b[0m     processed_dir, receptive_field, method, gpu, workers\n\u001b[1;32m    634\u001b[0m )\n",
      "File \u001b[0;32m/lilac/data/peer/moormana/GitHub/dpeerlab/segger_dev/src/segger/data/io.py:655\u001b[0m, in \u001b[0;36mSpatialTranscriptomicsSample._get_ranges\u001b[0;34m(self, d_x, d_y)\u001b[0m\n\u001b[1;32m    653\u001b[0m \u001b[38;5;28;01mdef\u001b[39;00m \u001b[38;5;21m_get_ranges\u001b[39m(\u001b[38;5;28mself\u001b[39m, d_x: \u001b[38;5;28mfloat\u001b[39m, d_y: \u001b[38;5;28mfloat\u001b[39m) \u001b[38;5;241m-\u001b[39m\u001b[38;5;241m>\u001b[39m Tuple[np\u001b[38;5;241m.\u001b[39mndarray, np\u001b[38;5;241m.\u001b[39mndarray]:\n\u001b[1;32m    654\u001b[0m \u001b[38;5;250m    \u001b[39m\u001b[38;5;124;03m\"\"\"Generates ranges for tiling.\"\"\"\u001b[39;00m\n\u001b[0;32m--> 655\u001b[0m     x_range \u001b[38;5;241m=\u001b[39m np\u001b[38;5;241m.\u001b[39marange(\u001b[38;5;28;43mself\u001b[39;49m\u001b[38;5;241;43m.\u001b[39;49m\u001b[43mx_min\u001b[49m \u001b[38;5;241m/\u001b[39m\u001b[38;5;241m/\u001b[39m \u001b[38;5;241m1000\u001b[39m \u001b[38;5;241m*\u001b[39m \u001b[38;5;241m1000\u001b[39m, \u001b[38;5;28mself\u001b[39m\u001b[38;5;241m.\u001b[39mx_max, d_x)\n\u001b[1;32m    656\u001b[0m     y_range \u001b[38;5;241m=\u001b[39m np\u001b[38;5;241m.\u001b[39marange(\u001b[38;5;28mself\u001b[39m\u001b[38;5;241m.\u001b[39my_min \u001b[38;5;241m/\u001b[39m\u001b[38;5;241m/\u001b[39m \u001b[38;5;241m1000\u001b[39m \u001b[38;5;241m*\u001b[39m \u001b[38;5;241m1000\u001b[39m, \u001b[38;5;28mself\u001b[39m\u001b[38;5;241m.\u001b[39my_max, d_y)\n\u001b[1;32m    657\u001b[0m     \u001b[38;5;28;01mreturn\u001b[39;00m x_range, y_range\n",
      "\u001b[0;31mAttributeError\u001b[0m: 'XeniumSample' object has no attribute 'x_min'"
     ]
    }
   ],
   "source": [
    "xs.save_dataset_for_segger(\n",
    "    processed_dir=segger_data_dir,\n",
    "    x_size=200,\n",
    "    y_size=200,\n",
    "    d_x=180,\n",
    "    d_y=180,\n",
    "    margin_x=10,\n",
    "    margin_y=10,\n",
    ")"
   ]
  },
  {
   "cell_type": "code",
   "execution_count": null,
   "id": "e27cee6b-350f-45b5-9992-6773957a1bce",
   "metadata": {},
   "outputs": [],
   "source": []
  }
 ],
 "metadata": {
  "kernelspec": {
   "display_name": "Python 3 (ipykernel)",
   "language": "python",
   "name": "python3"
  },
  "language_info": {
   "codemirror_mode": {
    "name": "ipython",
    "version": 3
   },
   "file_extension": ".py",
   "mimetype": "text/x-python",
   "name": "python",
   "nbconvert_exporter": "python",
   "pygments_lexer": "ipython3",
   "version": "3.11.9"
  }
 },
 "nbformat": 4,
 "nbformat_minor": 5
}
