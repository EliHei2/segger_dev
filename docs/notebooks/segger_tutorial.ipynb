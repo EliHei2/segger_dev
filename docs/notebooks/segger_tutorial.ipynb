{
 "cells": [
  {
   "cell_type": "markdown",
   "id": "e363600f-0766-46e2-943c-f070c62f0542",
   "metadata": {},
   "source": [
    "# Segger Minimal Example"
   ]
  },
  {
   "cell_type": "code",
   "execution_count": 1,
   "id": "0d7448cb-5bb9-4100-b3c3-ed4edfe43fcd",
   "metadata": {
    "execution": {
     "iopub.execute_input": "2024-09-10T20:27:53.048344Z",
     "iopub.status.busy": "2024-09-10T20:27:53.048216Z",
     "iopub.status.idle": "2024-09-10T20:27:53.184306Z",
     "shell.execute_reply": "2024-09-10T20:27:53.183954Z",
     "shell.execute_reply.started": "2024-09-10T20:27:53.048331Z"
    }
   },
   "outputs": [],
   "source": [
    "%load_ext autoreload\n",
    "%autoreload 2"
   ]
  },
  {
   "cell_type": "code",
   "execution_count": 3,
   "id": "546982ee-2cee-4a66-9086-435d0cde0167",
   "metadata": {
    "execution": {
     "iopub.execute_input": "2024-09-10T20:27:57.624240Z",
     "iopub.status.busy": "2024-09-10T20:27:57.623997Z",
     "iopub.status.idle": "2024-09-10T20:28:54.134025Z",
     "shell.execute_reply": "2024-09-10T20:28:54.133556Z",
     "shell.execute_reply.started": "2024-09-10T20:27:57.624227Z"
    }
   },
   "outputs": [],
   "source": [
    "from segger.data.io import XeniumSample\n",
    "from segger.training.train import LitSegger\n",
    "from pathlib import Path"
   ]
  },
  {
   "cell_type": "markdown",
   "id": "c2166659-58b3-42c2-8c75-40009250964d",
   "metadata": {},
   "source": [
    "## Create Dataset"
   ]
  },
  {
   "cell_type": "code",
   "execution_count": 4,
   "id": "edd35db3-56e4-4a3e-9309-f83133274d47",
   "metadata": {
    "execution": {
     "iopub.execute_input": "2024-09-10T20:28:54.136410Z",
     "iopub.status.busy": "2024-09-10T20:28:54.134922Z",
     "iopub.status.idle": "2024-09-10T20:28:57.003448Z",
     "shell.execute_reply": "2024-09-10T20:28:57.003070Z",
     "shell.execute_reply.started": "2024-09-10T20:28:54.136385Z"
    }
   },
   "outputs": [],
   "source": [
    "xenium_data_dir = Path('../../dev/tutorial/xenium_data/')\n",
    "segger_data_dir = Path('../../dev/tutorial/segger_data/')"
   ]
  },
  {
   "cell_type": "code",
   "execution_count": 5,
   "id": "dc7d295d-582b-4288-937d-b6a39fb61bc6",
   "metadata": {
    "execution": {
     "iopub.execute_input": "2024-09-10T20:28:57.004283Z",
     "iopub.status.busy": "2024-09-10T20:28:57.003990Z",
     "iopub.status.idle": "2024-09-10T20:29:00.221528Z",
     "shell.execute_reply": "2024-09-10T20:29:00.221027Z",
     "shell.execute_reply.started": "2024-09-10T20:28:57.004266Z"
    }
   },
   "outputs": [],
   "source": [
    "! rm -r ../../dev/tutorial/segger_data/*"
   ]
  },
  {
   "cell_type": "code",
   "execution_count": 6,
   "id": "e95f1f70-a9b4-429c-af69-fb4cf4204382",
   "metadata": {
    "execution": {
     "iopub.execute_input": "2024-09-10T20:29:00.223058Z",
     "iopub.status.busy": "2024-09-10T20:29:00.222744Z",
     "iopub.status.idle": "2024-09-10T20:29:03.124336Z",
     "shell.execute_reply": "2024-09-10T20:29:03.123932Z",
     "shell.execute_reply.started": "2024-09-10T20:29:00.223039Z"
    }
   },
   "outputs": [],
   "source": [
    "xs = XeniumSample(verbose=True)\n",
    "xs.set_file_paths(\n",
    "    transcripts_path=xenium_data_dir / 'transcripts.parquet',\n",
    "    boundaries_path=xenium_data_dir / 'nucleus_boundaries.parquet',\n",
    ")"
   ]
  },
  {
   "cell_type": "code",
   "execution_count": 7,
   "id": "c8cf7102-ad9c-4bd0-bbd7-61a1d73abccd",
   "metadata": {
    "execution": {
     "iopub.execute_input": "2024-09-10T20:29:03.125209Z",
     "iopub.status.busy": "2024-09-10T20:29:03.124920Z",
     "iopub.status.idle": "2024-09-10T20:30:03.356203Z",
     "shell.execute_reply": "2024-09-10T20:30:03.355577Z",
     "shell.execute_reply.started": "2024-09-10T20:29:03.125194Z"
    },
    "scrolled": true
   },
   "outputs": [
    {
     "name": "stdout",
     "output_type": "stream",
     "text": [
      "[########################################] | 100% Completed | 57.36 s\n"
     ]
    }
   ],
   "source": [
    "xs.save_dataset_for_segger(\n",
    "    processed_dir=segger_data_dir,\n",
    "    x_size=200,\n",
    "    y_size=200,\n",
    "    d_x=180,\n",
    "    d_y=180,\n",
    "    margin_x=10,\n",
    "    margin_y=10,\n",
    ")"
   ]
  },
  {
   "cell_type": "markdown",
   "id": "3e34de33-ff66-43f9-a72b-7a997b64e0b2",
   "metadata": {},
   "source": [
    "## Train Segger Model"
   ]
  },
  {
   "cell_type": "code",
   "execution_count": null,
   "id": "5695ce13-8161-4fc0-a36f-c3331366137c",
   "metadata": {},
   "outputs": [],
   "source": []
  }
 ],
 "metadata": {
  "kernelspec": {
   "display_name": "Python 3 (ipykernel)",
   "language": "python",
   "name": "python3"
  },
  "language_info": {
   "codemirror_mode": {
    "name": "ipython",
    "version": 3
   },
   "file_extension": ".py",
   "mimetype": "text/x-python",
   "name": "python",
   "nbconvert_exporter": "python",
   "pygments_lexer": "ipython3",
   "version": "3.11.9"
  }
 },
 "nbformat": 4,
 "nbformat_minor": 5
}
