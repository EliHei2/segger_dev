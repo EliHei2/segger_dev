{
 "cells": [
  {
   "cell_type": "code",
   "execution_count": null,
   "id": "0d7448cb-5bb9-4100-b3c3-ed4edfe43fcd",
   "metadata": {},
   "outputs": [],
   "source": [
    "%load_ext autoreload\n",
    "%autoreload 2"
   ]
  },
  {
   "cell_type": "markdown",
   "id": "e363600f-0766-46e2-943c-f070c62f0542",
   "metadata": {},
   "source": [
    "# Segger Minimal Example"
   ]
  },
  {
   "cell_type": "code",
   "execution_count": null,
   "id": "546982ee-2cee-4a66-9086-435d0cde0167",
   "metadata": {},
   "outputs": [],
   "source": [
    "from segger.data.io import XeniumSample\n",
    "from segger.training.train import LitSegger\n",
    "from segger.training.segger_data_module import SeggerDataModule\n",
    "from lightning.pytorch.loggers import CSVLogger\n",
    "from pytorch_lightning import Trainer\n",
    "from pathlib import Path\n",
    "from lightning.pytorch.plugins.environments import LightningEnvironment"
   ]
  },
  {
   "cell_type": "code",
   "execution_count": null,
   "id": "53724a12-4d87-43f9-937e-9b3754e20016",
   "metadata": {},
   "outputs": [],
   "source": [
    "from pytorch_lightning.plugins.environments import SLURMEnvironment\n",
    "SLURMEnvironment.detect = lambda: False"
   ]
  },
  {
   "cell_type": "markdown",
   "id": "c2166659-58b3-42c2-8c75-40009250964d",
   "metadata": {},
   "source": [
    "## Create Dataset"
   ]
  },
  {
   "cell_type": "markdown",
   "id": "1721b60a-9183-4859-8cf8-4da2b2103104",
   "metadata": {},
   "source": [
    "Explain things here"
   ]
  },
  {
   "cell_type": "code",
   "execution_count": null,
   "id": "edd35db3-56e4-4a3e-9309-f83133274d47",
   "metadata": {},
   "outputs": [],
   "source": [
    "xenium_data_dir = Path('../../dev/tutorial/xenium_data/')\n",
    "segger_data_dir = Path('../../dev/tutorial/segger_data/')"
   ]
  },
  {
   "cell_type": "code",
   "execution_count": 6,
   "id": "e95f1f70-a9b4-429c-af69-fb4cf4204382",
   "metadata": {
    "execution": {
     "iopub.execute_input": "2024-09-11T14:32:14.485112Z",
     "iopub.status.busy": "2024-09-11T14:32:14.484666Z",
     "iopub.status.idle": "2024-09-11T14:32:16.635696Z",
     "shell.execute_reply": "2024-09-11T14:32:16.635247Z",
     "shell.execute_reply.started": "2024-09-11T14:32:14.485093Z"
    }
   },
   "outputs": [],
   "source": [
    "# Setup Xenium sample to create dataset\n",
    "xs = XeniumSample(verbose=False)\n",
    "xs.set_file_paths(\n",
    "    transcripts_path=xenium_data_dir / 'transcripts.parquet',\n",
    "    boundaries_path=xenium_data_dir / 'nucleus_boundaries.parquet',\n",
    ")\n",
    "xs.set_metadata()"
   ]
  },
  {
   "cell_type": "code",
   "execution_count": 14,
   "id": "8a94c05c-45df-4a68-b5f4-0a34bc8edab9",
   "metadata": {
    "execution": {
     "iopub.execute_input": "2024-09-11T14:36:21.683216Z",
     "iopub.status.busy": "2024-09-11T14:36:21.682797Z",
     "iopub.status.idle": "2024-09-11T14:36:24.088405Z",
     "shell.execute_reply": "2024-09-11T14:36:24.087872Z",
     "shell.execute_reply.started": "2024-09-11T14:36:21.683198Z"
    }
   },
   "outputs": [],
   "source": [
    "!rm -r ../../dev/tutorial/segger_data/*"
   ]
  },
  {
   "cell_type": "code",
   "execution_count": 15,
   "id": "c8cf7102-ad9c-4bd0-bbd7-61a1d73abccd",
   "metadata": {
    "execution": {
     "iopub.execute_input": "2024-09-11T14:36:30.847321Z",
     "iopub.status.busy": "2024-09-11T14:36:30.847032Z",
     "iopub.status.idle": "2024-09-11T14:37:05.709614Z",
     "shell.execute_reply": "2024-09-11T14:37:05.708887Z",
     "shell.execute_reply.started": "2024-09-11T14:36:30.847299Z"
    },
    "scrolled": true
   },
   "outputs": [
    {
     "name": "stdout",
     "output_type": "stream",
     "text": [
      "[########################################] | 100% Completed | 33.24 s\n"
     ]
    }
   ],
   "source": [
    "try:\n",
    "    xs.save_dataset_for_segger(\n",
    "        processed_dir=segger_data_dir,\n",
    "        r_tx=3,\n",
    "        k_tx=15,\n",
    "        receptive_field={'k_bd': 3, 'dist_bd': 15,'k_tx': 15, 'dist_tx': 3},\n",
    "        x_size=250,\n",
    "        y_size=250,\n",
    "        d_x=250,\n",
    "        d_y=250,\n",
    "        margin_x=10,\n",
    "        margin_y=10,\n",
    "    )\n",
    "except AssertionError as err:\n",
    "    print(f'Dataset already exists at {segger_data_dir}')"
   ]
  },
  {
   "cell_type": "markdown",
   "id": "3e34de33-ff66-43f9-a72b-7a997b64e0b2",
   "metadata": {},
   "source": [
    "## Train Segger Model"
   ]
  },
  {
   "cell_type": "markdown",
   "id": "0bd76317-d283-45b0-a364-61f3010489dd",
   "metadata": {},
   "source": [
    "Explain things here"
   ]
  },
  {
   "cell_type": "code",
   "execution_count": 5,
   "id": "4db89cb4-d0eb-426a-a71f-d127926fa412",
   "metadata": {
    "execution": {
     "iopub.execute_input": "2024-09-11T17:37:29.848087Z",
     "iopub.status.busy": "2024-09-11T17:37:29.847854Z",
     "iopub.status.idle": "2024-09-11T17:37:31.447441Z",
     "shell.execute_reply": "2024-09-11T17:37:31.447011Z",
     "shell.execute_reply.started": "2024-09-11T17:37:29.848072Z"
    }
   },
   "outputs": [],
   "source": [
    "# Base directory to store Pytorch Lightning models\n",
    "models_dir = Path('../../dev/tutorial/models/')"
   ]
  },
  {
   "cell_type": "code",
   "execution_count": 44,
   "id": "f481b6a9-c49c-425e-ab5b-1ae8aba8dc45",
   "metadata": {
    "execution": {
     "iopub.execute_input": "2024-09-11T14:53:19.759626Z",
     "iopub.status.busy": "2024-09-11T14:53:19.759249Z",
     "iopub.status.idle": "2024-09-11T14:53:21.881778Z",
     "shell.execute_reply": "2024-09-11T14:53:21.881337Z",
     "shell.execute_reply.started": "2024-09-11T14:53:19.759607Z"
    }
   },
   "outputs": [],
   "source": [
    "# Initialize the Lightning model\n",
    "metadata = ([\"tx\", \"bd\"], [(\"tx\", \"belongs\", \"bd\"), (\"tx\", \"neighbors\", \"tx\")])\n",
    "ls = LitSegger(\n",
    "    num_tx_tokens=500,\n",
    "    init_emb=8,\n",
    "    hidden_channels=64,\n",
    "    out_channels=16,\n",
    "    heads=4,\n",
    "    num_mid_layers=1,\n",
    "    aggr='sum',\n",
    "    metadata=metadata,\n",
    ")"
   ]
  },
  {
   "cell_type": "code",
   "execution_count": 9,
   "id": "411174d7-3380-482e-8a20-e1ee2a9dc804",
   "metadata": {
    "execution": {
     "iopub.execute_input": "2024-09-11T17:37:41.594355Z",
     "iopub.status.busy": "2024-09-11T17:37:41.593906Z",
     "iopub.status.idle": "2024-09-11T17:37:43.333940Z",
     "shell.execute_reply": "2024-09-11T17:37:43.333523Z",
     "shell.execute_reply.started": "2024-09-11T17:37:41.594336Z"
    }
   },
   "outputs": [],
   "source": [
    "# Initialize the Lightning data module\n",
    "dm = SeggerDataModule(\n",
    "    data_dir=segger_data_dir,\n",
    "    batch_size=2,  # explain other options above\n",
    "    num_workers=4,  # explain other options above\n",
    ")"
   ]
  },
  {
   "cell_type": "code",
   "execution_count": 46,
   "id": "ae339780-dec7-4ebc-9918-af4e94a0d3d6",
   "metadata": {
    "execution": {
     "iopub.execute_input": "2024-09-11T14:53:23.512828Z",
     "iopub.status.busy": "2024-09-11T14:53:23.512571Z",
     "iopub.status.idle": "2024-09-11T14:53:25.265436Z",
     "shell.execute_reply": "2024-09-11T14:53:25.265055Z",
     "shell.execute_reply.started": "2024-09-11T14:53:23.512813Z"
    }
   },
   "outputs": [
    {
     "name": "stderr",
     "output_type": "stream",
     "text": [
      "Using 16bit Automatic Mixed Precision (AMP)\n",
      "GPU available: True (cuda), used: True\n",
      "TPU available: False, using: 0 TPU cores\n",
      "HPU available: False, using: 0 HPUs\n"
     ]
    }
   ],
   "source": [
    "# Initialize the Lightning trainer\n",
    "trainer = Trainer(\n",
    "    accelerator='cuda',  # explain other options above\n",
    "    strategy='auto',\n",
    "    precision='16-mixed',\n",
    "    devices=1,  # explain other options above\n",
    "    max_epochs=100,  # explain other options above\n",
    "    default_root_dir=models_dir,\n",
    "    logger=CSVLogger(models_dir),\n",
    ")"
   ]
  },
  {
   "cell_type": "code",
   "execution_count": 47,
   "id": "7996e897-6676-45f6-a064-e22572874485",
   "metadata": {
    "execution": {
     "iopub.execute_input": "2024-09-11T14:53:25.266651Z",
     "iopub.status.busy": "2024-09-11T14:53:25.266322Z",
     "iopub.status.idle": "2024-09-11T15:00:52.503772Z",
     "shell.execute_reply": "2024-09-11T15:00:52.503284Z",
     "shell.execute_reply.started": "2024-09-11T14:53:25.266635Z"
    },
    "scrolled": true
   },
   "outputs": [
    {
     "name": "stderr",
     "output_type": "stream",
     "text": [
      "Processing...\n",
      "Done!\n",
      "LOCAL_RANK: 0 - CUDA_VISIBLE_DEVICES: [MIG-9b1ee058-0b73-52d6-b909-b056af809b4b,MIG-e8861a3f-0f14-562d-ad70-c9f56ba1db06,MIG-e9c80ed6-e922-5f99-84ba-fd31a06f7f82,MIG-ddac4c2a-2ccf-5d86-be01-c9e27dd3cd76]\n",
      "\n",
      "  | Name      | Type              | Params | Mode \n",
      "--------------------------------------------------------\n",
      "0 | model     | GraphModule       | 12.6 K | train\n",
      "1 | criterion | BCEWithLogitsLoss | 0      | train\n",
      "--------------------------------------------------------\n",
      "12.6 K    Trainable params\n",
      "0         Non-trainable params\n",
      "12.6 K    Total params\n",
      "0.050     Total estimated model params size (MB)\n",
      "36        Modules in train mode\n",
      "0         Modules in eval mode\n"
     ]
    },
    {
     "data": {
      "application/vnd.jupyter.widget-view+json": {
       "model_id": "",
       "version_major": 2,
       "version_minor": 0
      },
      "text/plain": [
       "Sanity Checking: |          | 0/? [00:00<?, ?it/s]"
      ]
     },
     "metadata": {},
     "output_type": "display_data"
    },
    {
     "data": {
      "application/vnd.jupyter.widget-view+json": {
       "model_id": "7c32f89f68b144429b84470df4439350",
       "version_major": 2,
       "version_minor": 0
      },
      "text/plain": [
       "Training: |          | 0/? [00:00<?, ?it/s]"
      ]
     },
     "metadata": {},
     "output_type": "display_data"
    },
    {
     "data": {
      "application/vnd.jupyter.widget-view+json": {
       "model_id": "",
       "version_major": 2,
       "version_minor": 0
      },
      "text/plain": [
       "Validation: |          | 0/? [00:00<?, ?it/s]"
      ]
     },
     "metadata": {},
     "output_type": "display_data"
    },
    {
     "data": {
      "application/vnd.jupyter.widget-view+json": {
       "model_id": "",
       "version_major": 2,
       "version_minor": 0
      },
      "text/plain": [
       "Validation: |          | 0/? [00:00<?, ?it/s]"
      ]
     },
     "metadata": {},
     "output_type": "display_data"
    },
    {
     "data": {
      "application/vnd.jupyter.widget-view+json": {
       "model_id": "",
       "version_major": 2,
       "version_minor": 0
      },
      "text/plain": [
       "Validation: |          | 0/? [00:00<?, ?it/s]"
      ]
     },
     "metadata": {},
     "output_type": "display_data"
    },
    {
     "data": {
      "application/vnd.jupyter.widget-view+json": {
       "model_id": "",
       "version_major": 2,
       "version_minor": 0
      },
      "text/plain": [
       "Validation: |          | 0/? [00:00<?, ?it/s]"
      ]
     },
     "metadata": {},
     "output_type": "display_data"
    },
    {
     "data": {
      "application/vnd.jupyter.widget-view+json": {
       "model_id": "",
       "version_major": 2,
       "version_minor": 0
      },
      "text/plain": [
       "Validation: |          | 0/? [00:00<?, ?it/s]"
      ]
     },
     "metadata": {},
     "output_type": "display_data"
    },
    {
     "data": {
      "application/vnd.jupyter.widget-view+json": {
       "model_id": "",
       "version_major": 2,
       "version_minor": 0
      },
      "text/plain": [
       "Validation: |          | 0/? [00:00<?, ?it/s]"
      ]
     },
     "metadata": {},
     "output_type": "display_data"
    },
    {
     "data": {
      "application/vnd.jupyter.widget-view+json": {
       "model_id": "",
       "version_major": 2,
       "version_minor": 0
      },
      "text/plain": [
       "Validation: |          | 0/? [00:00<?, ?it/s]"
      ]
     },
     "metadata": {},
     "output_type": "display_data"
    },
    {
     "data": {
      "application/vnd.jupyter.widget-view+json": {
       "model_id": "",
       "version_major": 2,
       "version_minor": 0
      },
      "text/plain": [
       "Validation: |          | 0/? [00:00<?, ?it/s]"
      ]
     },
     "metadata": {},
     "output_type": "display_data"
    },
    {
     "data": {
      "application/vnd.jupyter.widget-view+json": {
       "model_id": "",
       "version_major": 2,
       "version_minor": 0
      },
      "text/plain": [
       "Validation: |          | 0/? [00:00<?, ?it/s]"
      ]
     },
     "metadata": {},
     "output_type": "display_data"
    },
    {
     "data": {
      "application/vnd.jupyter.widget-view+json": {
       "model_id": "",
       "version_major": 2,
       "version_minor": 0
      },
      "text/plain": [
       "Validation: |          | 0/? [00:00<?, ?it/s]"
      ]
     },
     "metadata": {},
     "output_type": "display_data"
    },
    {
     "data": {
      "application/vnd.jupyter.widget-view+json": {
       "model_id": "",
       "version_major": 2,
       "version_minor": 0
      },
      "text/plain": [
       "Validation: |          | 0/? [00:00<?, ?it/s]"
      ]
     },
     "metadata": {},
     "output_type": "display_data"
    },
    {
     "data": {
      "application/vnd.jupyter.widget-view+json": {
       "model_id": "",
       "version_major": 2,
       "version_minor": 0
      },
      "text/plain": [
       "Validation: |          | 0/? [00:00<?, ?it/s]"
      ]
     },
     "metadata": {},
     "output_type": "display_data"
    },
    {
     "data": {
      "application/vnd.jupyter.widget-view+json": {
       "model_id": "",
       "version_major": 2,
       "version_minor": 0
      },
      "text/plain": [
       "Validation: |          | 0/? [00:00<?, ?it/s]"
      ]
     },
     "metadata": {},
     "output_type": "display_data"
    },
    {
     "data": {
      "application/vnd.jupyter.widget-view+json": {
       "model_id": "",
       "version_major": 2,
       "version_minor": 0
      },
      "text/plain": [
       "Validation: |          | 0/? [00:00<?, ?it/s]"
      ]
     },
     "metadata": {},
     "output_type": "display_data"
    },
    {
     "data": {
      "application/vnd.jupyter.widget-view+json": {
       "model_id": "",
       "version_major": 2,
       "version_minor": 0
      },
      "text/plain": [
       "Validation: |          | 0/? [00:00<?, ?it/s]"
      ]
     },
     "metadata": {},
     "output_type": "display_data"
    },
    {
     "data": {
      "application/vnd.jupyter.widget-view+json": {
       "model_id": "",
       "version_major": 2,
       "version_minor": 0
      },
      "text/plain": [
       "Validation: |          | 0/? [00:00<?, ?it/s]"
      ]
     },
     "metadata": {},
     "output_type": "display_data"
    },
    {
     "data": {
      "application/vnd.jupyter.widget-view+json": {
       "model_id": "",
       "version_major": 2,
       "version_minor": 0
      },
      "text/plain": [
       "Validation: |          | 0/? [00:00<?, ?it/s]"
      ]
     },
     "metadata": {},
     "output_type": "display_data"
    },
    {
     "data": {
      "application/vnd.jupyter.widget-view+json": {
       "model_id": "",
       "version_major": 2,
       "version_minor": 0
      },
      "text/plain": [
       "Validation: |          | 0/? [00:00<?, ?it/s]"
      ]
     },
     "metadata": {},
     "output_type": "display_data"
    },
    {
     "data": {
      "application/vnd.jupyter.widget-view+json": {
       "model_id": "",
       "version_major": 2,
       "version_minor": 0
      },
      "text/plain": [
       "Validation: |          | 0/? [00:00<?, ?it/s]"
      ]
     },
     "metadata": {},
     "output_type": "display_data"
    },
    {
     "data": {
      "application/vnd.jupyter.widget-view+json": {
       "model_id": "",
       "version_major": 2,
       "version_minor": 0
      },
      "text/plain": [
       "Validation: |          | 0/? [00:00<?, ?it/s]"
      ]
     },
     "metadata": {},
     "output_type": "display_data"
    },
    {
     "data": {
      "application/vnd.jupyter.widget-view+json": {
       "model_id": "",
       "version_major": 2,
       "version_minor": 0
      },
      "text/plain": [
       "Validation: |          | 0/? [00:00<?, ?it/s]"
      ]
     },
     "metadata": {},
     "output_type": "display_data"
    },
    {
     "data": {
      "application/vnd.jupyter.widget-view+json": {
       "model_id": "",
       "version_major": 2,
       "version_minor": 0
      },
      "text/plain": [
       "Validation: |          | 0/? [00:00<?, ?it/s]"
      ]
     },
     "metadata": {},
     "output_type": "display_data"
    },
    {
     "data": {
      "application/vnd.jupyter.widget-view+json": {
       "model_id": "",
       "version_major": 2,
       "version_minor": 0
      },
      "text/plain": [
       "Validation: |          | 0/? [00:00<?, ?it/s]"
      ]
     },
     "metadata": {},
     "output_type": "display_data"
    },
    {
     "data": {
      "application/vnd.jupyter.widget-view+json": {
       "model_id": "",
       "version_major": 2,
       "version_minor": 0
      },
      "text/plain": [
       "Validation: |          | 0/? [00:00<?, ?it/s]"
      ]
     },
     "metadata": {},
     "output_type": "display_data"
    },
    {
     "data": {
      "application/vnd.jupyter.widget-view+json": {
       "model_id": "",
       "version_major": 2,
       "version_minor": 0
      },
      "text/plain": [
       "Validation: |          | 0/? [00:00<?, ?it/s]"
      ]
     },
     "metadata": {},
     "output_type": "display_data"
    },
    {
     "data": {
      "application/vnd.jupyter.widget-view+json": {
       "model_id": "",
       "version_major": 2,
       "version_minor": 0
      },
      "text/plain": [
       "Validation: |          | 0/? [00:00<?, ?it/s]"
      ]
     },
     "metadata": {},
     "output_type": "display_data"
    },
    {
     "data": {
      "application/vnd.jupyter.widget-view+json": {
       "model_id": "",
       "version_major": 2,
       "version_minor": 0
      },
      "text/plain": [
       "Validation: |          | 0/? [00:00<?, ?it/s]"
      ]
     },
     "metadata": {},
     "output_type": "display_data"
    },
    {
     "data": {
      "application/vnd.jupyter.widget-view+json": {
       "model_id": "",
       "version_major": 2,
       "version_minor": 0
      },
      "text/plain": [
       "Validation: |          | 0/? [00:00<?, ?it/s]"
      ]
     },
     "metadata": {},
     "output_type": "display_data"
    },
    {
     "data": {
      "application/vnd.jupyter.widget-view+json": {
       "model_id": "",
       "version_major": 2,
       "version_minor": 0
      },
      "text/plain": [
       "Validation: |          | 0/? [00:00<?, ?it/s]"
      ]
     },
     "metadata": {},
     "output_type": "display_data"
    },
    {
     "data": {
      "application/vnd.jupyter.widget-view+json": {
       "model_id": "",
       "version_major": 2,
       "version_minor": 0
      },
      "text/plain": [
       "Validation: |          | 0/? [00:00<?, ?it/s]"
      ]
     },
     "metadata": {},
     "output_type": "display_data"
    },
    {
     "data": {
      "application/vnd.jupyter.widget-view+json": {
       "model_id": "",
       "version_major": 2,
       "version_minor": 0
      },
      "text/plain": [
       "Validation: |          | 0/? [00:00<?, ?it/s]"
      ]
     },
     "metadata": {},
     "output_type": "display_data"
    },
    {
     "data": {
      "application/vnd.jupyter.widget-view+json": {
       "model_id": "",
       "version_major": 2,
       "version_minor": 0
      },
      "text/plain": [
       "Validation: |          | 0/? [00:00<?, ?it/s]"
      ]
     },
     "metadata": {},
     "output_type": "display_data"
    },
    {
     "data": {
      "application/vnd.jupyter.widget-view+json": {
       "model_id": "",
       "version_major": 2,
       "version_minor": 0
      },
      "text/plain": [
       "Validation: |          | 0/? [00:00<?, ?it/s]"
      ]
     },
     "metadata": {},
     "output_type": "display_data"
    },
    {
     "data": {
      "application/vnd.jupyter.widget-view+json": {
       "model_id": "",
       "version_major": 2,
       "version_minor": 0
      },
      "text/plain": [
       "Validation: |          | 0/? [00:00<?, ?it/s]"
      ]
     },
     "metadata": {},
     "output_type": "display_data"
    },
    {
     "data": {
      "application/vnd.jupyter.widget-view+json": {
       "model_id": "",
       "version_major": 2,
       "version_minor": 0
      },
      "text/plain": [
       "Validation: |          | 0/? [00:00<?, ?it/s]"
      ]
     },
     "metadata": {},
     "output_type": "display_data"
    },
    {
     "data": {
      "application/vnd.jupyter.widget-view+json": {
       "model_id": "",
       "version_major": 2,
       "version_minor": 0
      },
      "text/plain": [
       "Validation: |          | 0/? [00:00<?, ?it/s]"
      ]
     },
     "metadata": {},
     "output_type": "display_data"
    },
    {
     "data": {
      "application/vnd.jupyter.widget-view+json": {
       "model_id": "",
       "version_major": 2,
       "version_minor": 0
      },
      "text/plain": [
       "Validation: |          | 0/? [00:00<?, ?it/s]"
      ]
     },
     "metadata": {},
     "output_type": "display_data"
    },
    {
     "data": {
      "application/vnd.jupyter.widget-view+json": {
       "model_id": "",
       "version_major": 2,
       "version_minor": 0
      },
      "text/plain": [
       "Validation: |          | 0/? [00:00<?, ?it/s]"
      ]
     },
     "metadata": {},
     "output_type": "display_data"
    },
    {
     "data": {
      "application/vnd.jupyter.widget-view+json": {
       "model_id": "",
       "version_major": 2,
       "version_minor": 0
      },
      "text/plain": [
       "Validation: |          | 0/? [00:00<?, ?it/s]"
      ]
     },
     "metadata": {},
     "output_type": "display_data"
    },
    {
     "data": {
      "application/vnd.jupyter.widget-view+json": {
       "model_id": "",
       "version_major": 2,
       "version_minor": 0
      },
      "text/plain": [
       "Validation: |          | 0/? [00:00<?, ?it/s]"
      ]
     },
     "metadata": {},
     "output_type": "display_data"
    },
    {
     "data": {
      "application/vnd.jupyter.widget-view+json": {
       "model_id": "",
       "version_major": 2,
       "version_minor": 0
      },
      "text/plain": [
       "Validation: |          | 0/? [00:00<?, ?it/s]"
      ]
     },
     "metadata": {},
     "output_type": "display_data"
    },
    {
     "data": {
      "application/vnd.jupyter.widget-view+json": {
       "model_id": "",
       "version_major": 2,
       "version_minor": 0
      },
      "text/plain": [
       "Validation: |          | 0/? [00:00<?, ?it/s]"
      ]
     },
     "metadata": {},
     "output_type": "display_data"
    },
    {
     "data": {
      "application/vnd.jupyter.widget-view+json": {
       "model_id": "",
       "version_major": 2,
       "version_minor": 0
      },
      "text/plain": [
       "Validation: |          | 0/? [00:00<?, ?it/s]"
      ]
     },
     "metadata": {},
     "output_type": "display_data"
    },
    {
     "data": {
      "application/vnd.jupyter.widget-view+json": {
       "model_id": "",
       "version_major": 2,
       "version_minor": 0
      },
      "text/plain": [
       "Validation: |          | 0/? [00:00<?, ?it/s]"
      ]
     },
     "metadata": {},
     "output_type": "display_data"
    },
    {
     "data": {
      "application/vnd.jupyter.widget-view+json": {
       "model_id": "",
       "version_major": 2,
       "version_minor": 0
      },
      "text/plain": [
       "Validation: |          | 0/? [00:00<?, ?it/s]"
      ]
     },
     "metadata": {},
     "output_type": "display_data"
    },
    {
     "data": {
      "application/vnd.jupyter.widget-view+json": {
       "model_id": "",
       "version_major": 2,
       "version_minor": 0
      },
      "text/plain": [
       "Validation: |          | 0/? [00:00<?, ?it/s]"
      ]
     },
     "metadata": {},
     "output_type": "display_data"
    },
    {
     "data": {
      "application/vnd.jupyter.widget-view+json": {
       "model_id": "",
       "version_major": 2,
       "version_minor": 0
      },
      "text/plain": [
       "Validation: |          | 0/? [00:00<?, ?it/s]"
      ]
     },
     "metadata": {},
     "output_type": "display_data"
    },
    {
     "data": {
      "application/vnd.jupyter.widget-view+json": {
       "model_id": "0e6b983827eb4d47b4e557df2ecfa74b",
       "version_major": 2,
       "version_minor": 0
      },
      "text/plain": [
       "Validation: |          | 0/? [00:00<?, ?it/s]"
      ]
     },
     "metadata": {},
     "output_type": "display_data"
    },
    {
     "data": {
      "application/vnd.jupyter.widget-view+json": {
       "model_id": "0987e2ce9a524cca8c7e79b2842f2889",
       "version_major": 2,
       "version_minor": 0
      },
      "text/plain": [
       "Validation: |          | 0/? [00:00<?, ?it/s]"
      ]
     },
     "metadata": {},
     "output_type": "display_data"
    },
    {
     "data": {
      "application/vnd.jupyter.widget-view+json": {
       "model_id": "9a8f492377d84c35bf288b5e0190b3d9",
       "version_major": 2,
       "version_minor": 0
      },
      "text/plain": [
       "Validation: |          | 0/? [00:00<?, ?it/s]"
      ]
     },
     "metadata": {},
     "output_type": "display_data"
    },
    {
     "data": {
      "application/vnd.jupyter.widget-view+json": {
       "model_id": "bf5917a8761c47eea19583f8dc7a5bb3",
       "version_major": 2,
       "version_minor": 0
      },
      "text/plain": [
       "Validation: |          | 0/? [00:00<?, ?it/s]"
      ]
     },
     "metadata": {},
     "output_type": "display_data"
    },
    {
     "data": {
      "application/vnd.jupyter.widget-view+json": {
       "model_id": "83571671aa1c4b57a45a039f687d5af2",
       "version_major": 2,
       "version_minor": 0
      },
      "text/plain": [
       "Validation: |          | 0/? [00:00<?, ?it/s]"
      ]
     },
     "metadata": {},
     "output_type": "display_data"
    },
    {
     "data": {
      "application/vnd.jupyter.widget-view+json": {
       "model_id": "f06083cb60cb441ebc0fa782a24a974a",
       "version_major": 2,
       "version_minor": 0
      },
      "text/plain": [
       "Validation: |          | 0/? [00:00<?, ?it/s]"
      ]
     },
     "metadata": {},
     "output_type": "display_data"
    },
    {
     "data": {
      "application/vnd.jupyter.widget-view+json": {
       "model_id": "4285c55c26e4412f80e6de7a2ba1be53",
       "version_major": 2,
       "version_minor": 0
      },
      "text/plain": [
       "Validation: |          | 0/? [00:00<?, ?it/s]"
      ]
     },
     "metadata": {},
     "output_type": "display_data"
    },
    {
     "data": {
      "application/vnd.jupyter.widget-view+json": {
       "model_id": "1de93af912ae4129aaa2192bee73ca9c",
       "version_major": 2,
       "version_minor": 0
      },
      "text/plain": [
       "Validation: |          | 0/? [00:00<?, ?it/s]"
      ]
     },
     "metadata": {},
     "output_type": "display_data"
    },
    {
     "data": {
      "application/vnd.jupyter.widget-view+json": {
       "model_id": "34d960aa7c704f2e81c2621968ac10f8",
       "version_major": 2,
       "version_minor": 0
      },
      "text/plain": [
       "Validation: |          | 0/? [00:00<?, ?it/s]"
      ]
     },
     "metadata": {},
     "output_type": "display_data"
    },
    {
     "data": {
      "application/vnd.jupyter.widget-view+json": {
       "model_id": "a60f2a884b7f4a0784186cfd07f0f61d",
       "version_major": 2,
       "version_minor": 0
      },
      "text/plain": [
       "Validation: |          | 0/? [00:00<?, ?it/s]"
      ]
     },
     "metadata": {},
     "output_type": "display_data"
    },
    {
     "data": {
      "application/vnd.jupyter.widget-view+json": {
       "model_id": "f0a0fc67cbc04ee8a6224ab4e1890e80",
       "version_major": 2,
       "version_minor": 0
      },
      "text/plain": [
       "Validation: |          | 0/? [00:00<?, ?it/s]"
      ]
     },
     "metadata": {},
     "output_type": "display_data"
    },
    {
     "data": {
      "application/vnd.jupyter.widget-view+json": {
       "model_id": "a5dc93c5c4594d88baa19759814a534c",
       "version_major": 2,
       "version_minor": 0
      },
      "text/plain": [
       "Validation: |          | 0/? [00:00<?, ?it/s]"
      ]
     },
     "metadata": {},
     "output_type": "display_data"
    },
    {
     "data": {
      "application/vnd.jupyter.widget-view+json": {
       "model_id": "92e6bcdec5c04398b060db11e5b557b3",
       "version_major": 2,
       "version_minor": 0
      },
      "text/plain": [
       "Validation: |          | 0/? [00:00<?, ?it/s]"
      ]
     },
     "metadata": {},
     "output_type": "display_data"
    },
    {
     "data": {
      "application/vnd.jupyter.widget-view+json": {
       "model_id": "1cda8818433b4bba84a777458012bbd4",
       "version_major": 2,
       "version_minor": 0
      },
      "text/plain": [
       "Validation: |          | 0/? [00:00<?, ?it/s]"
      ]
     },
     "metadata": {},
     "output_type": "display_data"
    },
    {
     "data": {
      "application/vnd.jupyter.widget-view+json": {
       "model_id": "1826c895f90449e285ddcd80126abfbd",
       "version_major": 2,
       "version_minor": 0
      },
      "text/plain": [
       "Validation: |          | 0/? [00:00<?, ?it/s]"
      ]
     },
     "metadata": {},
     "output_type": "display_data"
    },
    {
     "data": {
      "application/vnd.jupyter.widget-view+json": {
       "model_id": "bb4c935ff8a74d77b214a2824280e20b",
       "version_major": 2,
       "version_minor": 0
      },
      "text/plain": [
       "Validation: |          | 0/? [00:00<?, ?it/s]"
      ]
     },
     "metadata": {},
     "output_type": "display_data"
    },
    {
     "data": {
      "application/vnd.jupyter.widget-view+json": {
       "model_id": "c8ae62d1204146d19d9f0e08ba21af9a",
       "version_major": 2,
       "version_minor": 0
      },
      "text/plain": [
       "Validation: |          | 0/? [00:00<?, ?it/s]"
      ]
     },
     "metadata": {},
     "output_type": "display_data"
    },
    {
     "data": {
      "application/vnd.jupyter.widget-view+json": {
       "model_id": "90b07db515f4458a9723421cf218cc0e",
       "version_major": 2,
       "version_minor": 0
      },
      "text/plain": [
       "Validation: |          | 0/? [00:00<?, ?it/s]"
      ]
     },
     "metadata": {},
     "output_type": "display_data"
    },
    {
     "data": {
      "application/vnd.jupyter.widget-view+json": {
       "model_id": "e4f96e067aa24b9da2d3df1864c51104",
       "version_major": 2,
       "version_minor": 0
      },
      "text/plain": [
       "Validation: |          | 0/? [00:00<?, ?it/s]"
      ]
     },
     "metadata": {},
     "output_type": "display_data"
    },
    {
     "data": {
      "application/vnd.jupyter.widget-view+json": {
       "model_id": "5f49ea786b34418e909cea42844c559a",
       "version_major": 2,
       "version_minor": 0
      },
      "text/plain": [
       "Validation: |          | 0/? [00:00<?, ?it/s]"
      ]
     },
     "metadata": {},
     "output_type": "display_data"
    },
    {
     "data": {
      "application/vnd.jupyter.widget-view+json": {
       "model_id": "ac33a8ce1d2442adb20cd477998e4c7d",
       "version_major": 2,
       "version_minor": 0
      },
      "text/plain": [
       "Validation: |          | 0/? [00:00<?, ?it/s]"
      ]
     },
     "metadata": {},
     "output_type": "display_data"
    },
    {
     "data": {
      "application/vnd.jupyter.widget-view+json": {
       "model_id": "09f64301bb344238a1058fcf0d8a5e93",
       "version_major": 2,
       "version_minor": 0
      },
      "text/plain": [
       "Validation: |          | 0/? [00:00<?, ?it/s]"
      ]
     },
     "metadata": {},
     "output_type": "display_data"
    },
    {
     "data": {
      "application/vnd.jupyter.widget-view+json": {
       "model_id": "59b673d06ca0403f83cd5dab47fa5956",
       "version_major": 2,
       "version_minor": 0
      },
      "text/plain": [
       "Validation: |          | 0/? [00:00<?, ?it/s]"
      ]
     },
     "metadata": {},
     "output_type": "display_data"
    },
    {
     "data": {
      "application/vnd.jupyter.widget-view+json": {
       "model_id": "fdd1fdbd19024be88fd6713f3e2c85bb",
       "version_major": 2,
       "version_minor": 0
      },
      "text/plain": [
       "Validation: |          | 0/? [00:00<?, ?it/s]"
      ]
     },
     "metadata": {},
     "output_type": "display_data"
    },
    {
     "data": {
      "application/vnd.jupyter.widget-view+json": {
       "model_id": "b97290b27e2e4d598d9c3c8a7e7824fc",
       "version_major": 2,
       "version_minor": 0
      },
      "text/plain": [
       "Validation: |          | 0/? [00:00<?, ?it/s]"
      ]
     },
     "metadata": {},
     "output_type": "display_data"
    },
    {
     "data": {
      "application/vnd.jupyter.widget-view+json": {
       "model_id": "fb91e359b4b04ef885e2a5fd7072097c",
       "version_major": 2,
       "version_minor": 0
      },
      "text/plain": [
       "Validation: |          | 0/? [00:00<?, ?it/s]"
      ]
     },
     "metadata": {},
     "output_type": "display_data"
    },
    {
     "data": {
      "application/vnd.jupyter.widget-view+json": {
       "model_id": "4578f7e8448b44e5aaaca291c2a219c1",
       "version_major": 2,
       "version_minor": 0
      },
      "text/plain": [
       "Validation: |          | 0/? [00:00<?, ?it/s]"
      ]
     },
     "metadata": {},
     "output_type": "display_data"
    },
    {
     "data": {
      "application/vnd.jupyter.widget-view+json": {
       "model_id": "4cefd4d7ec12449aa4f7292bfdd868c7",
       "version_major": 2,
       "version_minor": 0
      },
      "text/plain": [
       "Validation: |          | 0/? [00:00<?, ?it/s]"
      ]
     },
     "metadata": {},
     "output_type": "display_data"
    },
    {
     "data": {
      "application/vnd.jupyter.widget-view+json": {
       "model_id": "399c2b82d4fb48cca512dd70d3eaaee8",
       "version_major": 2,
       "version_minor": 0
      },
      "text/plain": [
       "Validation: |          | 0/? [00:00<?, ?it/s]"
      ]
     },
     "metadata": {},
     "output_type": "display_data"
    },
    {
     "data": {
      "application/vnd.jupyter.widget-view+json": {
       "model_id": "b5276d43bd3f4cc7945f3c7c4a689649",
       "version_major": 2,
       "version_minor": 0
      },
      "text/plain": [
       "Validation: |          | 0/? [00:00<?, ?it/s]"
      ]
     },
     "metadata": {},
     "output_type": "display_data"
    },
    {
     "data": {
      "application/vnd.jupyter.widget-view+json": {
       "model_id": "c4e4a06730fe4646abf1c8d9e57554c6",
       "version_major": 2,
       "version_minor": 0
      },
      "text/plain": [
       "Validation: |          | 0/? [00:00<?, ?it/s]"
      ]
     },
     "metadata": {},
     "output_type": "display_data"
    },
    {
     "data": {
      "application/vnd.jupyter.widget-view+json": {
       "model_id": "28a907e74cc8430baf598e060486ab7a",
       "version_major": 2,
       "version_minor": 0
      },
      "text/plain": [
       "Validation: |          | 0/? [00:00<?, ?it/s]"
      ]
     },
     "metadata": {},
     "output_type": "display_data"
    },
    {
     "data": {
      "application/vnd.jupyter.widget-view+json": {
       "model_id": "b021608bd6734cceaca6b0cea5f5c226",
       "version_major": 2,
       "version_minor": 0
      },
      "text/plain": [
       "Validation: |          | 0/? [00:00<?, ?it/s]"
      ]
     },
     "metadata": {},
     "output_type": "display_data"
    },
    {
     "data": {
      "application/vnd.jupyter.widget-view+json": {
       "model_id": "aa11546b6c544cf9949fc4cbc8a639fc",
       "version_major": 2,
       "version_minor": 0
      },
      "text/plain": [
       "Validation: |          | 0/? [00:00<?, ?it/s]"
      ]
     },
     "metadata": {},
     "output_type": "display_data"
    },
    {
     "data": {
      "application/vnd.jupyter.widget-view+json": {
       "model_id": "b7f11a65c7384eb8b33626cab961379f",
       "version_major": 2,
       "version_minor": 0
      },
      "text/plain": [
       "Validation: |          | 0/? [00:00<?, ?it/s]"
      ]
     },
     "metadata": {},
     "output_type": "display_data"
    },
    {
     "data": {
      "application/vnd.jupyter.widget-view+json": {
       "model_id": "5f5cce55f1c04cb384fdcd7894b53122",
       "version_major": 2,
       "version_minor": 0
      },
      "text/plain": [
       "Validation: |          | 0/? [00:00<?, ?it/s]"
      ]
     },
     "metadata": {},
     "output_type": "display_data"
    },
    {
     "data": {
      "application/vnd.jupyter.widget-view+json": {
       "model_id": "4fff51ff2fdf4ba3b4c677ace87e2ff2",
       "version_major": 2,
       "version_minor": 0
      },
      "text/plain": [
       "Validation: |          | 0/? [00:00<?, ?it/s]"
      ]
     },
     "metadata": {},
     "output_type": "display_data"
    },
    {
     "data": {
      "application/vnd.jupyter.widget-view+json": {
       "model_id": "7fc1ddb65b3b4b3fa4828955d93ea906",
       "version_major": 2,
       "version_minor": 0
      },
      "text/plain": [
       "Validation: |          | 0/? [00:00<?, ?it/s]"
      ]
     },
     "metadata": {},
     "output_type": "display_data"
    },
    {
     "data": {
      "application/vnd.jupyter.widget-view+json": {
       "model_id": "df9bfd089d654d6097f4a18ad0080dff",
       "version_major": 2,
       "version_minor": 0
      },
      "text/plain": [
       "Validation: |          | 0/? [00:00<?, ?it/s]"
      ]
     },
     "metadata": {},
     "output_type": "display_data"
    },
    {
     "data": {
      "application/vnd.jupyter.widget-view+json": {
       "model_id": "d8c384f569af452d8e4249f13dc8dae2",
       "version_major": 2,
       "version_minor": 0
      },
      "text/plain": [
       "Validation: |          | 0/? [00:00<?, ?it/s]"
      ]
     },
     "metadata": {},
     "output_type": "display_data"
    },
    {
     "data": {
      "application/vnd.jupyter.widget-view+json": {
       "model_id": "51f8566c570b4ec7aad8ff507d0a17e2",
       "version_major": 2,
       "version_minor": 0
      },
      "text/plain": [
       "Validation: |          | 0/? [00:00<?, ?it/s]"
      ]
     },
     "metadata": {},
     "output_type": "display_data"
    },
    {
     "data": {
      "application/vnd.jupyter.widget-view+json": {
       "model_id": "dfa6f24dd3b34fe5967baceea3365403",
       "version_major": 2,
       "version_minor": 0
      },
      "text/plain": [
       "Validation: |          | 0/? [00:00<?, ?it/s]"
      ]
     },
     "metadata": {},
     "output_type": "display_data"
    },
    {
     "data": {
      "application/vnd.jupyter.widget-view+json": {
       "model_id": "96a18cba54d14059aae481c19b180fbd",
       "version_major": 2,
       "version_minor": 0
      },
      "text/plain": [
       "Validation: |          | 0/? [00:00<?, ?it/s]"
      ]
     },
     "metadata": {},
     "output_type": "display_data"
    },
    {
     "data": {
      "application/vnd.jupyter.widget-view+json": {
       "model_id": "7d6373497ad741f9977a5e7a0bce325c",
       "version_major": 2,
       "version_minor": 0
      },
      "text/plain": [
       "Validation: |          | 0/? [00:00<?, ?it/s]"
      ]
     },
     "metadata": {},
     "output_type": "display_data"
    },
    {
     "data": {
      "application/vnd.jupyter.widget-view+json": {
       "model_id": "82fad898fe59472199c414d9f3815889",
       "version_major": 2,
       "version_minor": 0
      },
      "text/plain": [
       "Validation: |          | 0/? [00:00<?, ?it/s]"
      ]
     },
     "metadata": {},
     "output_type": "display_data"
    },
    {
     "data": {
      "application/vnd.jupyter.widget-view+json": {
       "model_id": "c9a650ac1a554495b0ffb7c2cfc945f1",
       "version_major": 2,
       "version_minor": 0
      },
      "text/plain": [
       "Validation: |          | 0/? [00:00<?, ?it/s]"
      ]
     },
     "metadata": {},
     "output_type": "display_data"
    },
    {
     "data": {
      "application/vnd.jupyter.widget-view+json": {
       "model_id": "6afb422e1eba407ea0505c838142f503",
       "version_major": 2,
       "version_minor": 0
      },
      "text/plain": [
       "Validation: |          | 0/? [00:00<?, ?it/s]"
      ]
     },
     "metadata": {},
     "output_type": "display_data"
    },
    {
     "data": {
      "application/vnd.jupyter.widget-view+json": {
       "model_id": "e8bc3a4d74fd4195a736a5d1131a7d39",
       "version_major": 2,
       "version_minor": 0
      },
      "text/plain": [
       "Validation: |          | 0/? [00:00<?, ?it/s]"
      ]
     },
     "metadata": {},
     "output_type": "display_data"
    },
    {
     "data": {
      "application/vnd.jupyter.widget-view+json": {
       "model_id": "3d6da80f51be460096fef17016d34cd7",
       "version_major": 2,
       "version_minor": 0
      },
      "text/plain": [
       "Validation: |          | 0/? [00:00<?, ?it/s]"
      ]
     },
     "metadata": {},
     "output_type": "display_data"
    },
    {
     "data": {
      "application/vnd.jupyter.widget-view+json": {
       "model_id": "fda151436e5a4a27908ac0ed53396040",
       "version_major": 2,
       "version_minor": 0
      },
      "text/plain": [
       "Validation: |          | 0/? [00:00<?, ?it/s]"
      ]
     },
     "metadata": {},
     "output_type": "display_data"
    },
    {
     "data": {
      "application/vnd.jupyter.widget-view+json": {
       "model_id": "00fcef6a653a4f548d5a39b7cd7aeeda",
       "version_major": 2,
       "version_minor": 0
      },
      "text/plain": [
       "Validation: |          | 0/? [00:00<?, ?it/s]"
      ]
     },
     "metadata": {},
     "output_type": "display_data"
    },
    {
     "data": {
      "application/vnd.jupyter.widget-view+json": {
       "model_id": "2eee4a4016cc4ed0be8db94224d79b88",
       "version_major": 2,
       "version_minor": 0
      },
      "text/plain": [
       "Validation: |          | 0/? [00:00<?, ?it/s]"
      ]
     },
     "metadata": {},
     "output_type": "display_data"
    },
    {
     "data": {
      "application/vnd.jupyter.widget-view+json": {
       "model_id": "45b1a80447274ab391d80493993afad3",
       "version_major": 2,
       "version_minor": 0
      },
      "text/plain": [
       "Validation: |          | 0/? [00:00<?, ?it/s]"
      ]
     },
     "metadata": {},
     "output_type": "display_data"
    },
    {
     "name": "stderr",
     "output_type": "stream",
     "text": [
      "`Trainer.fit` stopped: `max_epochs=100` reached.\n"
     ]
    }
   ],
   "source": [
    "# Fit model\n",
    "trainer.fit(model=ls, datamodule=dm)"
   ]
  },
  {
   "cell_type": "markdown",
   "id": "821700cf-62c9-41d2-97f1-75a82e2e32be",
   "metadata": {},
   "source": [
    "## Predict Segmentation Assignments"
   ]
  },
  {
   "cell_type": "markdown",
   "id": "1670aa17-831f-423a-af85-9384c37b92a8",
   "metadata": {},
   "source": [
    "Explain things here"
   ]
  },
  {
   "cell_type": "code",
   "execution_count": 6,
   "id": "a18f9ddc-45ec-43f4-b1d4-51040534f2ff",
   "metadata": {
    "execution": {
     "iopub.execute_input": "2024-09-11T17:37:31.449492Z",
     "iopub.status.busy": "2024-09-11T17:37:31.449350Z",
     "iopub.status.idle": "2024-09-11T17:37:32.971125Z",
     "shell.execute_reply": "2024-09-11T17:37:32.970754Z",
     "shell.execute_reply.started": "2024-09-11T17:37:31.449477Z"
    }
   },
   "outputs": [],
   "source": [
    "from segger.prediction.predict import predict, load_model"
   ]
  },
  {
   "cell_type": "code",
   "execution_count": 11,
   "id": "d4279c71-4660-46fc-a9e5-834e25d31f53",
   "metadata": {
    "execution": {
     "iopub.execute_input": "2024-09-11T17:37:52.669622Z",
     "iopub.status.busy": "2024-09-11T17:37:52.669251Z",
     "iopub.status.idle": "2024-09-11T17:37:54.639087Z",
     "shell.execute_reply": "2024-09-11T17:37:54.638666Z",
     "shell.execute_reply.started": "2024-09-11T17:37:52.669606Z"
    }
   },
   "outputs": [],
   "source": [
    "model_version = 44026  # from training output above\n",
    "model_path = models_dir / 'lightning_logs' / f'version_{model_version}'\n",
    "model = load_model(model_path / 'checkpoints')"
   ]
  },
  {
   "cell_type": "code",
   "execution_count": 33,
   "id": "4f3c0a87-0504-43be-a885-6183a3e849b0",
   "metadata": {
    "execution": {
     "iopub.execute_input": "2024-09-11T17:48:36.777933Z",
     "iopub.status.busy": "2024-09-11T17:48:36.777520Z",
     "iopub.status.idle": "2024-09-11T17:48:38.408028Z",
     "shell.execute_reply": "2024-09-11T17:48:38.407595Z",
     "shell.execute_reply.started": "2024-09-11T17:48:36.777906Z"
    }
   },
   "outputs": [
    {
     "name": "stderr",
     "output_type": "stream",
     "text": [
      "Processing...\n",
      "Done!\n"
     ]
    }
   ],
   "source": [
    "dm.setup()"
   ]
  },
  {
   "cell_type": "code",
   "execution_count": 34,
   "id": "761d89cd-c11b-4212-bd43-38042ca14d33",
   "metadata": {
    "execution": {
     "iopub.execute_input": "2024-09-11T17:48:38.542038Z",
     "iopub.status.busy": "2024-09-11T17:48:38.541653Z",
     "iopub.status.idle": "2024-09-11T17:48:40.569039Z",
     "shell.execute_reply": "2024-09-11T17:48:40.568525Z",
     "shell.execute_reply.started": "2024-09-11T17:48:38.542014Z"
    }
   },
   "outputs": [],
   "source": [
    "batch = next(dm.train_dataloader().__iter__())"
   ]
  },
  {
   "cell_type": "code",
   "execution_count": 92,
   "id": "73de297a-7373-4b9f-bd36-ff8f310a3354",
   "metadata": {
    "execution": {
     "iopub.execute_input": "2024-09-11T18:20:42.323446Z",
     "iopub.status.busy": "2024-09-11T18:20:42.323067Z",
     "iopub.status.idle": "2024-09-11T18:20:43.883887Z",
     "shell.execute_reply": "2024-09-11T18:20:43.883459Z",
     "shell.execute_reply.started": "2024-09-11T18:20:42.323420Z"
    }
   },
   "outputs": [],
   "source": [
    "from segger.data.utils import get_edge_index, coo_to_dense_adj\n",
    "import torch\n",
    "\n",
    "receptive_field={'k_bd': 3, 'dist_bd': 15,'k_tx': 15, 'dist_tx': 3}\n",
    "\n",
    "edge_index = get_edge_index(\n",
    "    batch['tx'].pos[:, :2],\n",
    "    batch['bd'].pos[:, :2],\n",
    "    k=receptive_field['k_bd'],\n",
    "    dist=receptive_field['dist_bd'],\n",
    "    method='kd_tree',\n",
    ")\n",
    "batch['bd']['tx_field'] = coo_to_dense_adj(edge_index.T)"
   ]
  },
  {
   "cell_type": "code",
   "execution_count": 93,
   "id": "6d3af6ad-fd19-41a3-92fc-c1683666665b",
   "metadata": {
    "execution": {
     "iopub.execute_input": "2024-09-11T18:21:06.076005Z",
     "iopub.status.busy": "2024-09-11T18:21:06.075632Z",
     "iopub.status.idle": "2024-09-11T18:21:07.660049Z",
     "shell.execute_reply": "2024-09-11T18:21:07.659624Z",
     "shell.execute_reply.started": "2024-09-11T18:21:06.075987Z"
    }
   },
   "outputs": [],
   "source": [
    "from_type = 'tx'\n",
    "to_type = 'bd'"
   ]
  },
  {
   "cell_type": "code",
   "execution_count": 95,
   "id": "455f221e-5cc4-4341-bf93-d6466b769a4e",
   "metadata": {
    "execution": {
     "iopub.execute_input": "2024-09-11T18:21:19.856375Z",
     "iopub.status.busy": "2024-09-11T18:21:19.856000Z",
     "iopub.status.idle": "2024-09-11T18:21:22.257678Z",
     "shell.execute_reply": "2024-09-11T18:21:22.257144Z",
     "shell.execute_reply.started": "2024-09-11T18:21:19.856357Z"
    }
   },
   "outputs": [
    {
     "name": "stderr",
     "output_type": "stream",
     "text": [
      "/home/conda/feedstock_root/build_artifacts/libtorch_1715185017593/work/aten/src/ATen/native/cuda/IndexKernel.cu:92: operator(): block: [52,0,0], thread: [64,0,0] Assertion `-sizes[i] <= index && index < sizes[i] && \"index out of bounds\"` failed.\n",
      "/home/conda/feedstock_root/build_artifacts/libtorch_1715185017593/work/aten/src/ATen/native/cuda/IndexKernel.cu:92: operator(): block: [52,0,0], thread: [65,0,0] Assertion `-sizes[i] <= index && index < sizes[i] && \"index out of bounds\"` failed.\n",
      "/home/conda/feedstock_root/build_artifacts/libtorch_1715185017593/work/aten/src/ATen/native/cuda/IndexKernel.cu:92: operator(): block: [52,0,0], thread: [66,0,0] Assertion `-sizes[i] <= index && index < sizes[i] && \"index out of bounds\"` failed.\n",
      "/home/conda/feedstock_root/build_artifacts/libtorch_1715185017593/work/aten/src/ATen/native/cuda/IndexKernel.cu:92: operator(): block: [52,0,0], thread: [67,0,0] Assertion `-sizes[i] <= index && index < sizes[i] && \"index out of bounds\"` failed.\n",
      "/home/conda/feedstock_root/build_artifacts/libtorch_1715185017593/work/aten/src/ATen/native/cuda/IndexKernel.cu:92: operator(): block: [52,0,0], thread: [68,0,0] Assertion `-sizes[i] <= index && index < sizes[i] && \"index out of bounds\"` failed.\n",
      "/home/conda/feedstock_root/build_artifacts/libtorch_1715185017593/work/aten/src/ATen/native/cuda/IndexKernel.cu:92: operator(): block: [52,0,0], thread: [69,0,0] Assertion `-sizes[i] <= index && index < sizes[i] && \"index out of bounds\"` failed.\n",
      "/home/conda/feedstock_root/build_artifacts/libtorch_1715185017593/work/aten/src/ATen/native/cuda/IndexKernel.cu:92: operator(): block: [52,0,0], thread: [70,0,0] Assertion `-sizes[i] <= index && index < sizes[i] && \"index out of bounds\"` failed.\n",
      "/home/conda/feedstock_root/build_artifacts/libtorch_1715185017593/work/aten/src/ATen/native/cuda/IndexKernel.cu:92: operator(): block: [52,0,0], thread: [71,0,0] Assertion `-sizes[i] <= index && index < sizes[i] && \"index out of bounds\"` failed.\n",
      "/home/conda/feedstock_root/build_artifacts/libtorch_1715185017593/work/aten/src/ATen/native/cuda/IndexKernel.cu:92: operator(): block: [52,0,0], thread: [72,0,0] Assertion `-sizes[i] <= index && index < sizes[i] && \"index out of bounds\"` failed.\n",
      "/home/conda/feedstock_root/build_artifacts/libtorch_1715185017593/work/aten/src/ATen/native/cuda/IndexKernel.cu:92: operator(): block: [52,0,0], thread: [73,0,0] Assertion `-sizes[i] <= index && index < sizes[i] && \"index out of bounds\"` failed.\n",
      "/home/conda/feedstock_root/build_artifacts/libtorch_1715185017593/work/aten/src/ATen/native/cuda/IndexKernel.cu:92: operator(): block: [52,0,0], thread: [74,0,0] Assertion `-sizes[i] <= index && index < sizes[i] && \"index out of bounds\"` failed.\n",
      "/home/conda/feedstock_root/build_artifacts/libtorch_1715185017593/work/aten/src/ATen/native/cuda/IndexKernel.cu:92: operator(): block: [52,0,0], thread: [75,0,0] Assertion `-sizes[i] <= index && index < sizes[i] && \"index out of bounds\"` failed.\n",
      "/home/conda/feedstock_root/build_artifacts/libtorch_1715185017593/work/aten/src/ATen/native/cuda/IndexKernel.cu:92: operator(): block: [52,0,0], thread: [76,0,0] Assertion `-sizes[i] <= index && index < sizes[i] && \"index out of bounds\"` failed.\n",
      "/home/conda/feedstock_root/build_artifacts/libtorch_1715185017593/work/aten/src/ATen/native/cuda/IndexKernel.cu:92: operator(): block: [52,0,0], thread: [77,0,0] Assertion `-sizes[i] <= index && index < sizes[i] && \"index out of bounds\"` failed.\n",
      "/home/conda/feedstock_root/build_artifacts/libtorch_1715185017593/work/aten/src/ATen/native/cuda/IndexKernel.cu:92: operator(): block: [52,0,0], thread: [78,0,0] Assertion `-sizes[i] <= index && index < sizes[i] && \"index out of bounds\"` failed.\n",
      "/home/conda/feedstock_root/build_artifacts/libtorch_1715185017593/work/aten/src/ATen/native/cuda/IndexKernel.cu:92: operator(): block: [52,0,0], thread: [79,0,0] Assertion `-sizes[i] <= index && index < sizes[i] && \"index out of bounds\"` failed.\n",
      "/home/conda/feedstock_root/build_artifacts/libtorch_1715185017593/work/aten/src/ATen/native/cuda/IndexKernel.cu:92: operator(): block: [52,0,0], thread: [80,0,0] Assertion `-sizes[i] <= index && index < sizes[i] && \"index out of bounds\"` failed.\n",
      "/home/conda/feedstock_root/build_artifacts/libtorch_1715185017593/work/aten/src/ATen/native/cuda/IndexKernel.cu:92: operator(): block: [52,0,0], thread: [81,0,0] Assertion `-sizes[i] <= index && index < sizes[i] && \"index out of bounds\"` failed.\n",
      "/home/conda/feedstock_root/build_artifacts/libtorch_1715185017593/work/aten/src/ATen/native/cuda/IndexKernel.cu:92: operator(): block: [52,0,0], thread: [82,0,0] Assertion `-sizes[i] <= index && index < sizes[i] && \"index out of bounds\"` failed.\n",
      "/home/conda/feedstock_root/build_artifacts/libtorch_1715185017593/work/aten/src/ATen/native/cuda/IndexKernel.cu:92: operator(): block: [52,0,0], thread: [83,0,0] Assertion `-sizes[i] <= index && index < sizes[i] && \"index out of bounds\"` failed.\n",
      "/home/conda/feedstock_root/build_artifacts/libtorch_1715185017593/work/aten/src/ATen/native/cuda/IndexKernel.cu:92: operator(): block: [52,0,0], thread: [84,0,0] Assertion `-sizes[i] <= index && index < sizes[i] && \"index out of bounds\"` failed.\n",
      "/home/conda/feedstock_root/build_artifacts/libtorch_1715185017593/work/aten/src/ATen/native/cuda/IndexKernel.cu:92: operator(): block: [52,0,0], thread: [85,0,0] Assertion `-sizes[i] <= index && index < sizes[i] && \"index out of bounds\"` failed.\n",
      "/home/conda/feedstock_root/build_artifacts/libtorch_1715185017593/work/aten/src/ATen/native/cuda/IndexKernel.cu:92: operator(): block: [52,0,0], thread: [86,0,0] Assertion `-sizes[i] <= index && index < sizes[i] && \"index out of bounds\"` failed.\n",
      "/home/conda/feedstock_root/build_artifacts/libtorch_1715185017593/work/aten/src/ATen/native/cuda/IndexKernel.cu:92: operator(): block: [52,0,0], thread: [87,0,0] Assertion `-sizes[i] <= index && index < sizes[i] && \"index out of bounds\"` failed.\n",
      "/home/conda/feedstock_root/build_artifacts/libtorch_1715185017593/work/aten/src/ATen/native/cuda/IndexKernel.cu:92: operator(): block: [52,0,0], thread: [88,0,0] Assertion `-sizes[i] <= index && index < sizes[i] && \"index out of bounds\"` failed.\n",
      "/home/conda/feedstock_root/build_artifacts/libtorch_1715185017593/work/aten/src/ATen/native/cuda/IndexKernel.cu:92: operator(): block: [52,0,0], thread: [89,0,0] Assertion `-sizes[i] <= index && index < sizes[i] && \"index out of bounds\"` failed.\n",
      "/home/conda/feedstock_root/build_artifacts/libtorch_1715185017593/work/aten/src/ATen/native/cuda/IndexKernel.cu:92: operator(): block: [52,0,0], thread: [90,0,0] Assertion `-sizes[i] <= index && index < sizes[i] && \"index out of bounds\"` failed.\n",
      "/home/conda/feedstock_root/build_artifacts/libtorch_1715185017593/work/aten/src/ATen/native/cuda/IndexKernel.cu:92: operator(): block: [52,0,0], thread: [91,0,0] Assertion `-sizes[i] <= index && index < sizes[i] && \"index out of bounds\"` failed.\n",
      "/home/conda/feedstock_root/build_artifacts/libtorch_1715185017593/work/aten/src/ATen/native/cuda/IndexKernel.cu:92: operator(): block: [52,0,0], thread: [92,0,0] Assertion `-sizes[i] <= index && index < sizes[i] && \"index out of bounds\"` failed.\n",
      "/home/conda/feedstock_root/build_artifacts/libtorch_1715185017593/work/aten/src/ATen/native/cuda/IndexKernel.cu:92: operator(): block: [52,0,0], thread: [93,0,0] Assertion `-sizes[i] <= index && index < sizes[i] && \"index out of bounds\"` failed.\n",
      "/home/conda/feedstock_root/build_artifacts/libtorch_1715185017593/work/aten/src/ATen/native/cuda/IndexKernel.cu:92: operator(): block: [52,0,0], thread: [94,0,0] Assertion `-sizes[i] <= index && index < sizes[i] && \"index out of bounds\"` failed.\n",
      "/home/conda/feedstock_root/build_artifacts/libtorch_1715185017593/work/aten/src/ATen/native/cuda/IndexKernel.cu:92: operator(): block: [52,0,0], thread: [95,0,0] Assertion `-sizes[i] <= index && index < sizes[i] && \"index out of bounds\"` failed.\n",
      "/home/conda/feedstock_root/build_artifacts/libtorch_1715185017593/work/aten/src/ATen/native/cuda/IndexKernel.cu:92: operator(): block: [52,0,0], thread: [0,0,0] Assertion `-sizes[i] <= index && index < sizes[i] && \"index out of bounds\"` failed.\n",
      "/home/conda/feedstock_root/build_artifacts/libtorch_1715185017593/work/aten/src/ATen/native/cuda/IndexKernel.cu:92: operator(): block: [52,0,0], thread: [1,0,0] Assertion `-sizes[i] <= index && index < sizes[i] && \"index out of bounds\"` failed.\n",
      "/home/conda/feedstock_root/build_artifacts/libtorch_1715185017593/work/aten/src/ATen/native/cuda/IndexKernel.cu:92: operator(): block: [52,0,0], thread: [2,0,0] Assertion `-sizes[i] <= index && index < sizes[i] && \"index out of bounds\"` failed.\n",
      "/home/conda/feedstock_root/build_artifacts/libtorch_1715185017593/work/aten/src/ATen/native/cuda/IndexKernel.cu:92: operator(): block: [52,0,0], thread: [3,0,0] Assertion `-sizes[i] <= index && index < sizes[i] && \"index out of bounds\"` failed.\n",
      "/home/conda/feedstock_root/build_artifacts/libtorch_1715185017593/work/aten/src/ATen/native/cuda/IndexKernel.cu:92: operator(): block: [52,0,0], thread: [4,0,0] Assertion `-sizes[i] <= index && index < sizes[i] && \"index out of bounds\"` failed.\n",
      "/home/conda/feedstock_root/build_artifacts/libtorch_1715185017593/work/aten/src/ATen/native/cuda/IndexKernel.cu:92: operator(): block: [52,0,0], thread: [5,0,0] Assertion `-sizes[i] <= index && index < sizes[i] && \"index out of bounds\"` failed.\n",
      "/home/conda/feedstock_root/build_artifacts/libtorch_1715185017593/work/aten/src/ATen/native/cuda/IndexKernel.cu:92: operator(): block: [52,0,0], thread: [6,0,0] Assertion `-sizes[i] <= index && index < sizes[i] && \"index out of bounds\"` failed.\n",
      "/home/conda/feedstock_root/build_artifacts/libtorch_1715185017593/work/aten/src/ATen/native/cuda/IndexKernel.cu:92: operator(): block: [52,0,0], thread: [7,0,0] Assertion `-sizes[i] <= index && index < sizes[i] && \"index out of bounds\"` failed.\n",
      "/home/conda/feedstock_root/build_artifacts/libtorch_1715185017593/work/aten/src/ATen/native/cuda/IndexKernel.cu:92: operator(): block: [52,0,0], thread: [8,0,0] Assertion `-sizes[i] <= index && index < sizes[i] && \"index out of bounds\"` failed.\n",
      "/home/conda/feedstock_root/build_artifacts/libtorch_1715185017593/work/aten/src/ATen/native/cuda/IndexKernel.cu:92: operator(): block: [52,0,0], thread: [9,0,0] Assertion `-sizes[i] <= index && index < sizes[i] && \"index out of bounds\"` failed.\n",
      "/home/conda/feedstock_root/build_artifacts/libtorch_1715185017593/work/aten/src/ATen/native/cuda/IndexKernel.cu:92: operator(): block: [52,0,0], thread: [10,0,0] Assertion `-sizes[i] <= index && index < sizes[i] && \"index out of bounds\"` failed.\n",
      "/home/conda/feedstock_root/build_artifacts/libtorch_1715185017593/work/aten/src/ATen/native/cuda/IndexKernel.cu:92: operator(): block: [52,0,0], thread: [11,0,0] Assertion `-sizes[i] <= index && index < sizes[i] && \"index out of bounds\"` failed.\n",
      "/home/conda/feedstock_root/build_artifacts/libtorch_1715185017593/work/aten/src/ATen/native/cuda/IndexKernel.cu:92: operator(): block: [52,0,0], thread: [12,0,0] Assertion `-sizes[i] <= index && index < sizes[i] && \"index out of bounds\"` failed.\n",
      "/home/conda/feedstock_root/build_artifacts/libtorch_1715185017593/work/aten/src/ATen/native/cuda/IndexKernel.cu:92: operator(): block: [52,0,0], thread: [13,0,0] Assertion `-sizes[i] <= index && index < sizes[i] && \"index out of bounds\"` failed.\n",
      "/home/conda/feedstock_root/build_artifacts/libtorch_1715185017593/work/aten/src/ATen/native/cuda/IndexKernel.cu:92: operator(): block: [52,0,0], thread: [14,0,0] Assertion `-sizes[i] <= index && index < sizes[i] && \"index out of bounds\"` failed.\n",
      "/home/conda/feedstock_root/build_artifacts/libtorch_1715185017593/work/aten/src/ATen/native/cuda/IndexKernel.cu:92: operator(): block: [52,0,0], thread: [15,0,0] Assertion `-sizes[i] <= index && index < sizes[i] && \"index out of bounds\"` failed.\n",
      "/home/conda/feedstock_root/build_artifacts/libtorch_1715185017593/work/aten/src/ATen/native/cuda/IndexKernel.cu:92: operator(): block: [52,0,0], thread: [16,0,0] Assertion `-sizes[i] <= index && index < sizes[i] && \"index out of bounds\"` failed.\n",
      "/home/conda/feedstock_root/build_artifacts/libtorch_1715185017593/work/aten/src/ATen/native/cuda/IndexKernel.cu:92: operator(): block: [52,0,0], thread: [17,0,0] Assertion `-sizes[i] <= index && index < sizes[i] && \"index out of bounds\"` failed.\n",
      "/home/conda/feedstock_root/build_artifacts/libtorch_1715185017593/work/aten/src/ATen/native/cuda/IndexKernel.cu:92: operator(): block: [52,0,0], thread: [18,0,0] Assertion `-sizes[i] <= index && index < sizes[i] && \"index out of bounds\"` failed.\n",
      "/home/conda/feedstock_root/build_artifacts/libtorch_1715185017593/work/aten/src/ATen/native/cuda/IndexKernel.cu:92: operator(): block: [52,0,0], thread: [19,0,0] Assertion `-sizes[i] <= index && index < sizes[i] && \"index out of bounds\"` failed.\n",
      "/home/conda/feedstock_root/build_artifacts/libtorch_1715185017593/work/aten/src/ATen/native/cuda/IndexKernel.cu:92: operator(): block: [52,0,0], thread: [20,0,0] Assertion `-sizes[i] <= index && index < sizes[i] && \"index out of bounds\"` failed.\n",
      "/home/conda/feedstock_root/build_artifacts/libtorch_1715185017593/work/aten/src/ATen/native/cuda/IndexKernel.cu:92: operator(): block: [52,0,0], thread: [21,0,0] Assertion `-sizes[i] <= index && index < sizes[i] && \"index out of bounds\"` failed.\n",
      "/home/conda/feedstock_root/build_artifacts/libtorch_1715185017593/work/aten/src/ATen/native/cuda/IndexKernel.cu:92: operator(): block: [52,0,0], thread: [22,0,0] Assertion `-sizes[i] <= index && index < sizes[i] && \"index out of bounds\"` failed.\n",
      "/home/conda/feedstock_root/build_artifacts/libtorch_1715185017593/work/aten/src/ATen/native/cuda/IndexKernel.cu:92: operator(): block: [52,0,0], thread: [23,0,0] Assertion `-sizes[i] <= index && index < sizes[i] && \"index out of bounds\"` failed.\n",
      "/home/conda/feedstock_root/build_artifacts/libtorch_1715185017593/work/aten/src/ATen/native/cuda/IndexKernel.cu:92: operator(): block: [52,0,0], thread: [24,0,0] Assertion `-sizes[i] <= index && index < sizes[i] && \"index out of bounds\"` failed.\n",
      "/home/conda/feedstock_root/build_artifacts/libtorch_1715185017593/work/aten/src/ATen/native/cuda/IndexKernel.cu:92: operator(): block: [52,0,0], thread: [25,0,0] Assertion `-sizes[i] <= index && index < sizes[i] && \"index out of bounds\"` failed.\n",
      "/home/conda/feedstock_root/build_artifacts/libtorch_1715185017593/work/aten/src/ATen/native/cuda/IndexKernel.cu:92: operator(): block: [52,0,0], thread: [26,0,0] Assertion `-sizes[i] <= index && index < sizes[i] && \"index out of bounds\"` failed.\n",
      "/home/conda/feedstock_root/build_artifacts/libtorch_1715185017593/work/aten/src/ATen/native/cuda/IndexKernel.cu:92: operator(): block: [52,0,0], thread: [27,0,0] Assertion `-sizes[i] <= index && index < sizes[i] && \"index out of bounds\"` failed.\n",
      "/home/conda/feedstock_root/build_artifacts/libtorch_1715185017593/work/aten/src/ATen/native/cuda/IndexKernel.cu:92: operator(): block: [52,0,0], thread: [28,0,0] Assertion `-sizes[i] <= index && index < sizes[i] && \"index out of bounds\"` failed.\n",
      "/home/conda/feedstock_root/build_artifacts/libtorch_1715185017593/work/aten/src/ATen/native/cuda/IndexKernel.cu:92: operator(): block: [52,0,0], thread: [29,0,0] Assertion `-sizes[i] <= index && index < sizes[i] && \"index out of bounds\"` failed.\n",
      "/home/conda/feedstock_root/build_artifacts/libtorch_1715185017593/work/aten/src/ATen/native/cuda/IndexKernel.cu:92: operator(): block: [52,0,0], thread: [30,0,0] Assertion `-sizes[i] <= index && index < sizes[i] && \"index out of bounds\"` failed.\n",
      "/home/conda/feedstock_root/build_artifacts/libtorch_1715185017593/work/aten/src/ATen/native/cuda/IndexKernel.cu:92: operator(): block: [52,0,0], thread: [31,0,0] Assertion `-sizes[i] <= index && index < sizes[i] && \"index out of bounds\"` failed.\n"
     ]
    },
    {
     "ename": "RuntimeError",
     "evalue": "CUDA error: device-side assert triggered\nCompile with `TORCH_USE_CUDA_DSA` to enable device-side assertions.\n",
     "output_type": "error",
     "traceback": [
      "\u001b[0;31m---------------------------------------------------------------------------\u001b[0m",
      "\u001b[0;31mRuntimeError\u001b[0m                              Traceback (most recent call last)",
      "Cell \u001b[0;32mIn[95], line 8\u001b[0m\n\u001b[1;32m      5\u001b[0m nbr_idx \u001b[38;5;241m=\u001b[39m batch[from_type][\u001b[38;5;124mf\u001b[39m\u001b[38;5;124m'\u001b[39m\u001b[38;5;132;01m{\u001b[39;00mto_type\u001b[38;5;132;01m}\u001b[39;00m\u001b[38;5;124m_field\u001b[39m\u001b[38;5;124m'\u001b[39m]\n\u001b[1;32m      6\u001b[0m m \u001b[38;5;241m=\u001b[39m torch\u001b[38;5;241m.\u001b[39mnn\u001b[38;5;241m.\u001b[39mZeroPad2d((\u001b[38;5;241m0\u001b[39m, \u001b[38;5;241m0\u001b[39m, \u001b[38;5;241m0\u001b[39m, \u001b[38;5;241m1\u001b[39m))  \u001b[38;5;66;03m# pad bottom with zeros\u001b[39;00m\n\u001b[1;32m      7\u001b[0m similarity \u001b[38;5;241m=\u001b[39m torch\u001b[38;5;241m.\u001b[39mbmm(\n\u001b[0;32m----> 8\u001b[0m     \u001b[43mm\u001b[49m\u001b[43m(\u001b[49m\u001b[43my_hat\u001b[49m\u001b[43m[\u001b[49m\u001b[43mto_type\u001b[49m\u001b[43m]\u001b[49m\u001b[43m)\u001b[49m\u001b[43m[\u001b[49m\u001b[43mnbr_idx\u001b[49m\u001b[43m]\u001b[49m,    \u001b[38;5;66;03m# 'to' x 'from' neighbors x embed\u001b[39;00m\n\u001b[1;32m      9\u001b[0m     y_hat[from_type]\u001b[38;5;241m.\u001b[39munsqueeze(\u001b[38;5;241m-\u001b[39m\u001b[38;5;241m1\u001b[39m) \u001b[38;5;66;03m# 'to' x embed x 1\u001b[39;00m\n\u001b[1;32m     10\u001b[0m )  \n",
      "\u001b[0;31mRuntimeError\u001b[0m: CUDA error: device-side assert triggered\nCompile with `TORCH_USE_CUDA_DSA` to enable device-side assertions.\n"
     ]
    }
   ],
   "source": [
    "batch = batch.to(\"cuda\")\n",
    "y_hat = model.model(batch.x_dict, batch.edge_index_dict)\n",
    "\n",
    "# Similarity of each 'from_type' to 'to_type' neighbors in embedding\n",
    "nbr_idx = batch[from_type][f'{to_type}_field']\n",
    "m = torch.nn.ZeroPad2d((0, 0, 0, 1))  # pad bottom with zeros\n",
    "similarity = torch.bmm(\n",
    "    m(y_hat[to_type])[nbr_idx],    # 'to' x 'from' neighbors x embed\n",
    "    y_hat[from_type].unsqueeze(-1) # 'to' x embed x 1\n",
    ")  "
   ]
  },
  {
   "cell_type": "code",
   "execution_count": 95,
   "id": "1f8b29cb-f435-4a85-9e00-4626b1182c7a",
   "metadata": {
    "execution": {
     "iopub.execute_input": "2024-09-11T16:41:45.805516Z",
     "iopub.status.busy": "2024-09-11T16:41:45.805120Z",
     "iopub.status.idle": "2024-09-11T16:41:47.712115Z",
     "shell.execute_reply": "2024-09-11T16:41:47.711728Z",
     "shell.execute_reply.started": "2024-09-11T16:41:45.805499Z"
    }
   },
   "outputs": [],
   "source": [
    "from segger.data.utils import get_edge_index"
   ]
  },
  {
   "cell_type": "code",
   "execution_count": 106,
   "id": "e11e4257-0150-4de4-8da9-06c515f9c3a8",
   "metadata": {
    "execution": {
     "iopub.execute_input": "2024-09-11T17:10:59.237721Z",
     "iopub.status.busy": "2024-09-11T17:10:59.237418Z",
     "iopub.status.idle": "2024-09-11T17:11:01.854157Z",
     "shell.execute_reply": "2024-09-11T17:11:01.853737Z",
     "shell.execute_reply.started": "2024-09-11T17:10:59.237705Z"
    }
   },
   "outputs": [],
   "source": []
  },
  {
   "cell_type": "code",
   "execution_count": 159,
   "id": "428d2527-d675-4123-a15a-07b50040d852",
   "metadata": {
    "execution": {
     "iopub.execute_input": "2024-09-11T17:33:40.627580Z",
     "iopub.status.busy": "2024-09-11T17:33:40.627183Z",
     "iopub.status.idle": "2024-09-11T17:33:43.566674Z",
     "shell.execute_reply": "2024-09-11T17:33:43.566222Z",
     "shell.execute_reply.started": "2024-09-11T17:33:40.627562Z"
    }
   },
   "outputs": [],
   "source": [
    "batch = batch.to('cuda')"
   ]
  },
  {
   "cell_type": "code",
   "execution_count": 163,
   "id": "c6bece28-691c-4df4-a2bf-d095f4e3d790",
   "metadata": {
    "execution": {
     "iopub.execute_input": "2024-09-11T17:34:36.715652Z",
     "iopub.status.busy": "2024-09-11T17:34:36.715179Z",
     "iopub.status.idle": "2024-09-11T17:34:39.668360Z",
     "shell.execute_reply": "2024-09-11T17:34:39.667921Z",
     "shell.execute_reply.started": "2024-09-11T17:34:36.715635Z"
    }
   },
   "outputs": [],
   "source": [
    "edge_index = edge_index.to('cuda')"
   ]
  },
  {
   "cell_type": "code",
   "execution_count": 153,
   "id": "ff1b63bb-003e-4c1a-aa81-fae34829bc59",
   "metadata": {
    "execution": {
     "iopub.execute_input": "2024-09-11T17:27:02.319914Z",
     "iopub.status.busy": "2024-09-11T17:27:02.319544Z",
     "iopub.status.idle": "2024-09-11T17:27:04.767714Z",
     "shell.execute_reply": "2024-09-11T17:27:04.767216Z",
     "shell.execute_reply.started": "2024-09-11T17:27:02.319896Z"
    }
   },
   "outputs": [],
   "source": []
  },
  {
   "cell_type": "code",
   "execution_count": 154,
   "id": "e601c9ae-53c4-4f70-bbce-e9218f9edc05",
   "metadata": {
    "execution": {
     "iopub.execute_input": "2024-09-11T17:27:04.769003Z",
     "iopub.status.busy": "2024-09-11T17:27:04.768511Z",
     "iopub.status.idle": "2024-09-11T17:27:06.585296Z",
     "shell.execute_reply": "2024-09-11T17:27:06.584913Z",
     "shell.execute_reply.started": "2024-09-11T17:27:04.768985Z"
    }
   },
   "outputs": [
    {
     "data": {
      "text/plain": [
       "tensor([[  487, 54800],\n",
       "        [  487, 46648],\n",
       "        [  487, 43892],\n",
       "        [  487, 51152],\n",
       "        [  487, 49180],\n",
       "        [  487, 55531],\n",
       "        [  487, 58221],\n",
       "        [  487, 70179],\n",
       "        [   -1,    -1],\n",
       "        [   -1,    -1]])"
      ]
     },
     "execution_count": 154,
     "metadata": {},
     "output_type": "execute_result"
    }
   ],
   "source": [
    "nbrs"
   ]
  },
  {
   "cell_type": "code",
   "execution_count": 112,
   "id": "6849fba8-fc43-4be6-9bbc-4f9fa254372e",
   "metadata": {
    "execution": {
     "iopub.execute_input": "2024-09-11T17:12:46.179595Z",
     "iopub.status.busy": "2024-09-11T17:12:46.179203Z",
     "iopub.status.idle": "2024-09-11T17:12:48.057944Z",
     "shell.execute_reply": "2024-09-11T17:12:48.057569Z",
     "shell.execute_reply.started": "2024-09-11T17:12:46.179579Z"
    }
   },
   "outputs": [
    {
     "data": {
      "text/plain": [
       "torch.Size([488, 2])"
      ]
     },
     "execution_count": 112,
     "metadata": {},
     "output_type": "execute_result"
    }
   ],
   "source": [
    "batch['bd'].pos.shape"
   ]
  },
  {
   "cell_type": "code",
   "execution_count": 113,
   "id": "db7bcd1a-1cd1-42bc-9ae7-8178372029da",
   "metadata": {
    "execution": {
     "iopub.execute_input": "2024-09-11T17:12:58.748070Z",
     "iopub.status.busy": "2024-09-11T17:12:58.747688Z",
     "iopub.status.idle": "2024-09-11T17:13:00.811813Z",
     "shell.execute_reply": "2024-09-11T17:13:00.811393Z",
     "shell.execute_reply.started": "2024-09-11T17:12:58.748052Z"
    }
   },
   "outputs": [
    {
     "data": {
      "text/plain": [
       "torch.Size([72169, 2])"
      ]
     },
     "execution_count": 113,
     "metadata": {},
     "output_type": "execute_result"
    }
   ],
   "source": [
    "batch['tx'].pos.shape"
   ]
  },
  {
   "cell_type": "code",
   "execution_count": 94,
   "id": "bc27c694-0ec0-45a8-9bb3-eaee9c2db85a",
   "metadata": {
    "execution": {
     "iopub.execute_input": "2024-09-11T16:40:49.911609Z",
     "iopub.status.busy": "2024-09-11T16:40:49.911207Z",
     "iopub.status.idle": "2024-09-11T16:40:51.515531Z",
     "shell.execute_reply": "2024-09-11T16:40:51.515058Z",
     "shell.execute_reply.started": "2024-09-11T16:40:49.911593Z"
    }
   },
   "outputs": [
    {
     "data": {
      "text/plain": [
       "torch.Size([488, 2])"
      ]
     },
     "execution_count": 94,
     "metadata": {},
     "output_type": "execute_result"
    }
   ],
   "source": [
    "batch['bd'].pos[:, :2].shape"
   ]
  },
  {
   "cell_type": "code",
   "execution_count": 86,
   "id": "073a3481-9bb8-459b-9d73-d3d35ea8dfd6",
   "metadata": {
    "execution": {
     "iopub.execute_input": "2024-09-11T15:16:13.766912Z",
     "iopub.status.busy": "2024-09-11T15:16:13.766488Z",
     "iopub.status.idle": "2024-09-11T15:16:17.056077Z",
     "shell.execute_reply": "2024-09-11T15:16:17.055445Z",
     "shell.execute_reply.started": "2024-09-11T15:16:13.766889Z"
    }
   },
   "outputs": [
    {
     "name": "stderr",
     "output_type": "stream",
     "text": [
      "\n",
      "  0%|          | 0/7 [00:00<?, ?it/s]\u001b[A\n"
     ]
    },
    {
     "ename": "KeyError",
     "evalue": "'bd_field'",
     "output_type": "error",
     "traceback": [
      "\u001b[0;31m---------------------------------------------------------------------------\u001b[0m",
      "\u001b[0;31mKeyError\u001b[0m                                  Traceback (most recent call last)",
      "Cell \u001b[0;32mIn[86], line 1\u001b[0m\n\u001b[0;32m----> 1\u001b[0m segmentation \u001b[38;5;241m=\u001b[39m \u001b[43mpredict\u001b[49m\u001b[43m(\u001b[49m\n\u001b[1;32m      2\u001b[0m \u001b[43m    \u001b[49m\u001b[43mmodel\u001b[49m\u001b[43m,\u001b[49m\n\u001b[1;32m      3\u001b[0m \u001b[43m    \u001b[49m\u001b[43mdm\u001b[49m\u001b[38;5;241;43m.\u001b[39;49m\u001b[43mtrain_dataloader\u001b[49m\u001b[43m(\u001b[49m\u001b[43m)\u001b[49m\u001b[43m,\u001b[49m\n\u001b[1;32m      4\u001b[0m \u001b[43m    \u001b[49m\u001b[43mscore_cut\u001b[49m\u001b[43m \u001b[49m\u001b[38;5;241;43m=\u001b[39;49m\u001b[43m \u001b[49m\u001b[38;5;241;43m0.5\u001b[39;49m\u001b[43m,\u001b[49m\n\u001b[1;32m      5\u001b[0m \u001b[43m    \u001b[49m\u001b[43muse_cc\u001b[49m\u001b[43m \u001b[49m\u001b[38;5;241;43m=\u001b[39;49m\u001b[43m \u001b[49m\u001b[38;5;28;43;01mFalse\u001b[39;49;00m\u001b[43m,\u001b[49m\n\u001b[1;32m      6\u001b[0m \u001b[43m)\u001b[49m\n",
      "File \u001b[0;32m/lilac/data/peer/moormana/GitHub/dpeerlab/segger_dev/src/segger/prediction/predict.py:235\u001b[0m, in \u001b[0;36mpredict\u001b[0;34m(lit_segger, data_loader, score_cut, use_cc)\u001b[0m\n\u001b[1;32m    232\u001b[0m \u001b[38;5;66;03m# Assign transcripts from each batch to nuclei\u001b[39;00m\n\u001b[1;32m    233\u001b[0m \u001b[38;5;66;03m# TODO: parallelize this step\u001b[39;00m\n\u001b[1;32m    234\u001b[0m \u001b[38;5;28;01mfor\u001b[39;00m batch \u001b[38;5;129;01min\u001b[39;00m tqdm(data_loader):\n\u001b[0;32m--> 235\u001b[0m     batch_assignments \u001b[38;5;241m=\u001b[39m \u001b[43mpredict_batch\u001b[49m\u001b[43m(\u001b[49m\u001b[43mlit_segger\u001b[49m\u001b[43m,\u001b[49m\u001b[43m \u001b[49m\u001b[43mbatch\u001b[49m\u001b[43m,\u001b[49m\u001b[43m \u001b[49m\u001b[43mscore_cut\u001b[49m\u001b[43m,\u001b[49m\u001b[43m \u001b[49m\u001b[43muse_cc\u001b[49m\u001b[43m)\u001b[49m\n\u001b[1;32m    236\u001b[0m     assignments\u001b[38;5;241m.\u001b[39mappend(batch_assignments)\n\u001b[1;32m    238\u001b[0m \u001b[38;5;66;03m# Join across batches and handle duplicates between batches\u001b[39;00m\n",
      "File \u001b[0;32m/lilac/data/peer/moormana/GitHub/dpeerlab/segger_dev/src/segger/prediction/predict.py:176\u001b[0m, in \u001b[0;36mpredict_batch\u001b[0;34m(lit_segger, batch, score_cut, use_cc)\u001b[0m\n\u001b[1;32m    173\u001b[0m assignments[\u001b[38;5;124m'\u001b[39m\u001b[38;5;124mtranscript_id\u001b[39m\u001b[38;5;124m'\u001b[39m] \u001b[38;5;241m=\u001b[39m batch[\u001b[38;5;124m'\u001b[39m\u001b[38;5;124mtx\u001b[39m\u001b[38;5;124m'\u001b[39m]\u001b[38;5;241m.\u001b[39mid\u001b[38;5;241m.\u001b[39mcpu()\u001b[38;5;241m.\u001b[39mnumpy()\n\u001b[1;32m    175\u001b[0m \u001b[38;5;66;03m# Transcript-cell similarity scores, filtered by neighbors\u001b[39;00m\n\u001b[0;32m--> 176\u001b[0m scores \u001b[38;5;241m=\u001b[39m \u001b[43mget_similarity_scores\u001b[49m\u001b[43m(\u001b[49m\u001b[43mlit_segger\u001b[49m\u001b[38;5;241;43m.\u001b[39;49m\u001b[43mmodel\u001b[49m\u001b[43m,\u001b[49m\u001b[43m \u001b[49m\u001b[43mbatch\u001b[49m\u001b[43m,\u001b[49m\u001b[43m \u001b[49m\u001b[38;5;124;43m\"\u001b[39;49m\u001b[38;5;124;43mtx\u001b[39;49m\u001b[38;5;124;43m\"\u001b[39;49m\u001b[43m,\u001b[49m\u001b[43m \u001b[49m\u001b[38;5;124;43m\"\u001b[39;49m\u001b[38;5;124;43mbd\u001b[39;49m\u001b[38;5;124;43m\"\u001b[39;49m\u001b[43m)\u001b[49m\n\u001b[1;32m    178\u001b[0m \u001b[38;5;66;03m# 1. Get direct assignments from similarity matrix\u001b[39;00m\n\u001b[1;32m    179\u001b[0m belongs \u001b[38;5;241m=\u001b[39m scores\u001b[38;5;241m.\u001b[39mmax(\u001b[38;5;241m1\u001b[39m)\n",
      "File \u001b[0;32m/lilac/data/peer/moormana/GitHub/dpeerlab/segger_dev/src/segger/prediction/predict.py:112\u001b[0m, in \u001b[0;36mget_similarity_scores\u001b[0;34m(model, batch, from_type, to_type)\u001b[0m\n\u001b[1;32m    109\u001b[0m y_hat \u001b[38;5;241m=\u001b[39m model(batch\u001b[38;5;241m.\u001b[39mx_dict, batch\u001b[38;5;241m.\u001b[39medge_index_dict)\n\u001b[1;32m    111\u001b[0m \u001b[38;5;66;03m# Similarity of each 'from_type' to 'to_type' neighbors in embedding\u001b[39;00m\n\u001b[0;32m--> 112\u001b[0m nbr_idx \u001b[38;5;241m=\u001b[39m \u001b[43mbatch\u001b[49m\u001b[43m[\u001b[49m\u001b[43mfrom_type\u001b[49m\u001b[43m]\u001b[49m\u001b[43m[\u001b[49m\u001b[38;5;124;43mf\u001b[39;49m\u001b[38;5;124;43m'\u001b[39;49m\u001b[38;5;132;43;01m{\u001b[39;49;00m\u001b[43mto_type\u001b[49m\u001b[38;5;132;43;01m}\u001b[39;49;00m\u001b[38;5;124;43m_field\u001b[39;49m\u001b[38;5;124;43m'\u001b[39;49m\u001b[43m]\u001b[49m\n\u001b[1;32m    113\u001b[0m m \u001b[38;5;241m=\u001b[39m torch\u001b[38;5;241m.\u001b[39mnn\u001b[38;5;241m.\u001b[39mZeroPad2d((\u001b[38;5;241m0\u001b[39m, \u001b[38;5;241m0\u001b[39m, \u001b[38;5;241m0\u001b[39m, \u001b[38;5;241m1\u001b[39m))  \u001b[38;5;66;03m# pad bottom with zeros\u001b[39;00m\n\u001b[1;32m    114\u001b[0m similarity \u001b[38;5;241m=\u001b[39m torch\u001b[38;5;241m.\u001b[39mbmm(\n\u001b[1;32m    115\u001b[0m     m(y_hat[to_type])[nbr_idx],    \u001b[38;5;66;03m# 'to' x 'from' neighbors x embed\u001b[39;00m\n\u001b[1;32m    116\u001b[0m     y_hat[from_type]\u001b[38;5;241m.\u001b[39munsqueeze(\u001b[38;5;241m-\u001b[39m\u001b[38;5;241m1\u001b[39m) \u001b[38;5;66;03m# 'to' x embed x 1\u001b[39;00m\n\u001b[1;32m    117\u001b[0m )                                  \u001b[38;5;66;03m# -> 'to' x 'from' neighbors x 1\u001b[39;00m\n",
      "File \u001b[0;32m/lilac/data/peer/moormana/.micromamba/envs/segger-rapids-11.8/lib/python3.11/site-packages/torch_geometric/data/storage.py:118\u001b[0m, in \u001b[0;36mBaseStorage.__getitem__\u001b[0;34m(self, key)\u001b[0m\n\u001b[1;32m    117\u001b[0m \u001b[38;5;28;01mdef\u001b[39;00m \u001b[38;5;21m__getitem__\u001b[39m(\u001b[38;5;28mself\u001b[39m, key: \u001b[38;5;28mstr\u001b[39m) \u001b[38;5;241m-\u001b[39m\u001b[38;5;241m>\u001b[39m Any:\n\u001b[0;32m--> 118\u001b[0m     \u001b[38;5;28;01mreturn\u001b[39;00m \u001b[38;5;28;43mself\u001b[39;49m\u001b[38;5;241;43m.\u001b[39;49m\u001b[43m_mapping\u001b[49m\u001b[43m[\u001b[49m\u001b[43mkey\u001b[49m\u001b[43m]\u001b[49m\n",
      "\u001b[0;31mKeyError\u001b[0m: 'bd_field'"
     ]
    }
   ],
   "source": [
    "segmentation = predict(\n",
    "    model,\n",
    "    dm.train_dataloader(),\n",
    "    score_cut = 0.5,\n",
    "    use_cc = False,\n",
    ")"
   ]
  },
  {
   "cell_type": "code",
   "execution_count": null,
   "id": "a450d3ca-2876-4f48-be89-761147b17387",
   "metadata": {},
   "outputs": [],
   "source": []
  }
 ],
 "metadata": {
  "kernelspec": {
   "display_name": "Python 3 (ipykernel)",
   "language": "python",
   "name": "python3"
  },
  "language_info": {
   "codemirror_mode": {
    "name": "ipython",
    "version": 3
   },
   "file_extension": ".py",
   "mimetype": "text/x-python",
   "name": "python",
   "nbconvert_exporter": "python",
   "pygments_lexer": "ipython3",
   "version": "3.11.9"
  }
 },
 "nbformat": 4,
 "nbformat_minor": 5
}
