{
 "cells": [
  {
   "cell_type": "markdown",
   "metadata": {},
   "source": [
    "# Gene-Gene Attention Visualization\n",
    "\n",
    "This notebook visualizes gene-gene attention, UMAP, and clustering results.\n",
    "\n",
    "**Before running this notebook, make sure to run the data processing script:**\n",
    "\n",
    "```bash\n",
    "python docs/notebooks/scripts/gene_gene_attention_processing.py\n",
    "```\n",
    "\n",
    "This will generate the required files in `intermediate_data/`."
   ]
  },
  {
   "cell_type": "code",
   "execution_count": 5,
   "metadata": {},
   "outputs": [],
   "source": [
    "import pickle\n",
    "import numpy as np\n",
    "import pandas as pd\n",
    "import matplotlib.pyplot as plt\n",
    "from pathlib import Path\n",
    "from visualization.gene_clustering import hierarchical_clustering_umap\n",
    "\n",
    "# Load clustering results\n",
    "with open(Path('intermediate_data') / 'clustering_results_tx-tx.pkl', 'rb') as f:\n",
    "    clustering_results = pickle.load(f)\n",
    "\n",
    "# TODO: Load any additional data needed for visualization (e.g., gene names, attention matrices)\n"
   ]
  },
  {
   "cell_type": "markdown",
   "metadata": {},
   "source": [
    "## UMAP and Clustering Visualization\n",
    "\n",
    "Visualize the UMAP embedding and clustering results."
   ]
  },
  {
   "cell_type": "code",
   "execution_count": 6,
   "metadata": {},
   "outputs": [
    {
     "name": "stderr",
     "output_type": "stream",
     "text": [
      "/Users/finleyyu/anaconda3/envs/segger/lib/python3.11/site-packages/scipy/sparse/_index.py:210: SparseEfficiencyWarning: Changing the sparsity structure of a csr_matrix is expensive. lil and dok are more efficient.\n",
      "  self._set_arrayXarray(i, j, x)\n",
      "/Users/finleyyu/anaconda3/envs/segger/lib/python3.11/site-packages/tqdm/auto.py:21: TqdmWarning: IProgress not found. Please update jupyter and ipywidgets. See https://ipywidgets.readthedocs.io/en/stable/user_install.html\n",
      "  from .autonotebook import tqdm as notebook_tqdm\n",
      "OMP: Info #276: omp_set_nested routine deprecated, please use omp_set_max_active_levels instead.\n"
     ]
    }
   ],
   "source": [
    "# TODO: Add code to plot UMAP embedding and clustering\n",
    "# Example: plt.scatter(...), etc.\n",
    "# load attention gene matrix dict\n",
    "with open(Path('results') / f'attention_gene_matrix_dict_tx-tx.pkl', 'rb') as f:\n",
    "    attention_gene_matrix_dict = pickle.load(f)\n",
    "\n",
    "# Get classified genes (it contains the gene names and groups)\n",
    "gene_types = pd.read_csv(Path('data_xenium') / 'gene_groups_ordered_color.csv')\n",
    "gene_types_dict = dict(zip(gene_types['gene'], gene_types['group']))\n",
    "\n",
    "# Load transcripts\n",
    "transcripts = pd.read_parquet(Path('data_xenium') / 'transcripts.parquet')\n",
    "\n",
    "# Get gene names\n",
    "gene_names = transcripts['feature_name'].unique()\n",
    "\n",
    "# Add negative control genes to the gene_types_dict\n",
    "negative_control_genes = [\n",
    "    'NegControlProbe_00034', 'NegControlProbe_00004', 'NegControlCodeword_0526',\n",
    "    'NegControlCodeword_0517', 'NegControlProbe_00035', 'NegControlCodeword_0514',\n",
    "    'NegControlCodeword_0506', 'NegControlCodeword_0534', 'NegControlProbe_00041',\n",
    "    'NegControlCodeword_0513', 'NegControlCodeword_0531', 'NegControlCodeword_0522',\n",
    "    'NegControlCodeword_0523', 'NegControlProbe_00022', 'NegControlProbe_00031',\n",
    "    'NegControlCodeword_0530', 'NegControlCodeword_0508', 'NegControlCodeword_0511',\n",
    "    'NegControlCodeword_0510', 'NegControlProbe_00024', 'NegControlProbe_00039',\n",
    "    'NegControlProbe_00002', 'NegControlCodeword_0528', 'NegControlCodeword_0540',\n",
    "    'NegControlCodeword_0503', 'NegControlCodeword_0536', 'NegControlCodeword_0539',\n",
    "    'NegControlProbe_00013', 'NegControlCodeword_0520', 'NegControlCodeword_0524',\n",
    "    'NegControlCodeword_0533', 'NegControlProbe_00042', 'BLANK_0069',\n",
    "    'NegControlProbe_00025', 'NegControlProbe_00017', 'NegControlCodeword_0502',\n",
    "    'NegControlProbe_00003', 'NegControlCodeword_0515', 'NegControlCodeword_0537',\n",
    "    'NegControlProbe_00012', 'NegControlProbe_00016', 'NegControlCodeword_0521',\n",
    "    'NegControlCodeword_0507', 'NegControlCodeword_0529', 'NegControlProbe_00033',\n",
    "    'NegControlCodeword_0505', 'NegControlCodeword_0519', 'NegControlCodeword_0509',\n",
    "    'NegControlCodeword_0500', 'NegControlCodeword_0538', 'NegControlProbe_00014',\n",
    "    'NegControlCodeword_0516', 'NegControlCodeword_0535', 'NegControlCodeword_0527',\n",
    "    'NegControlCodeword_0504', 'NegControlCodeword_0525', 'NegControlCodeword_0512',\n",
    "    'BLANK_0037', 'NegControlCodeword_0518', 'NegControlCodeword_0532',\n",
    "    'NegControlProbe_00019', 'BLANK_0006', 'NegControlCodeword_0501'\n",
    "]\n",
    "gene_types_dict.update(dict(zip(negative_control_genes, ['negative_control'] * len(negative_control_genes))))\n",
    "\n",
    "# Sum across layers and heads to derive the attention matrix\n",
    "attention_matrix = np.zeros_like(attention_gene_matrix_dict['adj_matrix'][0][0].toarray())\n",
    "n_layers = 5\n",
    "n_heads = 4\n",
    "for layer_idx in [4]:\n",
    "    for head_idx in range(n_heads):\n",
    "        attention_matrix += attention_gene_matrix_dict['adj_matrix'][layer_idx][head_idx].toarray()\n",
    "\n",
    "# Hierarchical clustering (no visualization)\n",
    "clustering_results = hierarchical_clustering_umap(\n",
    "    attention_matrix,\n",
    "    n_neighbors_list=[15],\n",
    "    n_components_list=[5],\n",
    "    min_dist=0.1,\n",
    "    n_clusters=5,\n",
    "    random_state=42,\n",
    "    visualization=True\n",
    ")"
   ]
  },
  {
   "cell_type": "markdown",
   "metadata": {},
   "source": [
    "## Attention Heatmap\n",
    "\n",
    "Visualize the gene-gene attention matrix as a heatmap."
   ]
  },
  {
   "cell_type": "code",
   "execution_count": null,
   "metadata": {},
   "outputs": [],
   "source": [
    "# TODO: Add code to plot attention heatmap\n"
   ]
  }
 ],
 "metadata": {
  "kernelspec": {
   "display_name": "segger",
   "language": "python",
   "name": "python3"
  },
  "language_info": {
   "codemirror_mode": {
    "name": "ipython",
    "version": 3
   },
   "file_extension": ".py",
   "mimetype": "text/x-python",
   "name": "python",
   "nbconvert_exporter": "python",
   "pygments_lexer": "ipython3",
   "version": "3.11.12"
  }
 },
 "nbformat": 4,
 "nbformat_minor": 2
}
