{
 "cells": [
  {
   "cell_type": "code",
   "execution_count": null,
   "metadata": {},
   "outputs": [],
   "source": [
    "# Segmentation Method Benchmarking: General Statistics and Beyond\n",
    "\n",
    "This notebook provides a step-by-step approach to calculating various metrics for benchmarking segmentation methods in single-cell transcriptomics. We will start with general statistics and proceed to advanced metrics, including F1 purity, neighborhood entropy, MECR, and contamination.\n",
    "\n",
    "## 0. Setup: Import Required Packages and Define Paths\n",
    "\n"
   ]
  },
  {
   "cell_type": "code",
   "execution_count": null,
   "metadata": {},
   "outputs": [],
   "source": [
    "import pandas as pd\n",
    "import scanpy as sc\n",
    "import seaborn as sns\n",
    "import matplotlib.pyplot as plt\n",
    "from pathlib import Path\n",
    "from itertools import combinations\n",
    "from matplotlib.backends.backend_pdf import PdfPages\n",
    "\n",
    "# Define paths and segmentation methods\n",
    "benchmarks_path      = Path('/dkfz/cluster/gpu/data/OE0606/elihei/segger_experiments/data_tidy/benchmarks/xe_rep1_bc')\n",
    "output_path          = benchmarks_path / 'resutls'\n",
    "output_path.mkdir(parents = True, exist_ok=True)\n",
    "segmentation_methods = ['segger', 'segger_n0', 'segger_n1', 'Baysor', '10X', '10X-nucleus']\n",
    "\n",
    "# Load the AnnData objects for each segmentation method\n",
    "adata_segger  = sc.read(benchmarks_path / 'adata_segger.h5ad')\n",
    "adata_baysor  = sc.read(benchmarks_path / 'adata_baysor.h5ad')\n",
    "adata_10X     = sc.read(benchmarks_path / 'adata_10X.h5ad')\n",
    "adata_10X_nuc = sc.read(benchmarks_path / 'adata_10X_nuc.h5ad')\n",
    "\n",
    "cells_n1 = [i for i in adata_segger.obs_names if not i.endswith('-nx')]\n",
    "cells_n0 = [i for i in adata_segger.obs_names if i.endswith('-nx')]\n",
    "adata_segger_n1 = adata_segger[cells_n1,:]\n",
    "adata_segger_n0 = adata_segger[cells_n0,:]\n",
    "\n",
    "scRNAseq = sc.read_h5ad(Path('data_tidy') /  \"BC_atlas_xe.h5ad\")\n",
    "genes = scRNAseq.var_names\n",
    "\n",
    "segmentations = [adata_segger, adata_segger_n0, adata_segger_n1, adata_baysor, adata_10X, adata_10X_nuc]\n",
    "segmentations_dict = dict(zip(segmentation_methods, segmentations))\n",
    "\n",
    "max_area = adata_10X.obs.cell_area.max()\n",
    "min_area = adata_10X_nuc.obs.cell_area.min()\n",
    "min_transcripts = adata_10X_nuc.obs.transcripts.min()\n",
    "\n",
    "segmentations = [x[(x.obs.cell_area > min_area) & (x.obs.cell_area < max_area) & (x.obs.transcripts > min_transcripts)] for x in segmentations]"
   ]
  },
  {
   "cell_type": "markdown",
   "metadata": {},
   "source": []
  },
  {
   "cell_type": "markdown",
   "metadata": {},
   "source": [
    "## 1. General Statistics\n",
    "\n",
    "### Number of cells"
   ]
  },
  {
   "cell_type": "code",
   "execution_count": null,
   "metadata": {},
   "outputs": [],
   "source": []
  },
  {
   "cell_type": "markdown",
   "metadata": {},
   "source": []
  },
  {
   "cell_type": "code",
   "execution_count": null,
   "metadata": {},
   "outputs": [],
   "source": []
  },
  {
   "cell_type": "markdown",
   "metadata": {},
   "source": []
  }
 ],
 "metadata": {
  "language_info": {
   "name": "python"
  },
  "orig_nbformat": 4
 },
 "nbformat": 4,
 "nbformat_minor": 2
}
