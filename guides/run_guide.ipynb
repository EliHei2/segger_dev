{
 "cells": [
  {
   "cell_type": "markdown",
   "id": "8e2ddeab",
   "metadata": {},
   "source": [
    "### Running Segger"
   ]
  },
  {
   "cell_type": "markdown",
   "id": "402728aa",
   "metadata": {},
   "source": [
    "This notebook runs the complete Segger pipeline end-to-end from a single YAML configuration file (`config.yaml`). It will:\n",
    "\n",
    "- Create and validate the dataset  \n",
    "- Train the GNN model with your specified parameters  \n",
    "- Predict edges in the resulting graph  \n",
    "\n",
    "Below you will find:  \n",
    "1. A description of the configuration parameters  \n",
    "2. A minimal code snippet to execute the pipeline  \n"
   ]
  },
  {
   "cell_type": "markdown",
   "id": "f29633f9",
   "metadata": {},
   "source": [
    "#### 1. Config YAML Documentation"
   ]
  },
  {
   "cell_type": "markdown",
   "id": "a84eb251",
   "metadata": {},
   "source": [
    "##### create_dataset"
   ]
  },
  {
   "cell_type": "markdown",
   "id": "b92cea18",
   "metadata": {},
   "source": [
    "- **save_dir** (DirectoryPath): Directory for saving generated datasets; created if parent exists\n",
    "\n",
    "- **transcripts_parquet** (FilePath): Path to the transcripts Parquet file\n",
    "\n",
    "- **boundaries_parquet** (FilePath): Path to the boundaries Parquet file (GeoParquet polygons)\n",
    "\n",
    "- **transcripts_feature_name** (str): Column name for transcript feature labels\n",
    "\n",
    "- **transcripts_cell_id** (str): Column name for transcript cell IDs\n",
    "\n",
    "- **transcripts_x** (str): Column name for transcript x-coordinates\n",
    "\n",
    "- **transcripts_y** (str): Column name for transcript y-coordinates\n",
    "\n",
    "- **transcripts_k** (PositiveInt): Number of neighbors for transcript graph\n",
    "\n",
    "- **transcripts_dist** (PositiveFloat): Max distance for transcript neighbor search\n",
    "\n",
    "- **boundaries_k** (PositiveInt): Number of neighbors for boundary graph\n",
    "\n",
    "- **boundaries_dist** (PositiveFloat): Max distance for boundary neighbor search\n",
    "\n",
    "- **tile_margin** (PositiveFloat): Margin around each tile\n",
    "\n",
    "- **max_cells_per_tile** (PositiveInt, optional): Max cells allowed per tile\n",
    "\n",
    "- **max_transcripts_per_tile** (PositiveInt, optional): Max transcripts allowed per tile\n",
    "\n",
    "- **fraction_train** (PositiveFloat < 1): Fraction of data for training\n",
    "\n",
    "- **fraction_test** (PositiveFloat < 1): Fraction of data for testing\n",
    "\n",
    "- **fraction_val** (PositiveFloat < 1): Fraction of data for validation\n",
    "\n",
    "- **n_workers** (int ≥ –1): number of worker processes (–1 = all cores)\n"
   ]
  },
  {
   "cell_type": "markdown",
   "id": "b91c1fc6",
   "metadata": {},
   "source": [
    "##### train"
   ]
  },
  {
   "cell_type": "markdown",
   "id": "c2199d88",
   "metadata": {},
   "source": [
    "- **save_dir** (DirectoryPath): Directory for saving training outputs; created if parent exists\n",
    "\n",
    "- **checkpoint_path** (FilePath, optional): Path to resume training from a checkpoint\n",
    "\n",
    "- **in_channels** (PositiveInt): Number of input channels\n",
    "\n",
    "- **hidden_channels** (PositiveInt): Number of hidden channels\n",
    "\n",
    "- **out_channels** (PositiveInt): Number of output channels\n",
    "\n",
    "- **n_mid_layers** (PositiveInt): Number of middle GNN layers\n",
    "\n",
    "- **n_heads** (PositiveInt): Number of attention heads\n",
    "\n",
    "- **gene_embedding_weights** (FilePath, optional): CSV of pretrained gene embeddings; checked for format\n",
    "\n",
    "- **learning_rate** (PositiveFloat): Learning rate\n",
    "\n",
    "- **batch_size** (PositiveInt): Batch size\n",
    "\n",
    "- **n_workers** (int ≥ –1): number of worker processes (–1 = all cores)\n",
    "\n",
    "- **max_transcripts_k** (int, optional): Max k for transcript neighbors during training\n",
    "\n",
    "- **max_transcripts_dist** (float, optional): Max distance for transcript neighbors during training\n",
    "\n",
    "- **negative_edge_sampling_ratio** (PositiveInt): Ratio for negative edge sampling\n",
    "\n",
    "- **n_epochs** (PositiveInt): Number of training epochs\n",
    "\n",
    "- **random_seed** (int, optional): Seed for reproducibility"
   ]
  },
  {
   "cell_type": "markdown",
   "id": "24e21073",
   "metadata": {},
   "source": [
    "##### predict"
   ]
  },
  {
   "cell_type": "markdown",
   "id": "4f622169",
   "metadata": {},
   "source": [
    "- **save_dir** (DirectoryPath): Directory for saving prediction outputs; created if parent exists\n",
    "\n",
    "- **receptive_field_k** (PositiveInt): Number of neighbors for receptive field\n",
    "\n",
    "- **receptive_field_dist** (PositiveFloat): Max distance for receptive field\n",
    "\n",
    "- **min_score** (float [0–1]): Minimum score threshold for predicted edges"
   ]
  },
  {
   "cell_type": "markdown",
   "id": "8dad28ea",
   "metadata": {},
   "source": [
    "#### 2. Minimal Segger Pipeline"
   ]
  },
  {
   "cell_type": "code",
   "execution_count": null,
   "id": "8b9cd54a",
   "metadata": {},
   "outputs": [],
   "source": [
    "# Remove SLURM environment autodetect\n",
    "from lightning.pytorch.plugins.environments import SLURMEnvironment\n",
    "SLURMEnvironment.detect = lambda: False\n",
    "\n",
    "# Warnings\n",
    "import warnings\n",
    "warnings.filterwarnings('ignore', category=FutureWarning)\n",
    "\n",
    "# Segger imports\n",
    "import logging\n",
    "from lightning.pytorch import Trainer\n",
    "from lightning.pytorch.loggers import CSVLogger\n",
    "\n",
    "from segger.config.utils import (\n",
    "    model_from_config,\n",
    "    predict_from_config,\n",
    "    ist_sample_from_config,\n",
    "    data_module_from_config,\n",
    ")\n",
    "from segger.config import SeggerConfig\n",
    "\n",
    "overwrite = False\n",
    "verbose = True"
   ]
  },
  {
   "cell_type": "code",
   "execution_count": null,
   "id": "05116464",
   "metadata": {},
   "outputs": [],
   "source": [
    "# Setup logging\n",
    "logging.basicConfig(level=logging.INFO)\n",
    "logger = logging.getLogger(\"Segger Pipeline\")\n",
    "for log in [\n",
    "    \"lightning\",\n",
    "    \"lightning.pytorch.utilities.rank_zero\",\n",
    "    \"lightning.pytorch.accelerators.cuda\",\n",
    "]:\n",
    "    logging.getLogger(log).setLevel(logging.WARNING)"
   ]
  },
  {
   "cell_type": "code",
   "execution_count": null,
   "id": "00bc01d3",
   "metadata": {},
   "outputs": [],
   "source": [
    "# 0. Load configuration\n",
    "config_path = \"../path/to/your/config.yaml\"\n",
    "config = SeggerConfig.from_yaml(config_path)"
   ]
  },
  {
   "cell_type": "code",
   "execution_count": null,
   "id": "e6a102f6",
   "metadata": {},
   "outputs": [],
   "source": [
    "# 1. Dataset creation\n",
    "logger.info(\"Creating dataset...\")\n",
    "try:\n",
    "    sample = ist_sample_from_config(config)\n",
    "    sample.save(pbar=verbose, overwrite=overwrite)\n",
    "except FileExistsError as e:\n",
    "    msg = (\n",
    "        f\"Data directory already exists and is non<br>-empty. \"\n",
    "        \"Skipping tile creation.\"\n",
    "    )\n",
    "    logger.warning(msg)"
   ]
  },
  {
   "cell_type": "code",
   "execution_count": null,
   "id": "1d5badd4",
   "metadata": {},
   "outputs": [],
   "source": [
    "# 2. Training\n",
    "logger.info(\"Training model...\")\n",
    "csv_logger = CSVLogger(config.train.save_dir)\n",
    "trainer = Trainer(\n",
    "    logger=csv_logger,\n",
    "    max_epochs=config.train.n_epochs,\n",
    "    enable_progress_bar=verbose,\n",
    "    enable_model_summary=verbose,\n",
    ")\n",
    "trainer.fit(\n",
    "    model=model_from_config(config),\n",
    "    datamodule=data_module_from_config(config),\n",
    "    ckpt_path=config.train.checkpoint_path,\n",
    ")"
   ]
  },
  {
   "cell_type": "code",
   "execution_count": null,
   "id": "8ceb9535",
   "metadata": {},
   "outputs": [],
   "source": [
    "# 3. Prediction\n",
    "logger.info(\"Predicting edges...\")\n",
    "predict_from_config(config, pbar=verbose)"
   ]
  }
 ],
 "metadata": {
  "kernelspec": {
   "display_name": "Python 3",
   "language": "python",
   "name": "python3"
  },
  "language_info": {
   "codemirror_mode": {
    "name": "ipython",
    "version": 3
   },
   "file_extension": ".py",
   "mimetype": "text/x-python",
   "name": "python",
   "nbconvert_exporter": "python",
   "pygments_lexer": "ipython3",
   "version": "3.11.11"
  }
 },
 "nbformat": 4,
 "nbformat_minor": 5
}
